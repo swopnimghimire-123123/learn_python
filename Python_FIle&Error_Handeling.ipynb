{
 "cells": [
  {
   "cell_type": "markdown",
   "id": "ce7bdf12-3e51-4d1a-901e-57465ec33219",
   "metadata": {},
   "source": [
    "### File Handeling in python"
   ]
  },
  {
   "cell_type": "markdown",
   "id": "89dc94d1-f71b-4dd6-921c-86403195bb42",
   "metadata": {},
   "source": [
    "File access modes determine how a file will be used when it is opened. They control whether you can read from, write to, or add to a file.\n",
    "\n",
    "Here are the six main file access modes in Python:\n",
    "\n",
    "- 'r' (Read): Opens the file for reading. This is the default mode. The file must already exist.\n",
    "\n",
    "- 'w' (Write): Opens the file for writing. This will erase all existing content in the file. If the file doesn't exist, it creates a new one.\n",
    "\n",
    "- 'a' (Append): Opens the file for writing, but new data is added to the end of the file. It does not erase previous content. If the file doesn't          exist, it creates a new one.\n",
    "\n",
    "- 'r+' (Read & Write): Opens the file for both reading and writing. The file must already exist.\n",
    "\n",
    "- 'w+' (Write & Read): Opens the file for both reading and writing. It first erases all content in the file or creates a new one.\n",
    "\n",
    "- 'a+' (Append & Read): Opens the file for both reading and writing. It adds new data to the end of the file. If the file doesn't exist, it creates a      new one."
   ]
  },
  {
   "cell_type": "code",
   "execution_count": 2,
   "id": "625aba24-cf37-4314-b927-c0fd04d44e66",
   "metadata": {},
   "outputs": [
    {
     "data": {
      "text/plain": [
       "\"File access modes determine how a file will be used when it is opened. They control whether you can read from, write to, or add to a file.\\n\\nHere are the six main file access modes in Python:\\n\\n'r' (Read): Opens the file for reading. This is the default mode. The file must already exist.\\n\\n'w' (Write): Opens the file for writing. This will erase all existing content in the file. If the file doesn't exist, it creates a new one.\\n\\n'a' (Append): Opens the file for writing, but new data is added to the end of the file. It does not erase previous content. If the file doesn't exist, it creates a new one.\\n\\n'r+' (Read & Write): Opens the file for both reading and writing. The file must already exist.\\n\\n'w+' (Write & Read): Opens the file for both reading and writing. It first erases all content in the file or creates a new one.\\n\\n'a+' (Append & Read): Opens the file for both reading and writing. It adds new data to the end of the file. If the file doesn't exist, it creates a new one.\""
      ]
     },
     "execution_count": 2,
     "metadata": {},
     "output_type": "execute_result"
    }
   ],
   "source": [
    "#opening a file\n",
    "file=open(\"hello.txt\",\"r\")\n",
    "file.read()"
   ]
  },
  {
   "cell_type": "code",
   "execution_count": 4,
   "id": "b1e927da-306f-4aec-b638-3b7a12500e5f",
   "metadata": {},
   "outputs": [],
   "source": [
    "#closing a file\n",
    "file.close()"
   ]
  },
  {
   "cell_type": "code",
   "execution_count": 6,
   "id": "be0388ba-8e5f-4dea-a0cc-29ac890dc47c",
   "metadata": {},
   "outputs": [
    {
     "data": {
      "text/plain": [
       "'File access modes determine how a file will be use'"
      ]
     },
     "execution_count": 6,
     "metadata": {},
     "output_type": "execute_result"
    }
   ],
   "source": [
    "#opening a file and reading only the fifty bits\n",
    "file=open(\"hello.txt\",\"r\")\n",
    "file.read(50)"
   ]
  },
  {
   "cell_type": "code",
   "execution_count": 7,
   "id": "8fa5e9c3-e23f-4816-8031-aebbcf5bd737",
   "metadata": {},
   "outputs": [],
   "source": [
    "file.close()"
   ]
  },
  {
   "cell_type": "code",
   "execution_count": 8,
   "id": "c519391f-2624-485d-b6fc-f80e6d07fc76",
   "metadata": {},
   "outputs": [
    {
     "data": {
      "text/plain": [
       "65"
      ]
     },
     "execution_count": 8,
     "metadata": {},
     "output_type": "execute_result"
    }
   ],
   "source": [
    "file=open(\"hello.txt\",\"w\")\n",
    "file.write(\"aaaaaaaaaaaaaaaaaaaaaaaaaaaaaaaaaaaaaaaaaaaaaaaaaaaaaaaaaaaaaaaaa\")"
   ]
  },
  {
   "cell_type": "code",
   "execution_count": 10,
   "id": "9c60558b-5904-4bae-9672-64230fcaa2ad",
   "metadata": {},
   "outputs": [
    {
     "data": {
      "text/plain": [
       "'aaaaaaaaaaaaaaaaaaaaaaaaaaaaaaaaaaaaaaaaaaaaaaaaaaaaaaaaaaaaaaaaa'"
      ]
     },
     "execution_count": 10,
     "metadata": {},
     "output_type": "execute_result"
    }
   ],
   "source": [
    "file=open(\"hello.txt\",\"r\")\n",
    "file.read()"
   ]
  },
  {
   "cell_type": "code",
   "execution_count": 11,
   "id": "b2063a0d-c4f6-4b7c-b984-8bbd2e663bae",
   "metadata": {},
   "outputs": [],
   "source": [
    "file.close()"
   ]
  },
  {
   "cell_type": "code",
   "execution_count": 17,
   "id": "e293cb43-b8b9-408b-91e8-3b76c3da2dce",
   "metadata": {},
   "outputs": [
    {
     "data": {
      "text/plain": [
       "'aaaaaaaaaaaaaaaaaaaaaaaaaaaaaaaaaaaaaaaaaaaaaaaaaaaaaaaaaaaaaaaaa'"
      ]
     },
     "execution_count": 17,
     "metadata": {},
     "output_type": "execute_result"
    }
   ],
   "source": [
    "file=open(\"hello.txt\",\"r\")\n",
    "file.readline() #executing it again and again will show the content line by line"
   ]
  },
  {
   "cell_type": "code",
   "execution_count": 19,
   "id": "3645028f-db14-46e2-b90e-a0c5a27201c6",
   "metadata": {},
   "outputs": [
    {
     "data": {
      "text/plain": [
       "[]"
      ]
     },
     "execution_count": 19,
     "metadata": {},
     "output_type": "execute_result"
    }
   ],
   "source": [
    "file.readlines()\n",
    "#It'll give the list of lines of things inside the file"
   ]
  },
  {
   "cell_type": "code",
   "execution_count": 21,
   "id": "aaecce7b-172c-4eec-a2ab-46620c17b4b7",
   "metadata": {},
   "outputs": [
    {
     "data": {
      "text/plain": [
       "217"
      ]
     },
     "execution_count": 21,
     "metadata": {},
     "output_type": "execute_result"
    }
   ],
   "source": [
    "file=open(\"hello.txt\",\"w\")\n",
    "file.write(\"File access modes determine how a file will be used when it is opened. They control whether you can read from, write to, or add to a file.\\n\\nHere are the six main file access modes in Python:\\n\\n'r' (Read): Opens the fil\")"
   ]
  },
  {
   "cell_type": "code",
   "execution_count": 23,
   "id": "f7cc07b0-9a66-4629-99df-7228c0d1f743",
   "metadata": {},
   "outputs": [
    {
     "data": {
      "text/plain": [
       "\"File access modes determine how a file will be used when it is opened. They control whether you can read from, write to, or add to a file.\\n\\nHere are the six main file access modes in Python:\\n\\n'r' (Read): Opens the fil\""
      ]
     },
     "execution_count": 23,
     "metadata": {},
     "output_type": "execute_result"
    }
   ],
   "source": [
    "file=open(\"hello.txt\",\"r\")\n",
    "file.read()"
   ]
  },
  {
   "cell_type": "code",
   "execution_count": 24,
   "id": "94098177-0256-44c9-a2e2-0711e77b3c4a",
   "metadata": {},
   "outputs": [
    {
     "data": {
      "text/plain": [
       "''"
      ]
     },
     "execution_count": 24,
     "metadata": {},
     "output_type": "execute_result"
    }
   ],
   "source": [
    "file.read(5)"
   ]
  },
  {
   "cell_type": "code",
   "execution_count": 25,
   "id": "e6c13a2c-6dad-4247-8ca5-3ac4ff7c86f2",
   "metadata": {},
   "outputs": [
    {
     "data": {
      "text/plain": [
       "''"
      ]
     },
     "execution_count": 25,
     "metadata": {},
     "output_type": "execute_result"
    }
   ],
   "source": [
    "file.read()"
   ]
  },
  {
   "cell_type": "code",
   "execution_count": 26,
   "id": "84ae395b-ec22-4310-a7d4-27e9c08b6eee",
   "metadata": {},
   "outputs": [
    {
     "data": {
      "text/plain": [
       "0"
      ]
     },
     "execution_count": 26,
     "metadata": {},
     "output_type": "execute_result"
    }
   ],
   "source": [
    "file.seek(0)"
   ]
  },
  {
   "cell_type": "code",
   "execution_count": 27,
   "id": "83abf3e2-c776-4f77-bb7b-6623fc6defba",
   "metadata": {},
   "outputs": [
    {
     "data": {
      "text/plain": [
       "\"File access modes determine how a file will be used when it is opened. They control whether you can read from, write to, or add to a file.\\n\\nHere are the six main file access modes in Python:\\n\\n'r' (Read): Opens the fil\""
      ]
     },
     "execution_count": 27,
     "metadata": {},
     "output_type": "execute_result"
    }
   ],
   "source": [
    "file.read()"
   ]
  },
  {
   "cell_type": "code",
   "execution_count": 28,
   "id": "2f96b808-777c-43ec-bda8-7a13e9d3cb22",
   "metadata": {},
   "outputs": [],
   "source": [
    "file.close()"
   ]
  },
  {
   "cell_type": "code",
   "execution_count": 37,
   "id": "f984d683-1d98-4620-96f5-bbc5873ca86d",
   "metadata": {},
   "outputs": [
    {
     "name": "stdout",
     "output_type": "stream",
     "text": [
      "File access modes determine how a file will be used when it is opened. They control whether you can read from, write to, or add to a file.\n",
      "\n",
      "Here are the six main file access modes in Python:\n",
      "\n",
      "'r' (Read): Opens the fil\n",
      "access modes determine how a file will be used when it is opened. They control whether you can read from, write to, or add to a file.\n",
      "\n",
      "Here are the six main file access modes in Python:\n",
      "\n",
      "'r' (Read): Opens the fil\n"
     ]
    }
   ],
   "source": [
    "#effective way of doing it is it closes the block of code as soon as you exit the with statement\n",
    "with open(\"hello.txt\",\"r\") as file:\n",
    "    print(file.read())\n",
    "    file.seek(5)\n",
    "    print(file.read())"
   ]
  },
  {
   "cell_type": "markdown",
   "id": "fd20bcae-5560-4893-b0e2-d9ef7e97a7e2",
   "metadata": {},
   "source": [
    "### Handeling json file in python"
   ]
  },
  {
   "cell_type": "code",
   "execution_count": 68,
   "id": "810dd126-f671-4c7c-af40-279d1471718b",
   "metadata": {},
   "outputs": [
    {
     "name": "stdout",
     "output_type": "stream",
     "text": [
      "{\n",
      "    \"name\":\"ram\",\n",
      "    \"marks\":50,\n",
      "    \"subject\":[\"english\",\"nepali\"]\n",
      "}\n"
     ]
    }
   ],
   "source": [
    "with open(\"buddy.json\",\"r\") as file:\n",
    "    print(file.read())"
   ]
  },
  {
   "cell_type": "code",
   "execution_count": 76,
   "id": "6222cfab-1f3d-48f3-9a75-d5bb2f34238c",
   "metadata": {},
   "outputs": [
    {
     "name": "stdout",
     "output_type": "stream",
     "text": [
      "{'name': 'ram', 'marks': 50, 'subject': ['english', 'nepali']}\n",
      "ram\n",
      "50\n",
      "english\n",
      "nepali\n"
     ]
    }
   ],
   "source": [
    "#converting json file into dictionary\n",
    "import json\n",
    "with open(\"buddy.json\",\"r\") as file:\n",
    "    d=json.load(file)\n",
    "    print(d)\n",
    "    print(d[\"name\"])\n",
    "    print(d[\"marks\"])\n",
    "    print(d[\"subject\"][0])\n",
    "    print(d[\"subject\"][1])"
   ]
  },
  {
   "cell_type": "code",
   "execution_count": 81,
   "id": "fb72cc65-d851-4015-8d29-e7dfb61f941b",
   "metadata": {},
   "outputs": [
    {
     "name": "stdout",
     "output_type": "stream",
     "text": [
      "{\n",
      "    \"name\":\"ram\",\n",
      "    \"marks\":50,\n",
      "    \"subject\":[\"english\",\"nepali\"]\n",
      "}\n",
      "{'name': 'ram', 'marks': 50, 'subject': ['english', 'nepali']}\n"
     ]
    }
   ],
   "source": [
    "with open(\"buddy.json\",\"r\" ) as file:\n",
    "    data=file.read()\n",
    "    print(data)\n",
    "    d= json.loads(data)\n",
    "    print(d)"
   ]
  },
  {
   "cell_type": "code",
   "execution_count": 92,
   "id": "b96474b4-7809-4d89-b24b-c9248c70f916",
   "metadata": {},
   "outputs": [
    {
     "name": "stdout",
     "output_type": "stream",
     "text": [
      "{'name': 'ram', 'marks': 50, 'subject': ['english', 'nepali']}\n",
      "type of a is <class 'dict'>\n",
      "{\"name\": \"ram\", \"marks\": 50, \"subject\": [\"english\", \"nepali\"]}\n",
      "type of b is  <class 'str'>\n"
     ]
    }
   ],
   "source": [
    "# converting dictionary file into json\n",
    "a={'name': 'ram', 'marks': 50, 'subject': ['english', 'nepali']}\n",
    "print(a)\n",
    "print(\"type of a is\",type(a))\n",
    "b=json.dumps(a)\n",
    "print(b)\n",
    "print(\"type of b is \",type(b))"
   ]
  },
  {
   "cell_type": "code",
   "execution_count": 94,
   "id": "a8d57717-21b2-489e-bf4b-4cf85e48e634",
   "metadata": {},
   "outputs": [],
   "source": [
    "# this will create data2.json file which will have our dictionary info in the json file\n",
    "with open(\"data2.json\",\"w\") as file:\n",
    "    json.dump(d,file)"
   ]
  },
  {
   "cell_type": "markdown",
   "id": "d7c8605b-8877-497a-be59-4fa0ed8676c6",
   "metadata": {},
   "source": [
    "### Errors and Exceptions "
   ]
  },
  {
   "cell_type": "code",
   "execution_count": 99,
   "id": "c0203e8b-3b72-4927-aea8-8746982e44f5",
   "metadata": {},
   "outputs": [
    {
     "ename": "SyntaxError",
     "evalue": "invalid syntax (2127610944.py, line 2)",
     "output_type": "error",
     "traceback": [
      "  \u001b[36mCell\u001b[39m\u001b[36m \u001b[39m\u001b[32mIn[99]\u001b[39m\u001b[32m, line 2\u001b[39m\n\u001b[31m    \u001b[39m\u001b[31mfore i in range(10):\u001b[39m\n         ^\n\u001b[31mSyntaxError\u001b[39m\u001b[31m:\u001b[39m invalid syntax\n"
     ]
    }
   ],
   "source": [
    "#this is an eg of synstatical error\n",
    "fore i in range(10):\n",
    "    print(i)"
   ]
  },
  {
   "cell_type": "code",
   "execution_count": 100,
   "id": "7a018544-5d21-4238-a8e2-04bfeb0561b3",
   "metadata": {},
   "outputs": [
    {
     "name": "stdout",
     "output_type": "stream",
     "text": [
      "hello\n"
     ]
    },
    {
     "ename": "ZeroDivisionError",
     "evalue": "division by zero",
     "output_type": "error",
     "traceback": [
      "\u001b[31m---------------------------------------------------------------------------\u001b[39m",
      "\u001b[31mZeroDivisionError\u001b[39m                         Traceback (most recent call last)",
      "\u001b[36mCell\u001b[39m\u001b[36m \u001b[39m\u001b[32mIn[100]\u001b[39m\u001b[32m, line 3\u001b[39m\n\u001b[32m      1\u001b[39m \u001b[38;5;66;03m#this is undefined error\u001b[39;00m\n\u001b[32m      2\u001b[39m \u001b[38;5;28mprint\u001b[39m(\u001b[33m\"\u001b[39m\u001b[33mhello\u001b[39m\u001b[33m\"\u001b[39m)\n\u001b[32m----> \u001b[39m\u001b[32m3\u001b[39m \u001b[38;5;28mprint\u001b[39m(\u001b[32;43m10\u001b[39;49m\u001b[43m/\u001b[49m\u001b[32;43m0\u001b[39;49m)\n\u001b[32m      4\u001b[39m \u001b[38;5;28mprint\u001b[39m(\u001b[33m\"\u001b[39m\u001b[33mworld\u001b[39m\u001b[33m\"\u001b[39m)\n",
      "\u001b[31mZeroDivisionError\u001b[39m: division by zero"
     ]
    }
   ],
   "source": [
    "#this is undefined error\n",
    "print(\"hello\")\n",
    "print(10/0)\n",
    "print(\"world\")"
   ]
  },
  {
   "cell_type": "markdown",
   "id": "93459468-0241-45a6-8a58-9d997d98be0e",
   "metadata": {},
   "source": [
    "- try\n",
    "- except  "
   ]
  },
  {
   "cell_type": "code",
   "execution_count": 110,
   "id": "599bfa8c-d1f1-4c81-86ff-01bcc2ad861f",
   "metadata": {},
   "outputs": [],
   "source": [
    "def div(a,b):\n",
    "    try:\n",
    "        print(a/b)\n",
    "    except:\n",
    "        print(\"error\")\n",
    "    print(\"hello\")"
   ]
  },
  {
   "cell_type": "code",
   "execution_count": 111,
   "id": "841504dc-8afa-4b45-9faa-fd3e0efc35f4",
   "metadata": {},
   "outputs": [
    {
     "name": "stdout",
     "output_type": "stream",
     "text": [
      "0.5\n",
      "hello\n",
      "None\n",
      "error\n",
      "hello\n",
      "None\n"
     ]
    }
   ],
   "source": [
    "print(div(2,4))\n",
    "print(div(2,0))"
   ]
  },
  {
   "cell_type": "code",
   "execution_count": 112,
   "id": "c4c618a9-9801-4cf1-9e24-0e7f7388f8bc",
   "metadata": {},
   "outputs": [
    {
     "name": "stdout",
     "output_type": "stream",
     "text": [
      "You were trying to divide by zero\n"
     ]
    }
   ],
   "source": [
    "try:\n",
    "    print(10/0)\n",
    "except ZeroDivisionError:\n",
    "    print(\"You were trying to divide by zero\")"
   ]
  },
  {
   "cell_type": "code",
   "execution_count": 117,
   "id": "0788c3da-7367-4f93-b55e-3248eab487da",
   "metadata": {},
   "outputs": [
    {
     "name": "stdout",
     "output_type": "stream",
     "text": [
      "some error occured\n"
     ]
    }
   ],
   "source": [
    "try:\n",
    "    a=int(\"swopnim\")\n",
    "except :\n",
    "    print(\"some error occured\")"
   ]
  },
  {
   "cell_type": "code",
   "execution_count": 116,
   "id": "c97ebeeb-954b-474f-92fc-d562df33d8ab",
   "metadata": {},
   "outputs": [
    {
     "name": "stdout",
     "output_type": "stream",
     "text": [
      "ValueError occured\n"
     ]
    }
   ],
   "source": [
    "try:\n",
    "    h=int(\"her\")\n",
    "except ValueError:\n",
    "    print(\"ValueError occured\")"
   ]
  },
  {
   "cell_type": "code",
   "execution_count": 124,
   "id": "5eba6c9e-fec7-4968-990f-cb6c1440a418",
   "metadata": {},
   "outputs": [
    {
     "name": "stdout",
     "output_type": "stream",
     "text": [
      "division by zero\n",
      "<class 'ZeroDivisionError'>\n"
     ]
    }
   ],
   "source": [
    "# to specify what error happend when the particular code is executed\n",
    "try:\n",
    "    print(10/0)\n",
    "except Exception as e:\n",
    "    print(e)\n",
    "    print(type(e))"
   ]
  },
  {
   "cell_type": "markdown",
   "id": "781db4de-94f4-4bca-bd7d-fd02bb41b88a",
   "metadata": {},
   "source": [
    "- raise"
   ]
  },
  {
   "cell_type": "code",
   "execution_count": 127,
   "id": "3da45017-dbcd-481c-ae9f-32d4b6911384",
   "metadata": {},
   "outputs": [
    {
     "name": "stdout",
     "output_type": "stream",
     "text": [
      "('My custom error', 1, 2, 4, 5, 6)\n"
     ]
    }
   ],
   "source": [
    "try:\n",
    "    raise Exception(\"My custom error\",1,2,4,5,6)\n",
    "except Exception as e:\n",
    "    print(e.args)"
   ]
  },
  {
   "cell_type": "code",
   "execution_count": 128,
   "id": "fc53f4ff-e837-41ab-a688-bfa79d905964",
   "metadata": {},
   "outputs": [],
   "source": [
    "class MyException:\n",
    "    def __init__ (self,message):\n",
    "        self.message=message\n",
    "    def __str__ (self):\n",
    "        return self.message"
   ]
  },
  {
   "cell_type": "code",
   "execution_count": 130,
   "id": "ff85785b-b9e8-46f9-b7c0-244afa92ee1b",
   "metadata": {},
   "outputs": [
    {
     "name": "stdout",
     "output_type": "stream",
     "text": [
      "error\n"
     ]
    }
   ],
   "source": [
    "try:\n",
    "    raise MyException(\"some error\")\n",
    "except:\n",
    "    print(\"error\")"
   ]
  },
  {
   "cell_type": "code",
   "execution_count": 132,
   "id": "6f3b04ce-6102-48d8-aa24-1bef077121dc",
   "metadata": {},
   "outputs": [],
   "source": [
    "#some smart ways in error handeling\n",
    "#try block also contains some elements like else and finally"
   ]
  },
  {
   "cell_type": "markdown",
   "id": "09372f57-ddbe-4bca-a5f2-0c72cc19f876",
   "metadata": {},
   "source": [
    "- else: will always execute if the try block didn't threw error\n",
    "- finally: will always execute"
   ]
  },
  {
   "cell_type": "code",
   "execution_count": 135,
   "id": "2d008a15-85d9-41e0-a9eb-00e3e6cc114b",
   "metadata": {},
   "outputs": [
    {
     "name": "stdout",
     "output_type": "stream",
     "text": [
      "hello world\n",
      "woah\n",
      "bye bye world\n"
     ]
    }
   ],
   "source": [
    "try:\n",
    "    print(\"hello world\")\n",
    "except:\n",
    "    print(\"okay error occured\")\n",
    "else:\n",
    "    print(\"woah\")\n",
    "finally:\n",
    "    print(\"bye bye world\")"
   ]
  },
  {
   "cell_type": "code",
   "execution_count": 136,
   "id": "c5a6a1c0-a6a7-4a65-9179-d741ed6780dd",
   "metadata": {},
   "outputs": [
    {
     "name": "stdout",
     "output_type": "stream",
     "text": [
      "okay error occured\n",
      "bye bye world\n"
     ]
    }
   ],
   "source": [
    "try:\n",
    "    print(10/0)\n",
    "    print(\"hello world\")\n",
    "except:\n",
    "    print(\"okay error occured\")\n",
    "else:\n",
    "    print(\"woah\")\n",
    "finally:\n",
    "    print(\"bye bye world\")"
   ]
  },
  {
   "cell_type": "code",
   "execution_count": 138,
   "id": "aff040eb-1a03-4341-83d6-e21daffc1bc9",
   "metadata": {},
   "outputs": [
    {
     "data": {
      "text/plain": [
       "4"
      ]
     },
     "execution_count": 138,
     "metadata": {},
     "output_type": "execute_result"
    }
   ],
   "source": [
    "def func():\n",
    "    try:\n",
    "        return 1\n",
    "    except:\n",
    "        return 2\n",
    "    else:\n",
    "        return 3\n",
    "    finally:\n",
    "        return 4\n",
    "func()\n"
   ]
  },
  {
   "cell_type": "code",
   "execution_count": 139,
   "id": "d6c0faa4-f620-4ae1-a7c0-7eada2fed733",
   "metadata": {},
   "outputs": [
    {
     "data": {
      "text/plain": [
       "1"
      ]
     },
     "execution_count": 139,
     "metadata": {},
     "output_type": "execute_result"
    }
   ],
   "source": [
    "def func():\n",
    "    try:\n",
    "        return 1\n",
    "    except:\n",
    "        return 2\n",
    "    else:\n",
    "        return 3\n",
    "func()\n"
   ]
  },
  {
   "cell_type": "markdown",
   "id": "c13212e6-ab9e-4b1b-8033-10a008eef31e",
   "metadata": {},
   "source": [
    "- with statement pre-defined cleanup action"
   ]
  },
  {
   "cell_type": "code",
   "execution_count": 143,
   "id": "3562a38a-599a-4151-88bd-a188693024ab",
   "metadata": {},
   "outputs": [
    {
     "name": "stdout",
     "output_type": "stream",
     "text": [
      "kjfkadjfkladjfklajdfklajfkldajfakldj\n"
     ]
    }
   ],
   "source": [
    "try:\n",
    "    file=open(\"soemthing.txt\",\"r\")\n",
    "    print(file.read())\n",
    "except Exception as e:\n",
    "    print(e)\n",
    "finally:\n",
    "    file.close()"
   ]
  },
  {
   "cell_type": "code",
   "execution_count": 145,
   "id": "8a407a1d-594a-43f0-97ec-c52fd9e7090e",
   "metadata": {},
   "outputs": [
    {
     "name": "stdout",
     "output_type": "stream",
     "text": [
      "kjfkadjfkladjfklajdfklajfkldajfakldj\n"
     ]
    }
   ],
   "source": [
    "with open(\"soemthing.txt\",\"r\") as file:\n",
    "    print(file.read())"
   ]
  },
  {
   "cell_type": "code",
   "execution_count": 146,
   "id": "39b96119-68f7-4206-b076-f3f5da867789",
   "metadata": {},
   "outputs": [],
   "source": [
    "class A:\n",
    "    # This is the constructor. It's called when you create an instance of A.\n",
    "    def __init__(self, n):\n",
    "        self.n = n\n",
    "    \n",
    "    # This is a dunder method for string representation.\n",
    "    # It tells Python how to represent the object as a string.\n",
    "    def __str__(self):\n",
    "        # This returns the string version of the 'n' attribute.\n",
    "        return str(self.n)\n",
    "    \n",
    "    # This is the entry method for the `with` statement.\n",
    "    # It's called when the `with` block starts.\n",
    "    def __enter__(self):\n",
    "        # It returns 'self', which is the instance of the class itself.\n",
    "        # This instance is assigned to the variable 'a' in the `with` statement.\n",
    "        return self\n",
    "    \n",
    "    # This is the exit method for the `with` statement.\n",
    "    # It's called when the `with` block ends, either normally or due to an error.\n",
    "    # The arguments receive information about an exception if one occurred.\n",
    "    # *args is a tuple that will contain (exception_type, exception_value, traceback) if an exception occurred.\n",
    "    def __exit__(self, *args):\n",
    "        # This prints the contents of the `args` tuple.\n",
    "        # If no error occurs, args will be an empty tuple: ().\n",
    "        # If an error occurs, it will contain the error details.\n",
    "        print(args)\n",
    "        # The `return True` here is crucial. It tells the `with` statement\n",
    "        # to suppress the exception. If you didn't return True, the\n",
    "        # exception would be re-raised after `__exit__` finishes.\n",
    "        return True"
   ]
  },
  {
   "cell_type": "code",
   "execution_count": 147,
   "id": "935bee12-da56-4006-9819-ba66da103ef9",
   "metadata": {},
   "outputs": [
    {
     "name": "stdout",
     "output_type": "stream",
     "text": [
      "5\n",
      "(None, None, None)\n",
      "hello\n"
     ]
    }
   ],
   "source": [
    "with A(5) as a:\n",
    "    print(a)\n",
    "print(\"hello\")"
   ]
  },
  {
   "cell_type": "code",
   "execution_count": 148,
   "id": "78697847-7a39-4b70-8f9a-e5a3f4335848",
   "metadata": {},
   "outputs": [
    {
     "name": "stdout",
     "output_type": "stream",
     "text": [
      "5\n",
      "(<class 'ZeroDivisionError'>, ZeroDivisionError('division by zero'), <traceback object at 0x00000186D384F840>)\n",
      "hello\n"
     ]
    }
   ],
   "source": [
    "with A(5) as a:\n",
    "    print(a)\n",
    "    raise 10/0\n",
    "print(\"hello\")"
   ]
  }
 ],
 "metadata": {
  "kernelspec": {
   "display_name": "Python 3 (ipykernel)",
   "language": "python",
   "name": "python3"
  },
  "language_info": {
   "codemirror_mode": {
    "name": "ipython",
    "version": 3
   },
   "file_extension": ".py",
   "mimetype": "text/x-python",
   "name": "python",
   "nbconvert_exporter": "python",
   "pygments_lexer": "ipython3",
   "version": "3.13.5"
  }
 },
 "nbformat": 4,
 "nbformat_minor": 5
}
