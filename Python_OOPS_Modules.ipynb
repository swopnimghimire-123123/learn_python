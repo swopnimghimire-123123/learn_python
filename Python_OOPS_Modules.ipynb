{
 "cells": [
  {
   "cell_type": "markdown",
   "id": "3d9b9f39-e6a3-4c9b-b1a7-a60378c9dbb7",
   "metadata": {},
   "source": [
    "### In this section we'll dive depper into understanding opps and modules in python"
   ]
  },
  {
   "cell_type": "code",
   "execution_count": null,
   "id": "6c12faf4-9af7-4d26-a953-13e2ead7cae4",
   "metadata": {},
   "outputs": [],
   "source": [
    "# class is students and the attribute of student like name rollno etc \n",
    "# four pillars of object oriented programming \n",
    "\"\"\" i)Encapuslation:Encapsulation is the OOP concept that is all about data hiding\n",
    "                    and controlling access to that data.\n",
    "    ii)Abstraction:It's the process of hiding compelxity rather than data.\n",
    "    iii)Inheritance:Inheritance, in simple terms, is a fundamental OOP concept that\n",
    "                    allows a class to inherit properties and behaviors from another class.\n",
    "    iv)Polymorphism:Inheritance is a fundamental concept of object-oriented programming\n",
    "                    that allows a class (the \"child\" or subclass) to inherit attributes\n",
    "                    and methods from another class (the \"parent\" or superclass).\"\"\"\"\n",
    "#class tells the parameter that tells what charcter the attribute should hold."
   ]
  },
  {
   "cell_type": "code",
   "execution_count": 8,
   "id": "24291f7b-fb7c-4513-893f-3105762969bb",
   "metadata": {},
   "outputs": [
    {
     "name": "stdout",
     "output_type": "stream",
     "text": [
      "<class 'int'>\n",
      "True\n",
      "<class 'str'>\n",
      "True\n",
      "<class 'bool'>\n",
      "True\n"
     ]
    }
   ],
   "source": [
    "#python treats everything as an object \n",
    "a=1\n",
    "print(type(a))\n",
    "print(isinstance(a,object))\n",
    "b=\"her\"\n",
    "print(type(b))\n",
    "print(isinstance(b,object))\n",
    "c=True\n",
    "print(type(c))\n",
    "print(isinstance(c,object))"
   ]
  },
  {
   "cell_type": "code",
   "execution_count": 13,
   "id": "868eedd5-06fc-4634-8f89-054ba487a9e7",
   "metadata": {},
   "outputs": [
    {
     "name": "stdout",
     "output_type": "stream",
     "text": [
      "<__main__.Person object at 0x000002580BADA510>\n"
     ]
    }
   ],
   "source": [
    "#an object in python has a flag whether the obj are callable or not\n",
    "#fucntion and class are callable but int and float aren't\n",
    "class Person:\n",
    "    pass\n",
    "    \n",
    "p=Person()\n",
    "print(p)\n",
    "#this calss exist in the __main__ and it's adress is 0x000002580BADA660"
   ]
  },
  {
   "cell_type": "code",
   "execution_count": 25,
   "id": "ad0a98be-a404-45be-9ce8-37f7b63b9eef",
   "metadata": {},
   "outputs": [
    {
     "name": "stdout",
     "output_type": "stream",
     "text": [
      "hello , my name is swopnim\n",
      "hello , my name is swopnim\n"
     ]
    }
   ],
   "source": [
    "#class of car has the behaviour of drive ,color ,millage,price , condition etc.\n",
    "class Person:\n",
    "    name=\"swopnim\"\n",
    "    def say_hi(self):\n",
    "        print(\"hello , my name is\",self.name)\n",
    "p=Person()\n",
    "p.say_hi()\n",
    "#every method insider the object requires the context of the class\n",
    "Person.say_hi(p)"
   ]
  },
  {
   "cell_type": "code",
   "execution_count": 34,
   "id": "a47ee954-4eef-4846-9e62-4d42582673b4",
   "metadata": {},
   "outputs": [
    {
     "name": "stdout",
     "output_type": "stream",
     "text": [
      "Hello my name is swopnim\n",
      "Hello my name is swopnim\n"
     ]
    }
   ],
   "source": [
    "class Person:\n",
    "    def __init__(self,name):\n",
    "        self.name=name\n",
    "    def say_hi(self):\n",
    "        print(\"Hello my name is\",self.name)\n",
    "p=Person(\"swopnim\")\n",
    "p.say_hi()\n",
    "Person.say_hi(p)"
   ]
  },
  {
   "cell_type": "code",
   "execution_count": 40,
   "id": "84bcd4fa-478c-4af1-a90a-d599318ea971",
   "metadata": {},
   "outputs": [
    {
     "name": "stdout",
     "output_type": "stream",
     "text": [
      "Buddy says woof!\n",
      "Buddy has been fed.\n"
     ]
    }
   ],
   "source": [
    "# 1. Class Definition (The Blueprint)\n",
    "class Dog:\n",
    "    # 2. The __init__ method (The Constructor)\n",
    "    # This is called when you create a new Dog object\n",
    "    def __init__(self, name, breed):\n",
    "        # 3. Attributes (Instance Variables)\n",
    "        # We use 'self' to attach these attributes to the object\n",
    "        self.name = name\n",
    "        self.breed = breed\n",
    "        self.is_hungry = True # A default attribute\n",
    "\n",
    "    # 4. Methods (Behaviors)\n",
    "    def bark(self):\n",
    "        print(f\"{self.name} says woof!\")\n",
    "\n",
    "    def feed(self):\n",
    "        self.is_hungry = False\n",
    "        print(f\"{self.name} has been fed.\")\n",
    "\n",
    "# Creating an Object (Instantiating the class)\n",
    "# We create a specific 'Dog' object named 'my_dog'\n",
    "my_dog = Dog(name=\"Buddy\", breed=\"Golden Retriever\")\n",
    "#calling method\n",
    "my_dog.bark()\n",
    "my_dog.feed()"
   ]
  },
  {
   "cell_type": "code",
   "execution_count": 58,
   "id": "20987ff6-0e0f-428e-b4fd-11e0f467ded9",
   "metadata": {},
   "outputs": [
    {
     "name": "stdout",
     "output_type": "stream",
     "text": [
      "rich dad poor dad is the title\n",
      "Robert Kiyosaki is the author\n",
      "100 is the pages\n",
      "rich dad poor dad is open now\n"
     ]
    }
   ],
   "source": [
    "#creating a book details and checklist \n",
    "class Book:\n",
    "    def __init__(self,title,author,pages):\n",
    "        self.title=title\n",
    "        self.author=author\n",
    "        self.pages=pages\n",
    "        self.is_open=False\n",
    "    def details(self):\n",
    "        print(f\"{self.title} is the title\")\n",
    "        print(f\"{self.author} is the author\")\n",
    "        print(f\"{self.pages} is the pages\")\n",
    "    def open_closed(self):\n",
    "        self.is_open=True\n",
    "        print(f\"{self.title} is open now\")\n",
    "        \n",
    "my_book=Book(title=\"rich dad poor dad\", author=\"Robert Kiyosaki\" , pages=100)\n",
    "\n",
    "#calling function\n",
    "my_book.details()\n",
    "my_book.open_closed()"
   ]
  },
  {
   "cell_type": "code",
   "execution_count": 56,
   "id": "753625aa-b31c-4b61-9136-c5bda9fff09d",
   "metadata": {},
   "outputs": [
    {
     "name": "stdout",
     "output_type": "stream",
     "text": [
      "Title: rich dad poor dad\n",
      "Author: Robert Kiyosaki\n",
      "Pages: 100\n",
      "rich dad poor dad is now open.\n",
      "rich dad poor dad is now closed.\n"
     ]
    }
   ],
   "source": [
    "#improvised version of this\n",
    "class Book:\n",
    "    def __init__(self, title, author, pages):\n",
    "        self.title = title\n",
    "        self.author = author\n",
    "        self.pages = pages\n",
    "        self.is_open = False\n",
    "    \n",
    "    def details(self):\n",
    "        print(f\"Title: {self.title}\")\n",
    "        print(f\"Author: {self.author}\")\n",
    "        print(f\"Pages: {self.pages}\")\n",
    "        \n",
    "    def open_book(self): # This is the corrected method name\n",
    "        self.is_open = True\n",
    "        print(f\"{self.title} is now open.\")\n",
    "        \n",
    "    def close_book(self): # This is the added method\n",
    "        self.is_open = False\n",
    "        print(f\"{self.title} is now closed.\")\n",
    "\n",
    "# Creating an object\n",
    "my_book = Book(title=\"rich dad poor dad\", author=\"Robert Kiyosaki\", pages=100)\n",
    "\n",
    "# Calling the functions\n",
    "my_book.details()\n",
    "my_book.open_book()  # This will now work\n",
    "my_book.close_book() # This will also work"
   ]
  },
  {
   "cell_type": "markdown",
   "id": "9f177ed3-8a98-4bdf-8517-80db54d111dc",
   "metadata": {},
   "source": [
    "### Dunders or Magic Function"
   ]
  },
  {
   "cell_type": "code",
   "execution_count": 67,
   "id": "53c5f4c2-ae71-41f1-8aab-f143dc5a4527",
   "metadata": {},
   "outputs": [],
   "source": [
    "# they provide us the hooks in which we can check our individual functionality\n",
    "\"\"\" __init__(slef): it's called whenever the object is created\n",
    "    __del__(self): it's callled whenever the object is deleted\n",
    "    __add__(self,other): it's called whenever you're trying to add a obj with other object\n",
    "    __str__(self): it's called when you want to convert the current obj into string\"\"\"\n",
    "\n",
    "class Car:\n",
    "    def __init__(self,model,milage):\n",
    "        self.model=model\n",
    "        self.milage=milage\n",
    "        \n",
    "    def __str__(self):\n",
    "        return\"{} {}\".format(self.model,self.milage)\n",
    "        \n",
    "    def __repr__(self):\n",
    "        return\"{}\".format(self.model)\n",
    "        \n",
    "    def __eq__ (self,other):\n",
    "        return self.milage == other.milage\n",
    "    def __add__(self,other):\n",
    "        return self.milage + other.milage"
   ]
  },
  {
   "cell_type": "code",
   "execution_count": 70,
   "id": "ecf38557-32e0-402d-8d67-35d652f01a69",
   "metadata": {},
   "outputs": [
    {
     "name": "stdout",
     "output_type": "stream",
     "text": [
      "6\n",
      "False\n",
      "True\n"
     ]
    }
   ],
   "source": [
    "c1=Car(\"toyata\",2)\n",
    "c2=Car(\"honda\",4)\n",
    "c3=Car(\"lambo\",2)\n",
    "print(c1+c2)\n",
    "print(c1==c2)\n",
    "print(c1==c3)"
   ]
  },
  {
   "cell_type": "markdown",
   "id": "2bfba6cd-5a1b-47eb-b8b6-fa1f8486968c",
   "metadata": {},
   "source": [
    "code with detialed explaination"
   ]
  },
  {
   "cell_type": "code",
   "execution_count": 73,
   "id": "06eec74f-9bee-4ab4-8947-20804565cd3d",
   "metadata": {},
   "outputs": [
    {
     "name": "stdout",
     "output_type": "stream",
     "text": [
      "6\n",
      "False\n",
      "True\n"
     ]
    }
   ],
   "source": [
    "# The 'class' keyword defines a new class named 'Car', which is a blueprint for creating car objects.\n",
    "class Car:\n",
    "    # This is the constructor method, called automatically when you create a new Car object.\n",
    "    # It initializes the object with its unique properties.\n",
    "    def __init__(self, model, milage):\n",
    "        # 'self.model' is an attribute that belongs to a specific Car object.\n",
    "        # This line assigns the value passed as 'model' to this attribute.\n",
    "        self.model = model\n",
    "        # Similarly, this line assigns the 'milage' value to the object's 'milage' attribute.\n",
    "        self.milage = milage\n",
    "        \n",
    "    # The __str__ dunder method defines the \"informal\" string representation of an object.\n",
    "    # It is what gets returned when you call print() or str() on a Car object.\n",
    "    def __str__(self):\n",
    "        # The 'format' method is used to insert the 'model' and 'milage' values into the string.\n",
    "        return \"{} {}\".format(self.model, self.milage)\n",
    "        \n",
    "    # The __repr__ dunder method defines the \"official\" string representation.\n",
    "    # It is mainly for developers and debugging, and is meant to be unambiguous.\n",
    "    def __repr__(self):\n",
    "        # This simply returns the car's model as a string.\n",
    "        return \"{}\".format(self.model)\n",
    "        \n",
    "    # The __eq__ (equals) dunder method allows you to use the '==' operator on Car objects.\n",
    "    # It defines what it means for two Car objects to be considered equal.\n",
    "    # 'other' is a reference to the other Car object in the comparison (e.g., c2 in c1 == c2).\n",
    "    def __eq__(self, other):\n",
    "        # This line checks if the 'milage' of the first car is equal to the 'milage' of the other car.\n",
    "        # It returns either True or False based on this comparison.\n",
    "        return self.milage == other.milage\n",
    "        \n",
    "    # The __add__ dunder method allows you to use the '+' operator on Car objects.\n",
    "    # It defines what happens when you \"add\" two Car objects together.\n",
    "    # 'other' is a reference to the other Car object (e.g., c2 in c1 + c2).\n",
    "    def __add__(self, other):\n",
    "        # This line adds the 'milage' of the two cars and returns the total as a number.\n",
    "        return self.milage + other.milage\n",
    "\n",
    "# This line creates the first Car object, c1, with a model of \"toyota\" and a milage of 2.\n",
    "c1 = Car(\"toyota\", 2)\n",
    "# This line creates the second Car object, c2, with a model of \"honda\" and a milage of 4.\n",
    "c2 = Car(\"honda\", 4)\n",
    "# This line creates the third Car object, c3, with a model of \"lambo\" and a milage of 2.\n",
    "c3 = Car(\"lambo\", 2)\n",
    "\n",
    "# Python sees the '+' operator and automatically calls the __add__ method.\n",
    "# It returns the sum of the mileage: 2 + 4, which is 6.\n",
    "print(c1 + c2)\n",
    "# Python sees the '==' operator and automatically calls the __eq__ method.\n",
    "# It compares the mileage: 2 == 4, which is False.\n",
    "print(c1 == c2)\n",
    "# Python sees the '==' operator again and calls the __eq__ method.\n",
    "# It compares the mileage: 2 == 2, which is True.\n",
    "print(c1 == c3)"
   ]
  },
  {
   "cell_type": "code",
   "execution_count": 92,
   "id": "34a74223-08f1-416c-93ae-6e6ca464d036",
   "metadata": {},
   "outputs": [],
   "source": [
    "class Hero:\n",
    "    tricks=[]#this is a mutable data structure this memory is share across all the instances\n",
    "             #so same value is assigned to both a and b so change in one,changes other too\n",
    "    def __init__(self,name):\n",
    "        self.name=name\n",
    "    def add_trick(self,trick):\n",
    "        self.tricks.append(trick)\n"
   ]
  },
  {
   "cell_type": "code",
   "execution_count": 94,
   "id": "2cde8048-fe70-4936-a579-db7eb1414c41",
   "metadata": {},
   "outputs": [],
   "source": [
    "a=Hero(\"Ram\")\n",
    "b=Hero(\"Hari\")"
   ]
  },
  {
   "cell_type": "code",
   "execution_count": 96,
   "id": "644a6f5e-71eb-4fbf-8306-8b52ea70f390",
   "metadata": {},
   "outputs": [],
   "source": [
    "#when we add all the tricks to a then it's automatically assigned to b too\n",
    "a.add_trick(\"fetch\")\n",
    "a.add_trick(\"talk\")"
   ]
  },
  {
   "cell_type": "code",
   "execution_count": 101,
   "id": "7e59e70d-4b71-4b45-90e2-6e912a196ab8",
   "metadata": {},
   "outputs": [
    {
     "data": {
      "text/plain": [
       "['fetch', 'fetch', 'talk']"
      ]
     },
     "execution_count": 101,
     "metadata": {},
     "output_type": "execute_result"
    }
   ],
   "source": [
    "a.tricks"
   ]
  },
  {
   "cell_type": "code",
   "execution_count": 102,
   "id": "6cdb68d1-1e42-44f8-98eb-786e3578a465",
   "metadata": {},
   "outputs": [
    {
     "data": {
      "text/plain": [
       "['fetch', 'fetch', 'talk']"
      ]
     },
     "execution_count": 102,
     "metadata": {},
     "output_type": "execute_result"
    }
   ],
   "source": [
    "b.tricks"
   ]
  },
  {
   "cell_type": "code",
   "execution_count": 103,
   "id": "0541ae83-0eec-41fe-9f9b-2718bafa8f4c",
   "metadata": {},
   "outputs": [
    {
     "name": "stdout",
     "output_type": "stream",
     "text": [
      "2577184002944\n",
      "2577184002944\n"
     ]
    }
   ],
   "source": [
    "print(id(a.tricks))\n",
    "print(id(b.tricks))"
   ]
  },
  {
   "cell_type": "code",
   "execution_count": null,
   "id": "9f7eedba-e14e-422b-b583-ebe353d3d91b",
   "metadata": {},
   "outputs": [],
   "source": [
    "#fixing the problem that we have discussed above"
   ]
  },
  {
   "cell_type": "code",
   "execution_count": 132,
   "id": "17951ac6-508d-4d02-9355-7eff76f82a4d",
   "metadata": {},
   "outputs": [
    {
     "name": "stdout",
     "output_type": "stream",
     "text": [
      "['fetch', 'talk']\n",
      "[]\n",
      "2577182414656\n",
      "2577182923968\n"
     ]
    }
   ],
   "source": [
    "class Dog:\n",
    "    def __init__(self, name):\n",
    "        self.name = name\n",
    "        self.tricks = []\n",
    "\n",
    "    def add_trick(self, trick):\n",
    "        self.tricks.append(trick)\n",
    "\n",
    "a = Dog('bruno')\n",
    "b = Dog('maxx')\n",
    "\n",
    "a.add_trick('fetch')\n",
    "a.add_trick('talk')\n",
    "print(a.tricks)\n",
    "print(b.tricks)\n",
    "print(id(a.tricks))# new id is assgined to every trick\n",
    "print(id(b.tricks))"
   ]
  },
  {
   "cell_type": "code",
   "execution_count": 147,
   "id": "642a2a48-a108-4e48-bb78-d78dce1d4118",
   "metadata": {},
   "outputs": [
    {
     "name": "stdout",
     "output_type": "stream",
     "text": [
      "(Initialized school member:hari)\n",
      "(Initialized teacher: hari)\n",
      "(Initialized school member:ram)\n",
      "(Initilaized student:ram)\n",
      "\n",
      "\n",
      "Teacher's details:\n",
      "Name:\"hari\" Age:\"40\" Salary:\"25000\"\n",
      "\n",
      "\n",
      "Student's details:\n",
      "Name:\"ram\" Age:\"15\" Marks:\"85\"\n"
     ]
    }
   ],
   "source": [
    "#classic example of inheritance\n",
    "# Defines the base or \"parent\" class. Any class that inherits from it will\n",
    "# get its attributes and methods.\n",
    "class SchoolMember:\n",
    "    # A docstring that explains the purpose of the class. It's a good practice.\n",
    "    \"\"\"represtnts any school member\"\"\"\n",
    "    \n",
    "    # The constructor for the base class.\n",
    "    # It initializes the attributes that are common to ALL school members.\n",
    "    def __init__(self, name, age):\n",
    "        self.name = name\n",
    "        self.age = age\n",
    "        # Prints a message to show when an object is created.\n",
    "        print(\"(Initialized school member:{})\".format(self.name))\n",
    "    \n",
    "    # A method to display the member's details.\n",
    "    def tell(self):\n",
    "        # Another docstring.\n",
    "        \"\"\"tell my details\"\"\"\n",
    "        # Prints the name and age. The 'end=\" \"' keeps the cursor on the same line\n",
    "        # so that the child classes can add more details on the same line.\n",
    "        print('Name:\"{}\" Age:\"{}\"'.format(self.name, self.age), end=\" \")\n",
    "\n",
    "# for standard inheritance. We will assume they are intended to be on the same level.\n",
    "\n",
    "# The Teacher class inherits from SchoolMember, as indicated by `(SchoolMember)`.\n",
    "# This means it gets the `name`, `age`, and `tell()` method from the parent class.\n",
    "class Teacher(SchoolMember):\n",
    "    # A docstring for the Teacher class.\n",
    "    # represents a teacher of the school\n",
    "    # The constructor for the Teacher class. It needs 'salary' in addition to\n",
    "    # the parent's attributes.\n",
    "    def __init__(self, name, age, salary):\n",
    "        # This line is crucial! It explicitly calls the parent class's constructor\n",
    "        # to handle the initialization of 'name' and 'age'. This is a very common\n",
    "        # way to do it in Python 2, and still works in Python 3.\n",
    "        SchoolMember.__init__(self, name, age) #you can also use super().__init__(name,age)\n",
    "        # Initializes the Teacher's specific attribute, 'salary'.\n",
    "        self.salary = salary\n",
    "        # Prints a message specific to the Teacher.\n",
    "        print(\"(Initialized teacher: {})\".format(self.name))\n",
    "    \n",
    "    # This method OVERRIDES the `tell()` method from the parent class.\n",
    "    # It first calls the parent's `tell()` to print the name and age...\n",
    "    def tell(self):\n",
    "        SchoolMember.tell(self)\n",
    "        # ...and then prints the teacher's specific detail (salary).\n",
    "        # Note: Your code had a typo here, 'id' instead of 'salary'. I've corrected it.\n",
    "        print('Salary:\"{}\"'.format(self.salary))\n",
    "\n",
    "# The Student class also inherits from SchoolMember.\n",
    "class Student(SchoolMember):\n",
    "    # A docstring for the Student class.\n",
    "    # represents a student member of the school\n",
    "    \n",
    "    # The constructor for the Student class. It needs 'marks'.\n",
    "    def __init__(self, name, age, marks):\n",
    "        # Calls the parent's constructor to set 'name' and 'age'.\n",
    "        SchoolMember.__init__(self, name, age) #you can also use super().__init__(name,age)\n",
    "        # Initializes the Student's specific attribute, 'marks'.\n",
    "        self.marks = marks\n",
    "        # Prints a message specific to the Student.\n",
    "        print(\"(Initilaized student:{})\".format(self.name))\n",
    "    \n",
    "    # This method OVERRIDES the parent's `tell()` method.\n",
    "    def tell(self):\n",
    "        # Calls the parent's `tell()` to handle the common details.\n",
    "        SchoolMember.tell(self)   # you can use super().tell()\n",
    "        # Prints the student's specific detail (marks).\n",
    "        print('Marks:\"{}\"'.format(self.marks))\n",
    "\n",
    "# Create an instance of the Teacher class.\n",
    "t = Teacher(\"hari\", 40, 25000)\n",
    "# Create an instance of the Student class.\n",
    "s = Student(\"ram\", 15, 85)\n",
    "\n",
    "# Call the `tell()` method on the Teacher object.\n",
    "# This will call the overridden method in the Teacher class.\n",
    "print(\"\\n\")\n",
    "print(\"Teacher's details:\")\n",
    "t.tell()\n",
    "print(\"\\n\")\n",
    "print(\"Student's details:\")\n",
    "s.tell()\n",
    "        "
   ]
  },
  {
   "cell_type": "code",
   "execution_count": 146,
   "id": "4dea8b40-823a-4d6a-b01d-c56ebec53d5b",
   "metadata": {},
   "outputs": [
    {
     "name": "stdout",
     "output_type": "stream",
     "text": [
      "\n",
      "\n",
      "Teacher's details:\n",
      "Name:\"hari\" Age:\"40\" Salary:\"25000\"\n",
      "\n",
      "\n",
      "Student's details:\n",
      "Name:\"ram\" Age:\"15\" Marks:\"85\"\n"
     ]
    }
   ],
   "source": [
    "\"\"\"same code without the use of inheritance \n",
    "    here we have to declare the self.name=name, self.age=age\n",
    "    again and again but if we were to use a parent class then \n",
    "    we won't have to do so.\"\"\"\n",
    "class SchoolMember:\n",
    "    # This is the \"common\" code for all school members\n",
    "    def __init__(self, name, age):\n",
    "        self.name = name\n",
    "        self.age = age\n",
    "    \n",
    "    def tell(self):\n",
    "        print('Name:\"{}\" Age:\"{}\"'.format(self.name, self.age), end=\" \")\n",
    "\n",
    "class Teacher(SchoolMember):\n",
    "    # This class only handles its *specific* logic\n",
    "    def __init__(self, name, age, salary):\n",
    "        # We REUSE the parent's code to set 'name' and 'age'\n",
    "        SchoolMember.__init__(self, name, age)\n",
    "        self.salary = salary\n",
    "    \n",
    "    def tell(self):\n",
    "        # We REUSE the parent's `tell` method and just add on to it\n",
    "        SchoolMember.tell(self)\n",
    "        print('Salary:\"{}\"'.format(self.salary))\n",
    "\n",
    "class Student(SchoolMember):\n",
    "    # This class only handles its *specific* logic\n",
    "    def __init__(self, name, age, marks):\n",
    "        # We REUSE the parent's code again\n",
    "        SchoolMember.__init__(self, name, age) #you can use super().__init__\n",
    "        self.marks = marks\n",
    "    \n",
    "    def tell(self):\n",
    "        # We REUSE the parent's `tell` method and just add on to it\n",
    "        SchoolMember.tell(self) #you can use super().tell()\n",
    "        print('Marks:\"{}\"'.format(self.marks))\n",
    "\n",
    "# Create an instance of the Teacher class.\n",
    "t = Teacher(\"hari\", 40, 25000)\n",
    "# Create an instance of the Student class.\n",
    "s = Student(\"ram\", 15, 85)\n",
    "\n",
    "# Call the `tell()` method on the Teacher object.\n",
    "# This will call the overridden method in the Teacher class.\n",
    "print(\"\\n\")\n",
    "print(\"Teacher's details:\")\n",
    "t.tell()\n",
    "print(\"\\n\")\n",
    "print(\"Student's details:\")\n",
    "s.tell()"
   ]
  },
  {
   "cell_type": "markdown",
   "id": "273350de-dba7-4210-8715-b89db4e10458",
   "metadata": {},
   "source": [
    "### MRO(Method Resolution Order)"
   ]
  },
  {
   "cell_type": "code",
   "execution_count": 154,
   "id": "efe323c2-6d32-4999-91c0-0afa2f32c13c",
   "metadata": {},
   "outputs": [],
   "source": [
    "#in a ambigous condidtion python uses something called as c3 linearization\n",
    "#this algo dictates how we should be handeling the dimanod case resolution\n",
    "#i'll always start from the left and go to the very top if that's not the right path\n",
    "#then i'll go back and then i'll check the another node \n",
    "#Depth first serach algo \n",
    "#Keep one thing in mind ie: alwasy initilaize your class using a capital letter first\n",
    "class A:\n",
    "     x=10\n",
    "class B(A):\n",
    "    pass\n",
    "class C(A):\n",
    "    pass\n",
    "class D(C):\n",
    "    x=5\n",
    "class E(B,D):\n",
    "    pass"
   ]
  },
  {
   "cell_type": "code",
   "execution_count": 167,
   "id": "c935db02-c153-45bb-b733-a96b19a044ad",
   "metadata": {},
   "outputs": [
    {
     "name": "stdout",
     "output_type": "stream",
     "text": [
      "5\n"
     ]
    }
   ],
   "source": [
    "print(E.x)"
   ]
  },
  {
   "cell_type": "markdown",
   "id": "e18b8781-a802-455e-9492-aeb7f5be8c2a",
   "metadata": {},
   "source": [
    "### Modules In Python"
   ]
  },
  {
   "cell_type": "code",
   "execution_count": 171,
   "id": "67172b40-2a91-4b90-a446-86f6b22ea5a0",
   "metadata": {},
   "outputs": [
    {
     "name": "stdout",
     "output_type": "stream",
     "text": [
      "hey there , study the things written well\n"
     ]
    }
   ],
   "source": [
    "\n",
    "\"\"\" when we reset the jupyter notebook then all the code and the function that we have \n",
    "    written earlier get's undone and we need to execute all of them individually \n",
    "    so to fix this problem we use modules ie: declaring a fucntion in a module and \n",
    "    calling that python file by importing it in the file where we want to use it for \n",
    "    eg: inside a folder we make calcultor.py and write all the functions for the calculation\n",
    "    and then we import calculator and the use things like print(calculator.add(1,2))\n",
    "    print(calculator.sub(3,2)) , print(calculator.div(1,2)) , print(calculator.dib(4,2))\n",
    "# This is the 'calculator' module. It contains functions for arithmetic operations.\n",
    "# this is a calculator module we'll save it as calculator.py\n",
    "def add(x, y):\n",
    "    #Adds two numbers and returns the result\n",
    "    return x + y\n",
    "\n",
    "def sub(x, y):\n",
    "    #Subtracts the second number from the first and returns the result\n",
    "    return x - y\n",
    "\n",
    "def mul(x, y):\n",
    "    #Multiplies two numbers and returns the result\n",
    "    return x * y\n",
    "\n",
    "def div(x, y):\n",
    "    #Divides the first number by the second and returns the result.\n",
    "    \n",
    "    #Returns a string if division by zero is attempted.\n",
    "    \n",
    "    if y == 0:\n",
    "        return \"Error: Cannot divide by zero.\"\n",
    "    return x / y\n",
    "\n",
    "\n",
    "\n",
    "    # This is the main program file that uses the calculator module.\n",
    "\n",
    "# Import the entire module.\n",
    "import calculator\n",
    "\n",
    "# Use the module's functions by prefixing them with 'calculator.'.\n",
    "result_add = calculator.add(10, 5)\n",
    "result_sub = calculator.sub(10, 5)\n",
    "result_mul = calculator.mul(10, 5)\n",
    "result_div = calculator.div(10, 5)\n",
    "\n",
    "print(f\"10 + 5 = {result_add}\")\n",
    "print(f\"10 - 5 = {resutl_sub}\")\n",
    "print(f\"10 * 5 = {result_mul}\")\n",
    "print(f\"10 / 5 = {result_div}\")\n",
    "\n",
    "# You can also import specific functions to use them directly.\n",
    "from calculator import add, subtract\n",
    "\n",
    "print(f\"10 + 5 = {add(10, 5)}\")\n",
    "print(f\"10 - 5 = {sub(10, 5)}\")\n",
    "\"\"\"\n",
    "print(\"hey there , study the things written well\")"
   ]
  },
  {
   "cell_type": "code",
   "execution_count": 172,
   "id": "1d5c86a8-7f7c-46c0-8f9b-c641decbc7c7",
   "metadata": {},
   "outputs": [
    {
     "name": "stdout",
     "output_type": "stream",
     "text": [
      "let's go\n"
     ]
    }
   ],
   "source": [
    "\"\"\" FILTERED IMPORT FROM THE MODULE\n",
    "# This is the main program file. It uses a filtered import from the calculator module.\n",
    "\n",
    "# Filtered Import: Only import the 'add' and 'sub' functions from the module.\n",
    "from calculator import add, sub\n",
    "\n",
    "# Now you can use the imported functions directly by their name.\n",
    "result_add = add(10, 5)\n",
    "result_sub = sub(10, 5)\n",
    "\n",
    "print(f\"Result of addition: {result_add}\")\n",
    "print(f\"Result of subtraction: {result_sub}\")\n",
    "\n",
    "# An attempt to use 'mul' or 'div' will result in a NameError,\n",
    "# because they were not explicitly imported.\n",
    "# print(multiply(10, 5)) # This line would cause an error\n",
    "\n",
    "\n",
    "\n",
    "#alliaces in a loop can be thought of as\n",
    "import calcultor as lib\n",
    "\n",
    "def calculator(a,b):\n",
    "    print(a,b)\n",
    "print(lib.add(c,d))\n",
    "print(lib.sub(d,g))\n",
    "so this way you can use the file name of the moudle without any issue\n",
    "\"\"\"\n",
    "print(\"let's go\")"
   ]
  },
  {
   "cell_type": "code",
   "execution_count": 174,
   "id": "cf772a97-140a-4803-97f9-e3bba9dd2547",
   "metadata": {},
   "outputs": [
    {
     "name": "stdout",
     "output_type": "stream",
     "text": [
      "123\n"
     ]
    }
   ],
   "source": [
    "\"\"\" PACKAGES IN PYTHON\n",
    "    package is the collection of different module that performs a particular taks\n",
    "    eg: creating a package called math and inside of it having different module ie:\n",
    "    simple.py(sum,sub,mul,div) complex.py(sq,cube,sqroot) \" and also main.py where \n",
    "    you import math and see the outcome\n",
    "    to specify that the folder math you have crated with files simple.py and complex.py\n",
    "    you need to create a file within it called __init__.py so that the program knows \n",
    "    that the folder math is a package\n",
    "1. math/__init__.py\n",
    "# __init__.py\n",
    "print(\"Math package is imported!\")\n",
    "\n",
    "2. math/simple.py\n",
    "# simple.py\n",
    "def add(a, b):\n",
    "    return a + b\n",
    "\n",
    "def sub(a, b):\n",
    "    return a - b\n",
    "\n",
    "def mul(a, b):\n",
    "    return a * b\n",
    "\n",
    "def div(a, b):\n",
    "    return a / b\n",
    "\n",
    "3. math/complex.py\n",
    "# complex.py\n",
    "def square(n):\n",
    "    return n * n\n",
    "\n",
    "def cube(n):\n",
    "    return n * n * n\n",
    "\n",
    "def sqroot(n):\n",
    "    return n ** 0.5\n",
    "\n",
    "4. main.py\n",
    "# main.py\n",
    "import math.simple as s\n",
    "import math.complex as c\n",
    "\n",
    "print(\"Addition:\", s.add(5, 3))\n",
    "print(\"Subtraction:\", s.sub(5, 3))\n",
    "print(\"Multiplication:\", s.mul(5, 3))\n",
    "print(\"Division:\", s.div(10, 2))\n",
    "\n",
    "print(\"Square:\", c.square(4))\n",
    "print(\"Cube:\", c.cube(2))\n",
    "print(\"Square Root:\", c.sqroot(25))\n",
    "\n",
    "Expected Output\n",
    "\n",
    "When you run main.py, you’ll see:\n",
    "\n",
    "Math package is imported!\n",
    "Addition: 8\n",
    "Subtraction: 2\n",
    "Multiplication: 15\n",
    "Division: 5.0\n",
    "Square: 16\n",
    "Cube: 8\n",
    "Square Root: 5.0 \n",
    "\"\"\"\n",
    "print(\"123\")"
   ]
  }
 ],
 "metadata": {
  "kernelspec": {
   "display_name": "Python 3 (ipykernel)",
   "language": "python",
   "name": "python3"
  },
  "language_info": {
   "codemirror_mode": {
    "name": "ipython",
    "version": 3
   },
   "file_extension": ".py",
   "mimetype": "text/x-python",
   "name": "python",
   "nbconvert_exporter": "python",
   "pygments_lexer": "ipython3",
   "version": "3.13.5"
  }
 },
 "nbformat": 4,
 "nbformat_minor": 5
}
