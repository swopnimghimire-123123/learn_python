{
 "cells": [
  {
   "cell_type": "markdown",
   "id": "fb943669-79fe-45cc-8d15-1e25039c5afd",
   "metadata": {},
   "source": [
    "### Asynchronous Programming "
   ]
  },
  {
   "cell_type": "code",
   "execution_count": null,
   "id": "bd751eae-3652-47f6-a852-93b47402bfda",
   "metadata": {},
   "outputs": [],
   "source": [
    "''' line by line execution of a program is synchronous in nature \n",
    "    and it's slow and time consuming so asynchronous programming\n",
    "    is necessary.\n",
    "    In case of multi thrading data can be shared between ealiy.'''"
   ]
  },
  {
   "cell_type": "markdown",
   "id": "4a8e09cd-24ba-46ba-997d-4bd1c8c83a23",
   "metadata": {},
   "source": [
    "### Four ways to do asynchronous programming in python"
   ]
  },
  {
   "cell_type": "markdown",
   "id": "54290305-19f1-44d4-8a10-9287692bab6a",
   "metadata": {},
   "source": [
    "- Multi Processes\n",
    "- Multi Threading\n",
    "- Couroutines\n",
    "- AsyncIO"
   ]
  },
  {
   "cell_type": "markdown",
   "id": "565fe6d3-2790-497a-b7d7-78ce75b42de4",
   "metadata": {},
   "source": [
    "### MULTI PROCESSING in python"
   ]
  },
  {
   "cell_type": "code",
   "execution_count": 59,
   "id": "e8669f64-feb7-4478-9b0e-7298e6cdf54f",
   "metadata": {},
   "outputs": [
    {
     "name": "stdout",
     "output_type": "stream",
     "text": [
      "All processes finished!\n",
      "[MainProcess] Starting work on 2\n",
      "[MainProcess] The square of 2 is 4\n"
     ]
    }
   ],
   "source": [
    "import time\n",
    "from multiprocessing import Process, current_process\n",
    "\n",
    "def square_and_print(n=2):\n",
    "    # Simulate work\n",
    "    print(f\"[{current_process().name}] Starting work on {n}\")\n",
    "    time.sleep(2)  # wait 2 seconds (to see overlap)\n",
    "    print(f\"[{current_process().name}] The square of {n} is {n*n}\")\n",
    "\n",
    "if __name__ == \"__main__\":\n",
    "    numbers = [1, 2, 3, 4, 5]\n",
    "    processes = []\n",
    "\n",
    "    for num in numbers:\n",
    "        p = Process(target=square_and_print, args=(num,))\n",
    "        processes.append(p)\n",
    "        p.start()\n",
    "\n",
    "    for p in processes:\n",
    "        p.join()\n",
    "\n",
    "    print(\"All processes finished!\")\n",
    "square_and_print()"
   ]
  },
  {
   "cell_type": "code",
   "execution_count": 61,
   "id": "54514cf2-6cf4-485c-a813-0970f13fc3f8",
   "metadata": {},
   "outputs": [],
   "source": [
    "from multiprocessing import Process"
   ]
  },
  {
   "cell_type": "code",
   "execution_count": 63,
   "id": "29d5c6c6-f7c1-4c11-a551-8ffb0d0ed56b",
   "metadata": {},
   "outputs": [],
   "source": [
    "def showSquare(num=2):\n",
    "    print(num**2)"
   ]
  },
  {
   "cell_type": "code",
   "execution_count": 64,
   "id": "c2932122-8afa-4029-b722-09fdbf252cb2",
   "metadata": {},
   "outputs": [],
   "source": [
    "procs=[]"
   ]
  },
  {
   "cell_type": "code",
   "execution_count": 66,
   "id": "6ccfa03b-09b5-4949-ae2d-c741fa5e26a3",
   "metadata": {},
   "outputs": [],
   "source": [
    "for i in range(5):\n",
    "    procs.append(Process(target = showSquare, args=(i+1, )))"
   ]
  },
  {
   "cell_type": "code",
   "execution_count": 67,
   "id": "d8666788-4253-4ff8-8d88-a026951c2466",
   "metadata": {
    "collapsed": true,
    "jupyter": {
     "outputs_hidden": true
    }
   },
   "outputs": [
    {
     "name": "stdout",
     "output_type": "stream",
     "text": [
      "hello\n"
     ]
    }
   ],
   "source": [
    "for proc in procs:\n",
    "    proc.start()\n",
    "print(\"hello\")"
   ]
  },
  {
   "cell_type": "code",
   "execution_count": null,
   "id": "0e628ef9-0380-42bd-9c21-02c0983b1a33",
   "metadata": {},
   "outputs": [],
   "source": []
  },
  {
   "cell_type": "markdown",
   "id": "338e8dbd-94bb-401a-ab9f-56294bc9aee1",
   "metadata": {},
   "source": [
    "### Multi Threading "
   ]
  },
  {
   "cell_type": "code",
   "execution_count": 69,
   "id": "b190b7c4-a492-4a83-bd02-ca910fa886bc",
   "metadata": {},
   "outputs": [],
   "source": [
    "from threading import Thread"
   ]
  },
  {
   "cell_type": "code",
   "execution_count": 70,
   "id": "d059fbe3-4961-470a-9d05-9f785065a73b",
   "metadata": {},
   "outputs": [],
   "source": [
    "def square(n):\n",
    "    print(\"sq is\",n**2)\n",
    "def cube(n):\n",
    "    print(\"cube is\",n**3)"
   ]
  },
  {
   "cell_type": "code",
   "execution_count": 72,
   "id": "a39e4e65-3089-417b-97e1-e2f8b19ddf7a",
   "metadata": {},
   "outputs": [],
   "source": [
    "t1 = Thread(target = square , args=(4,))\n",
    "t2 = Thread(target = cube , args=(3,))"
   ]
  },
  {
   "cell_type": "code",
   "execution_count": 73,
   "id": "c1f3160c-3628-4cec-aedc-125f50605821",
   "metadata": {},
   "outputs": [
    {
     "name": "stdout",
     "output_type": "stream",
     "text": [
      "sq iscube is 27\n",
      " 16\n"
     ]
    }
   ],
   "source": [
    "t1.start()\n",
    "t2.start()"
   ]
  },
  {
   "cell_type": "code",
   "execution_count": 75,
   "id": "ae67df1e-4256-45aa-9841-dd02370926fa",
   "metadata": {},
   "outputs": [],
   "source": [
    "from queue import Queue"
   ]
  },
  {
   "cell_type": "code",
   "execution_count": 76,
   "id": "3e4239f2-a63a-45f1-91cb-18bb000fbf30",
   "metadata": {},
   "outputs": [],
   "source": [
    "def producer(q):\n",
    "    for i in range(5):\n",
    "        q.put(1)\n",
    "        print(\"published\",i)\n",
    "def consumer():\n",
    "    while True:\n",
    "        data=q.get()\n",
    "        print(\"conumed\",data)"
   ]
  },
  {
   "cell_type": "code",
   "execution_count": 77,
   "id": "1f143a0e-66a0-4561-a4cf-adddca0c8fed",
   "metadata": {},
   "outputs": [],
   "source": [
    "q=Queue()"
   ]
  },
  {
   "cell_type": "code",
   "execution_count": 78,
   "id": "0bba0563-1fd8-4282-aa7f-5293cff3c19a",
   "metadata": {},
   "outputs": [],
   "source": [
    "producer_thread = Thread(target= producer, args=(q,))\n",
    "consumer_thread = Thread(target= producer, args=(q,))"
   ]
  },
  {
   "cell_type": "code",
   "execution_count": 79,
   "id": "5cc251c3-17c1-4c3a-8980-fc93ba05e5ea",
   "metadata": {},
   "outputs": [
    {
     "name": "stdout",
     "output_type": "stream",
     "text": [
      "published 0\n",
      "published 1\n",
      "published 2\n",
      "published 3\n",
      "published 4\n"
     ]
    }
   ],
   "source": [
    "consumer_thread.start()"
   ]
  },
  {
   "cell_type": "code",
   "execution_count": 80,
   "id": "28700edf-d176-4c41-a89c-0327b6db704f",
   "metadata": {},
   "outputs": [
    {
     "name": "stdout",
     "output_type": "stream",
     "text": [
      "published 0\n",
      "published 1\n",
      "published 2\n",
      "published 3\n",
      "published 4\n"
     ]
    }
   ],
   "source": [
    "producer_thread.start()"
   ]
  },
  {
   "cell_type": "markdown",
   "id": "70b708b6-5524-4dde-be8c-b8b51ff22fdf",
   "metadata": {},
   "source": [
    "### Couroutines"
   ]
  },
  {
   "cell_type": "code",
   "execution_count": 89,
   "id": "d5028e73-3f56-4093-83c4-586119058a09",
   "metadata": {},
   "outputs": [],
   "source": [
    "def print_fancy_name(prefix):\n",
    "    try:\n",
    "        while True:\n",
    "            name=(yield)\n",
    "            print(prefix + \":\" +name)\n",
    "    except GeneratorExit:\n",
    "        print(\"done\")"
   ]
  },
  {
   "cell_type": "code",
   "execution_count": 90,
   "id": "7c5dd21f-185d-48f9-9612-c97e86b826cf",
   "metadata": {},
   "outputs": [],
   "source": [
    "co=print_fancy_name(\"cool\")"
   ]
  },
  {
   "cell_type": "code",
   "execution_count": 91,
   "id": "2014eaa7-8a35-4c97-b0e0-a456883fc834",
   "metadata": {},
   "outputs": [],
   "source": [
    "#initialization process\n",
    "next(co)"
   ]
  },
  {
   "cell_type": "code",
   "execution_count": 92,
   "id": "0fbb25b0-2922-40c7-bced-ce699d7e43e5",
   "metadata": {},
   "outputs": [
    {
     "name": "stdout",
     "output_type": "stream",
     "text": [
      "cool:jatin\n"
     ]
    }
   ],
   "source": [
    "#sending data and control\n",
    "co.send(\"jatin\")"
   ]
  },
  {
   "cell_type": "code",
   "execution_count": 93,
   "id": "9f799370-db32-42fa-854a-1fbe142ced35",
   "metadata": {},
   "outputs": [
    {
     "name": "stdout",
     "output_type": "stream",
     "text": [
      "cool:parteeK\n"
     ]
    }
   ],
   "source": [
    "co.send(\"parteeK\")"
   ]
  },
  {
   "cell_type": "code",
   "execution_count": 94,
   "id": "33ef55cc-6d94-4f37-bbdc-29be508b1330",
   "metadata": {},
   "outputs": [
    {
     "name": "stdout",
     "output_type": "stream",
     "text": [
      "done\n"
     ]
    }
   ],
   "source": [
    "co.close()"
   ]
  },
  {
   "cell_type": "markdown",
   "id": "e0a68daa-04d2-4dfd-a28d-129a422ffc18",
   "metadata": {},
   "source": [
    "### asyncio"
   ]
  },
  {
   "cell_type": "markdown",
   "id": "38bbad06-ab38-4cea-ba80-49146b5ef8cc",
   "metadata": {},
   "source": [
    "Description of asyncio : Think of asyncio as a single, highly efficient manager. Instead of hiring more workers (like multiprocessing) or having multiple workers share one tool (like multithreading), the asyncio manager takes on multiple tasks himself. When he starts a task that requires waiting for something (like a web request or a file to load), he doesn't just sit and wait. He puts that task on hold and immediately starts another one that is ready to go. When the first task is done waiting, the manager comes back to it. This approach is incredibly efficient for I/O-bound tasks because it makes the most of the time spent waiting."
   ]
  },
  {
   "cell_type": "code",
   "execution_count": 132,
   "id": "ab04d780-d8d7-4b55-be40-810521b3cd3d",
   "metadata": {},
   "outputs": [
    {
     "name": "stdout",
     "output_type": "stream",
     "text": [
      "Task 'A': Starting, will wait for 3 seconds.\n",
      "Task 'B': Starting, will wait for 1 seconds.\n",
      "Task 'C': Starting, will wait for 2 seconds.\n",
      "Task 'B': Finished waiting.\n",
      "Task 'C': Finished waiting.\n",
      "Task 'A': Finished waiting.\n",
      "\n",
      "All tasks finished in 3.02 seconds.\n",
      "Results: [\"Task 'A' is done\", \"Task 'B' is done\", \"Task 'C' is done\"]\n"
     ]
    }
   ],
   "source": [
    "\n",
    "import asyncio\n",
    "import time\n",
    "\n",
    "async def task_with_wait(name, seconds_to_wait):\n",
    "    \"\"\"\n",
    "    A simple asynchronous task. The 'await' keyword tells the\n",
    "    event loop that this task is about to wait for something.\n",
    "    \"\"\"\n",
    "    print(f\"Task '{name}': Starting, will wait for {seconds_to_wait} seconds.\")\n",
    "    \n",
    "    # 'await' is the key here. It tells the event loop to pause this task\n",
    "    # and switch to another one that is ready to run.\n",
    "    await asyncio.sleep(seconds_to_wait)\n",
    "    \n",
    "    print(f\"Task '{name}': Finished waiting.\")\n",
    "    return f\"Task '{name}' is done\"\n",
    "\n",
    "async def main():\n",
    "    \"\"\"\n",
    "    The main asynchronous function that runs all our tasks.\n",
    "    \"\"\"\n",
    "    start_time = time.time()\n",
    "    \n",
    "    # We create three tasks. They are not running yet, just defined.\n",
    "    task1 = task_with_wait(\"A\", 3)\n",
    "    task2 = task_with_wait(\"B\", 1)\n",
    "    task3 = task_with_wait(\"C\", 2)\n",
    "    \n",
    "    # asyncio.gather() runs all the tasks concurrently. The main function\n",
    "    # will wait until all of them are complete.\n",
    "    results = await asyncio.gather(task1, task2, task3)\n",
    "    \n",
    "    end_time = time.time()\n",
    "    elapsed_time = end_time - start_time\n",
    "    \n",
    "    print(f\"\\nAll tasks finished in {elapsed_time:.2f} seconds.\")\n",
    "    print(f\"Results: {results}\")\n",
    "\n",
    "# To run this code in a Jupyter Notebook or interactive console,\n",
    "# simply await the main function.\n",
    "await main()\n"
   ]
  },
  {
   "cell_type": "code",
   "execution_count": 134,
   "id": "091cc810-c2e9-4469-9276-85c1eaf2390d",
   "metadata": {},
   "outputs": [
    {
     "name": "stdout",
     "output_type": "stream",
     "text": [
      "Hello\n",
      "Goodbye\n",
      "Now\n",
      "World\n"
     ]
    }
   ],
   "source": [
    "import asyncio\n",
    "\n",
    "async def say_hello():\n",
    "    \"\"\"\n",
    "    An async function that prints 'Hello', waits, then prints 'World'.\n",
    "    \"\"\"\n",
    "    print(\"Hello\")\n",
    "    await asyncio.sleep(2)  # This is an I/O-bound simulation\n",
    "    print(\"World\")\n",
    "\n",
    "async def say_goodbye():\n",
    "    \"\"\"\n",
    "    Another async function that prints 'Goodbye', waits, then prints 'Now'.\n",
    "    \"\"\"\n",
    "    print(\"Goodbye\")\n",
    "    await asyncio.sleep(1)  # This is an I/O-bound simulation\n",
    "    print(\"Now\")\n",
    "\n",
    "async def main():\n",
    "    \"\"\"\n",
    "    The main function that starts both tasks concurrently.\n",
    "    \"\"\"\n",
    "    # Create two tasks from our async functions.\n",
    "    task1 = asyncio.create_task(say_hello())\n",
    "    task2 = asyncio.create_task(say_goodbye())\n",
    "\n",
    "    # Wait for both tasks to complete.\n",
    "    await task1\n",
    "    await task2\n",
    "\n",
    "# This is the correct way to run the code in an interactive environment.\n",
    "# Note: For a regular Python script, you would use asyncio.run(main()).\n",
    "await main()\n"
   ]
  }
 ],
 "metadata": {
  "kernelspec": {
   "display_name": "Python 3 (ipykernel)",
   "language": "python",
   "name": "python3"
  },
  "language_info": {
   "codemirror_mode": {
    "name": "ipython",
    "version": 3
   },
   "file_extension": ".py",
   "mimetype": "text/x-python",
   "name": "python",
   "nbconvert_exporter": "python",
   "pygments_lexer": "ipython3",
   "version": "3.13.5"
  }
 },
 "nbformat": 4,
 "nbformat_minor": 5
}
