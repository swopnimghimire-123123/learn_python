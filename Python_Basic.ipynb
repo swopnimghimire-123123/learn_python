{
 "cells": [
  {
   "cell_type": "markdown",
   "id": "19619e66-c40f-4200-92be-d7a279396bf7",
   "metadata": {},
   "source": [
    "### In this segment we'll first understand python basics"
   ]
  },
  {
   "cell_type": "code",
   "execution_count": 2,
   "id": "ab0fc216-f1b9-41dd-8e28-046f49a72878",
   "metadata": {},
   "outputs": [
    {
     "name": "stdout",
     "output_type": "stream",
     "text": [
      "Hello world\n"
     ]
    }
   ],
   "source": [
    "print(\"Hello world\")"
   ]
  },
  {
   "cell_type": "markdown",
   "id": "5c6c1e05-42a8-41f9-891a-7b263d326c77",
   "metadata": {},
   "source": [
    "There are multiple ways you can comment stuff"
   ]
  },
  {
   "cell_type": "code",
   "execution_count": 2,
   "id": "7a06a81b-02f1-421f-870e-1471cb602b9a",
   "metadata": {},
   "outputs": [
    {
     "name": "stdout",
     "output_type": "stream",
     "text": [
      "hi\n"
     ]
    }
   ],
   "source": [
    "#single line comment\n",
    "#print(\"hello world\")\n",
    "print(\"hi\")"
   ]
  },
  {
   "cell_type": "code",
   "execution_count": 3,
   "id": "059fb364-ac52-4072-96fb-54dc099e155c",
   "metadata": {},
   "outputs": [
    {
     "name": "stdout",
     "output_type": "stream",
     "text": [
      "hello world\n"
     ]
    }
   ],
   "source": [
    "\"\"\"This is a multiline comment\n",
    "    you can change lines\n",
    "    and can write what you \n",
    "    want in muliple lines\"\"\"\n",
    "print(\"hello world\")"
   ]
  },
  {
   "cell_type": "code",
   "execution_count": 7,
   "id": "9fd26952-cc40-43ef-9498-22ec17d980c9",
   "metadata": {},
   "outputs": [
    {
     "name": "stdout",
     "output_type": "stream",
     "text": [
      "5 2 6 2.0\n",
      "5\n",
      "2\n",
      "6\n",
      "2.0\n"
     ]
    }
   ],
   "source": [
    "a=2+3;\n",
    "b=3-1;\n",
    "c=2*3;\n",
    "d=4/2;\n",
    "print(a,b,c,d)\n",
    "print(a)\n",
    "print(b)\n",
    "print(c)\n",
    "print(d)"
   ]
  },
  {
   "cell_type": "code",
   "execution_count": 14,
   "id": "0d122546-a313-459d-8889-a74700ec1c16",
   "metadata": {},
   "outputs": [
    {
     "name": "stdout",
     "output_type": "stream",
     "text": [
      "<class 'int'>\n",
      "<class 'str'>\n",
      "<class 'float'>\n",
      "<class 'bool'>\n"
     ]
    }
   ],
   "source": [
    "a=10\n",
    "b=\"hey\"\n",
    "c=2.0\n",
    "d=True\n",
    "print(type(a))\n",
    "print(type(b))\n",
    "print(type(c))\n",
    "print(type(d))"
   ]
  },
  {
   "cell_type": "markdown",
   "id": "1451abc1-be58-4a40-a567-93d6e44d39f3",
   "metadata": {},
   "source": [
    "\\n is used to jump to the next line\n",
    "\\t is used to enter a tab space "
   ]
  },
  {
   "cell_type": "code",
   "execution_count": 21,
   "id": "3138f085-0157-41c2-a871-8cb9d9ee5dc0",
   "metadata": {},
   "outputs": [
    {
     "name": "stdout",
     "output_type": "stream",
     "text": [
      "hello \n",
      "world\n",
      "hello \tworld\n"
     ]
    }
   ],
   "source": [
    "print(\"hello \\nworld\")\n",
    "print(\"hello \\tworld\")"
   ]
  },
  {
   "cell_type": "code",
   "execution_count": 29,
   "id": "0d8f4945-d07f-48bd-a1a5-81693aec8172",
   "metadata": {},
   "outputs": [
    {
     "name": "stdout",
     "output_type": "stream",
     "text": [
      "20 10\n",
      "30\n",
      "sum: 30\n"
     ]
    }
   ],
   "source": [
    "a=20\n",
    "b=10\n",
    "print(a,b)\n",
    "print(a+b)\n",
    "print(\"sum:\",a+b)"
   ]
  },
  {
   "cell_type": "code",
   "execution_count": 30,
   "id": "cbbd4706-8ad1-4ee3-a6e6-d9b4df8f65ff",
   "metadata": {},
   "outputs": [
    {
     "name": "stdout",
     "output_type": "stream",
     "text": [
      "Hello\n"
     ]
    }
   ],
   "source": [
    "x=10\n",
    "if x==10:\n",
    "    print(\"Hello\")"
   ]
  },
  {
   "cell_type": "code",
   "execution_count": 32,
   "id": "4433f7ea-9a8c-44f4-9826-915609ca3e80",
   "metadata": {},
   "outputs": [],
   "source": [
    "#this returns nothing as the condition is not satisfied\n",
    "x=5\n",
    "if x==10:\n",
    "    print(\"Hello\")"
   ]
  },
  {
   "cell_type": "code",
   "execution_count": 203,
   "id": "13b30f6f-cf78-4289-a0d5-650d64c3c516",
   "metadata": {},
   "outputs": [
    {
     "name": "stdout",
     "output_type": "stream",
     "text": [
      "capital of Nepal is Kathmandu\n",
      "capital of Nepal is Kathmandu\n"
     ]
    }
   ],
   "source": [
    "# %s is used for string just like in c but it's better to use format\n",
    "my_string=(\"capital of %s is %s\" %(\"Nepal\",\"Kathmandu\")) \n",
    "print(my_string)\n",
    "\n",
    "my_string_2=\"capital of {} is {}\".format(\"Nepal\",\"Kathmandu\")\n",
    "print(my_string_2)"
   ]
  },
  {
   "cell_type": "code",
   "execution_count": 40,
   "id": "d7e55df0-4039-4772-8350-34c295704c82",
   "metadata": {},
   "outputs": [
    {
     "name": "stdout",
     "output_type": "stream",
     "text": [
      "Hello World\n",
      "Hello Everyone\n"
     ]
    }
   ],
   "source": [
    "print(\"Hello World\")\n",
    "print(\"Hello Everyone\")"
   ]
  },
  {
   "cell_type": "code",
   "execution_count": 43,
   "id": "c2e62900-059b-4588-8c4b-2711f27f9b63",
   "metadata": {},
   "outputs": [
    {
     "name": "stdout",
     "output_type": "stream",
     "text": [
      "Hello WorldHello Everyone\n"
     ]
    }
   ],
   "source": [
    "print(\"Hello World\",end=\"\")\n",
    "print(\"Hello Everyone\")"
   ]
  },
  {
   "cell_type": "code",
   "execution_count": 44,
   "id": "7ca65d3b-0928-4aa8-acbd-859ba809b6c0",
   "metadata": {},
   "outputs": [
    {
     "name": "stdout",
     "output_type": "stream",
     "text": [
      "Hello World Hello Everyone\n"
     ]
    }
   ],
   "source": [
    "print(\"Hello World\",end=\" \")\n",
    "print(\"Hello Everyone\")"
   ]
  },
  {
   "cell_type": "code",
   "execution_count": 51,
   "id": "325ed8a3-7f1c-4d11-86bb-d75b5ae1baf5",
   "metadata": {},
   "outputs": [
    {
     "name": "stdout",
     "output_type": "stream",
     "text": [
      "A B C ABC\n"
     ]
    }
   ],
   "source": [
    "print(\"A\",\"B\",\"C\",\"ABC\")"
   ]
  },
  {
   "cell_type": "code",
   "execution_count": 52,
   "id": "511ab0ee-d94d-42de-9a35-9946b427a2e7",
   "metadata": {},
   "outputs": [
    {
     "name": "stdout",
     "output_type": "stream",
     "text": [
      "A___B___C___ABC\n"
     ]
    }
   ],
   "source": [
    "print(\"A\",\"B\",\"C\",\"ABC\",sep=\"___\")"
   ]
  },
  {
   "cell_type": "code",
   "execution_count": 54,
   "id": "3e358138-ebaf-4bc4-8ed8-fc35ce29c073",
   "metadata": {},
   "outputs": [
    {
     "name": "stdout",
     "output_type": "stream",
     "text": [
      "A\n",
      "B\n",
      "C\n",
      "ABC\n"
     ]
    }
   ],
   "source": [
    "print(\"A\",\"B\",\"C\",\"ABC\",sep=\"\\n\")"
   ]
  },
  {
   "cell_type": "markdown",
   "id": "3ecef5d3-4916-4899-abf9-db27f0384dff",
   "metadata": {},
   "source": [
    "USER INPUTS FROM THE USER"
   ]
  },
  {
   "cell_type": "code",
   "execution_count": 56,
   "id": "f9f4066e-0067-4ce1-afb9-54f8f1a2ac2c",
   "metadata": {},
   "outputs": [
    {
     "name": "stdin",
     "output_type": "stream",
     "text": [
      " swopnim\n"
     ]
    }
   ],
   "source": [
    "name=input();"
   ]
  },
  {
   "cell_type": "code",
   "execution_count": 57,
   "id": "5916bc64-06be-425c-8048-3075997fc899",
   "metadata": {},
   "outputs": [
    {
     "name": "stdin",
     "output_type": "stream",
     "text": [
      "enter a name swopnim ghimire\n"
     ]
    }
   ],
   "source": [
    "name=input(\"enter a name\")"
   ]
  },
  {
   "cell_type": "code",
   "execution_count": 58,
   "id": "88ef6ae6-d618-434e-acdf-52ddd5bb6612",
   "metadata": {},
   "outputs": [
    {
     "name": "stdin",
     "output_type": "stream",
     "text": [
      "enter a name swopnim\n"
     ]
    },
    {
     "name": "stdout",
     "output_type": "stream",
     "text": [
      "swopnim\n"
     ]
    }
   ],
   "source": [
    "name=input(\"enter a name\")\n",
    "print(name)"
   ]
  },
  {
   "cell_type": "code",
   "execution_count": 59,
   "id": "7e05d86e-e2d4-462c-8822-662425899294",
   "metadata": {},
   "outputs": [
    {
     "data": {
      "text/plain": [
       "str"
      ]
     },
     "execution_count": 59,
     "metadata": {},
     "output_type": "execute_result"
    }
   ],
   "source": [
    "type(name)"
   ]
  },
  {
   "cell_type": "code",
   "execution_count": 60,
   "id": "a5eb2062-153b-4f7e-a8c7-db3af740e5ab",
   "metadata": {},
   "outputs": [
    {
     "data": {
      "text/plain": [
       "['10', '20', '30', '40']"
      ]
     },
     "execution_count": 60,
     "metadata": {},
     "output_type": "execute_result"
    }
   ],
   "source": [
    "\n",
    "\"10 20 30 40\".split()\n",
    "#gives list of string"
   ]
  },
  {
   "cell_type": "code",
   "execution_count": 62,
   "id": "0167c9c2-7fba-494f-bd80-095228a452a7",
   "metadata": {},
   "outputs": [
    {
     "name": "stdout",
     "output_type": "stream",
     "text": [
      "['10', '20', '30', '40']\n",
      "<class 'list'>\n"
     ]
    }
   ],
   "source": [
    "l=\"10 20 30 40\".split()\n",
    "print(l)\n",
    "print(type(l))"
   ]
  },
  {
   "cell_type": "code",
   "execution_count": 63,
   "id": "a872bc9c-beac-4271-8207-9d98b538aad4",
   "metadata": {},
   "outputs": [
    {
     "name": "stdout",
     "output_type": "stream",
     "text": [
      "[10, 20, 30, 40]\n"
     ]
    }
   ],
   "source": [
    "numbers=[int(x) for x in l]\n",
    "print(numbers)"
   ]
  },
  {
   "cell_type": "code",
   "execution_count": 70,
   "id": "e749653e-e42e-41f0-af16-1621aa95dc86",
   "metadata": {},
   "outputs": [
    {
     "name": "stdin",
     "output_type": "stream",
     "text": [
      " 1 2 4 \n"
     ]
    },
    {
     "name": "stdout",
     "output_type": "stream",
     "text": [
      "[1, 2, 4]\n"
     ]
    }
   ],
   "source": [
    "numbers=[int(x) for x in input().split()]\n",
    "print(numbers)"
   ]
  },
  {
   "cell_type": "markdown",
   "id": "35880e7f-65f2-4a26-b7b9-2cae94c402c9",
   "metadata": {},
   "source": [
    "Operators And Expressions"
   ]
  },
  {
   "cell_type": "code",
   "execution_count": 71,
   "id": "86573fb2-e388-4135-9326-ceb4d6953711",
   "metadata": {},
   "outputs": [
    {
     "data": {
      "text/plain": [
       "3.3333333333333335"
      ]
     },
     "execution_count": 71,
     "metadata": {},
     "output_type": "execute_result"
    }
   ],
   "source": [
    "10/3\n",
    "#division"
   ]
  },
  {
   "cell_type": "code",
   "execution_count": null,
   "id": "f7857b8a-8902-4e25-9889-f0b4b7cefbd3",
   "metadata": {},
   "outputs": [],
   "source": [
    "10+3\n",
    "#sum"
   ]
  },
  {
   "cell_type": "code",
   "execution_count": null,
   "id": "5fd6c696-cb8b-470b-800c-8d307da7f907",
   "metadata": {},
   "outputs": [],
   "source": [
    "10-3\n",
    "#difference"
   ]
  },
  {
   "cell_type": "code",
   "execution_count": null,
   "id": "30d098ec-2d44-4a86-b5f9-8217a3131295",
   "metadata": {},
   "outputs": [],
   "source": [
    "10*3\n",
    "#product"
   ]
  },
  {
   "cell_type": "code",
   "execution_count": null,
   "id": "9b1031bf-7891-4514-804f-c37b6dbbcdca",
   "metadata": {},
   "outputs": [],
   "source": [
    "10%3\n",
    "#reminder"
   ]
  },
  {
   "cell_type": "code",
   "execution_count": null,
   "id": "4248fd19-5bec-4974-b06a-7ce9e340cad5",
   "metadata": {},
   "outputs": [],
   "source": [
    "10//3\n",
    "#returns the floor value"
   ]
  },
  {
   "cell_type": "code",
   "execution_count": 73,
   "id": "7d647ef6-4032-4cef-9380-95adc9e76f30",
   "metadata": {},
   "outputs": [
    {
     "data": {
      "text/plain": [
       "16"
      ]
     },
     "execution_count": 73,
     "metadata": {},
     "output_type": "execute_result"
    }
   ],
   "source": [
    "2**4\n",
    "#initial raised to the power final ie: 2 raised to the power 4"
   ]
  },
  {
   "cell_type": "code",
   "execution_count": 76,
   "id": "90154ec5-98de-44a1-b404-7bc553690c18",
   "metadata": {},
   "outputs": [
    {
     "name": "stdout",
     "output_type": "stream",
     "text": [
      "False\n",
      "True\n"
     ]
    }
   ],
   "source": [
    "#compare the values of the given varibales\n",
    "a=2\n",
    "b=3\n",
    "print(a==b)\n",
    "print(a!=b)"
   ]
  },
  {
   "cell_type": "code",
   "execution_count": 78,
   "id": "c5965081-34db-4e69-8668-bbef8f09c94f",
   "metadata": {},
   "outputs": [
    {
     "name": "stdout",
     "output_type": "stream",
     "text": [
      "lets go outside\n"
     ]
    }
   ],
   "source": [
    "weather=\"Sunny\"\n",
    "temp=30\n",
    "if weather==\"Sunny\" and temp>30:\n",
    "    print(\"Lets enjoy at home\")\n",
    "else:\n",
    "    print(\"lets go outside\")"
   ]
  },
  {
   "cell_type": "code",
   "execution_count": 83,
   "id": "387aecf9-6738-429f-9894-62ae5ccaa097",
   "metadata": {},
   "outputs": [
    {
     "name": "stdin",
     "output_type": "stream",
     "text": [
      "enter the temperature: 10\n"
     ]
    },
    {
     "name": "stdout",
     "output_type": "stream",
     "text": [
      "lets go outside\n"
     ]
    }
   ],
   "source": [
    "#let's do same by asking input form user\n",
    "temp=int(input(\"enter the temperature:\"))\n",
    "if (temp>30):\n",
    "    print(\"Lets enjoy at home\")\n",
    "else:\n",
    "    print(\"lets go outside\")"
   ]
  },
  {
   "cell_type": "code",
   "execution_count": 84,
   "id": "0a6e1eeb-851e-4685-9257-8ad951b362ad",
   "metadata": {},
   "outputs": [
    {
     "name": "stdin",
     "output_type": "stream",
     "text": [
      "enter the temperature: 40\n"
     ]
    },
    {
     "name": "stdout",
     "output_type": "stream",
     "text": [
      "Lets enjoy at home\n"
     ]
    }
   ],
   "source": [
    "#let's do same by asking input form user\n",
    "temp=int(input(\"enter the temperature:\"))\n",
    "if (temp>30):\n",
    "    print(\"Lets enjoy at home\")\n",
    "else:\n",
    "    print(\"lets go outside\")"
   ]
  },
  {
   "cell_type": "code",
   "execution_count": 86,
   "id": "832e4a4b-a80c-4da7-a242-1189c28fa26f",
   "metadata": {},
   "outputs": [
    {
     "name": "stdin",
     "output_type": "stream",
     "text": [
      "enter the length: 1\n",
      "enter the bredth: 2\n"
     ]
    },
    {
     "name": "stdout",
     "output_type": "stream",
     "text": [
      "Area =2 Periimeter=6\n"
     ]
    }
   ],
   "source": [
    "#calculate area of rectangle\n",
    "l=int(input(\"enter the length:\"))\n",
    "b=int(input(\"enter the bredth:\"))\n",
    "area=l*b\n",
    "peri=2*(l+b)\n",
    "print(\"Area ={} Periimeter={}\".format(area,peri))"
   ]
  },
  {
   "cell_type": "markdown",
   "id": "b8e78012-1871-4485-8114-e9b7ed881fb9",
   "metadata": {},
   "source": [
    "If else "
   ]
  },
  {
   "cell_type": "code",
   "execution_count": 95,
   "id": "56060f5c-e6f0-4e44-93f9-490b9661ca1f",
   "metadata": {},
   "outputs": [
    {
     "name": "stdin",
     "output_type": "stream",
     "text": [
      "explain how the weather is: Rainy\n"
     ]
    },
    {
     "name": "stdout",
     "output_type": "stream",
     "text": [
      "Do Not Go Outside\n"
     ]
    }
   ],
   "source": [
    "weather=input(\"explain how the weather is:\").lower()\n",
    "#using .lower() lowercases the input such that comparision becomes easy\n",
    "if weather==\"rainy\":\n",
    "    print(\"Do Not Go Outside\")\n",
    "elif weather==\"cool\":\n",
    "    print(\"Lets PLay Cricket\")\n",
    "else:\n",
    "    print(\"Lets go for shopping\")"
   ]
  },
  {
   "cell_type": "markdown",
   "id": "28954d04-3d98-4f94-9dc9-6e1ccc6fa45d",
   "metadata": {},
   "source": [
    "Now let's learn more about loops"
   ]
  },
  {
   "cell_type": "code",
   "execution_count": 98,
   "id": "364026ed-64fe-4452-8d6f-11c490a47ffc",
   "metadata": {},
   "outputs": [
    {
     "name": "stdout",
     "output_type": "stream",
     "text": [
      "hello world 0\n",
      "hello world 1\n",
      "hello world 2\n",
      "hello world 3\n",
      "hello world 4\n",
      "hello world 5\n",
      "hello world 6\n",
      "hello world 7\n",
      "hello world 8\n",
      "hello world 9\n",
      "hello world 10\n",
      "work done\n"
     ]
    }
   ],
   "source": [
    "start=0\n",
    "end=10\n",
    "while start<=end:\n",
    "    print(\"hello world\",start)\n",
    "    start+=1\n",
    "print(\"work done\")\n",
    "    "
   ]
  },
  {
   "cell_type": "code",
   "execution_count": 99,
   "id": "d4bdc354-df6d-4719-a789-7fb7d73d5253",
   "metadata": {},
   "outputs": [
    {
     "name": "stdout",
     "output_type": "stream",
     "text": [
      "1\n",
      "2\n",
      "3\n",
      "4\n"
     ]
    }
   ],
   "source": [
    "for i in range(1,5):\n",
    "    print(i)\n",
    "#the starting value is included but the ending value isn't"
   ]
  },
  {
   "cell_type": "code",
   "execution_count": 100,
   "id": "57d45029-72ab-451f-8559-f04bc4469e51",
   "metadata": {},
   "outputs": [
    {
     "name": "stdout",
     "output_type": "stream",
     "text": [
      "1,2,3,4,"
     ]
    }
   ],
   "source": [
    "for i in range(1,5):\n",
    "    print(i,end=\",\")"
   ]
  },
  {
   "cell_type": "code",
   "execution_count": 103,
   "id": "98f44488-affc-4bc7-9926-7015e3fc9133",
   "metadata": {},
   "outputs": [
    {
     "name": "stdout",
     "output_type": "stream",
     "text": [
      "1\n",
      "2\n",
      "3\n",
      "4\n",
      "5\n"
     ]
    }
   ],
   "source": [
    "# to print till 5 you have to write 6 as the ending value\n",
    "for i in range(1,6):\n",
    "    print(i)"
   ]
  },
  {
   "cell_type": "code",
   "execution_count": 105,
   "id": "d9de35cd-2759-41f6-95b7-7f42c2c93a9c",
   "metadata": {},
   "outputs": [
    {
     "name": "stdout",
     "output_type": "stream",
     "text": [
      "120\n"
     ]
    }
   ],
   "source": [
    "#finding factorial of a number\n",
    "a=5\n",
    "n=1\n",
    "for i in range(1,6):\n",
    "    # 6 is not included\n",
    "    n=n*i\n",
    "print(n)"
   ]
  },
  {
   "cell_type": "code",
   "execution_count": 107,
   "id": "eba3cf09-cbaf-4107-979f-3ab06b65cf46",
   "metadata": {},
   "outputs": [
    {
     "name": "stdin",
     "output_type": "stream",
     "text": [
      "Enter the number that you want to find the factorial of : 5\n"
     ]
    },
    {
     "name": "stdout",
     "output_type": "stream",
     "text": [
      "120\n"
     ]
    }
   ],
   "source": [
    "#finding factorial of the number entered by the user using for loop\n",
    "#you can do the same using while loop too which we'll see later \n",
    "a=int(input(\"Enter the number that you want to find the factorial of :\"))\n",
    "fac=1\n",
    "end=a+1\n",
    "for i in range (fac,end):\n",
    "    fac=fac*i\n",
    "print(fac)"
   ]
  },
  {
   "cell_type": "code",
   "execution_count": 109,
   "id": "c9864348-e5fe-4161-bfdb-28d2b972b8e7",
   "metadata": {},
   "outputs": [
    {
     "name": "stdout",
     "output_type": "stream",
     "text": [
      "10\n",
      "9\n",
      "8\n",
      "7\n",
      "6\n"
     ]
    }
   ],
   "source": [
    "#for i in range(start,end,step)\n",
    "for i in range(10,5,-1):\n",
    "    print(i)"
   ]
  },
  {
   "cell_type": "markdown",
   "id": "c496cb82-16f1-42f9-939d-8c031de567f0",
   "metadata": {},
   "source": [
    "Break,Continue and Pass Statements"
   ]
  },
  {
   "cell_type": "code",
   "execution_count": 111,
   "id": "d73c1ae1-ff49-489b-bd30-5e07fb4a826e",
   "metadata": {},
   "outputs": [
    {
     "name": "stdout",
     "output_type": "stream",
     "text": [
      "hi\n"
     ]
    }
   ],
   "source": [
    "# pass is used if you don't wany any execution of the code\n",
    "for i in range(1,10):\n",
    "    pass\n",
    "print(\"hi\")"
   ]
  },
  {
   "cell_type": "code",
   "execution_count": 113,
   "id": "adf1d293-9795-480e-b54a-67afe1065c6b",
   "metadata": {},
   "outputs": [
    {
     "name": "stdout",
     "output_type": "stream",
     "text": [
      "1\n",
      "2\n",
      "3\n",
      "4\n",
      "5\n",
      "6\n",
      "7\n",
      "8\n",
      "9\n"
     ]
    }
   ],
   "source": [
    "for i in range(1,10):\n",
    "    if i==5: #this does nothing basically even when i==5 this just tells\n",
    "        pass #the program to keep on goint on \n",
    "    print(i)"
   ]
  },
  {
   "cell_type": "code",
   "execution_count": 114,
   "id": "92a7e9d5-3d03-4228-89ca-39f085f45cb8",
   "metadata": {},
   "outputs": [
    {
     "name": "stdout",
     "output_type": "stream",
     "text": [
      "1\n",
      "2\n",
      "3\n",
      "4\n",
      "loop ends\n"
     ]
    }
   ],
   "source": [
    "for i in range(1,10):\n",
    "    if i==5: # the loop stops execution when i==5\n",
    "        break\n",
    "    print(i)\n",
    "print(\"loop ends\")"
   ]
  },
  {
   "cell_type": "code",
   "execution_count": 117,
   "id": "6248eb64-37bd-4dfc-ac76-04f86779a434",
   "metadata": {},
   "outputs": [
    {
     "name": "stdout",
     "output_type": "stream",
     "text": [
      "1\n",
      "2\n",
      "3\n",
      "4\n",
      "6\n",
      "7\n",
      "8\n",
      "9\n"
     ]
    },
    {
     "data": {
      "text/plain": [
       "'pass is a null statement that does nothing, while continue\\nis a control flow statement that skips to the next loop iteration.'"
      ]
     },
     "execution_count": 117,
     "metadata": {},
     "output_type": "execute_result"
    }
   ],
   "source": [
    "for i in range(1,10):\n",
    "    if i==5: # this tell the function to keep on doing it's work \n",
    "        continue\n",
    "    print(i)\n",
    "\"\"\"pass is a null statement that does nothing, while continue\n",
    "is a control flow statement that skips to the next loop iteration.\"\"\""
   ]
  },
  {
   "cell_type": "markdown",
   "id": "bb689334-fa4f-41b6-ab57-690f705f9832",
   "metadata": {},
   "source": [
    "\n",
    "keywords Arguments"
   ]
  },
  {
   "cell_type": "code",
   "execution_count": 127,
   "id": "6b90a1a1-eb2f-4ff6-b862-bedfa2cc91c8",
   "metadata": {},
   "outputs": [
    {
     "name": "stdout",
     "output_type": "stream",
     "text": [
      "I scored 100 in python\n",
      "rollNo: 404\n"
     ]
    }
   ],
   "source": [
    "def myFunc(score,lang,rollNo): #this is def a function we'll see it later\n",
    "    print(\"I scored %d in %s\" %(score,lang)) #we saw if before\n",
    "    print(\"rollNo:\",rollNo)\n",
    "\n",
    "myFunc(rollNo=404,score=100,lang=\"python\")"
   ]
  },
  {
   "cell_type": "code",
   "execution_count": null,
   "id": "73c7e71c-3e6b-4dfd-8bde-fd073f5321c0",
   "metadata": {},
   "outputs": [],
   "source": [
    "Strings And Builtin Methods"
   ]
  },
  {
   "cell_type": "code",
   "execution_count": 129,
   "id": "3dcde68b-ded5-45f0-b392-ce9d06956f44",
   "metadata": {},
   "outputs": [
    {
     "name": "stdout",
     "output_type": "stream",
     "text": [
      "hey there\n"
     ]
    }
   ],
   "source": [
    "a=\"hey there\"\n",
    "print(a)"
   ]
  },
  {
   "cell_type": "code",
   "execution_count": 134,
   "id": "e704b8d2-d5a8-46ea-87e0-26f2a4ae0086",
   "metadata": {},
   "outputs": [
    {
     "name": "stdout",
     "output_type": "stream",
     "text": [
      "y\n"
     ]
    }
   ],
   "source": [
    "print(a[2]) #indexing start from zero so the second letter is the third one"
   ]
  },
  {
   "cell_type": "code",
   "execution_count": 133,
   "id": "8a241cdd-cca2-4635-a627-a8a8c2b974a7",
   "metadata": {},
   "outputs": [
    {
     "name": "stdout",
     "output_type": "stream",
     "text": [
      "e\n"
     ]
    }
   ],
   "source": [
    "print(a[-1]) #picks the first number from the last"
   ]
  },
  {
   "cell_type": "code",
   "execution_count": 135,
   "id": "a62365af-1025-49c8-af45-ed7f5340b091",
   "metadata": {},
   "outputs": [
    {
     "name": "stdout",
     "output_type": "stream",
     "text": [
      "9\n"
     ]
    }
   ],
   "source": [
    "print(len(a)) #gives the length of the variable"
   ]
  },
  {
   "cell_type": "code",
   "execution_count": 136,
   "id": "dd8e110d-3e97-4636-abb1-f5a3bdcd62e5",
   "metadata": {},
   "outputs": [
    {
     "ename": "NameError",
     "evalue": "name 'z' is not defined",
     "output_type": "error",
     "traceback": [
      "\u001b[31m---------------------------------------------------------------------------\u001b[39m",
      "\u001b[31mNameError\u001b[39m                                 Traceback (most recent call last)",
      "\u001b[36mCell\u001b[39m\u001b[36m \u001b[39m\u001b[32mIn[136]\u001b[39m\u001b[32m, line 2\u001b[39m\n\u001b[32m      1\u001b[39m \u001b[38;5;66;03m#strings are not mutable ie they can't be alterd normally like\u001b[39;00m\n\u001b[32m----> \u001b[39m\u001b[32m2\u001b[39m a[\u001b[32m2\u001b[39m]=\u001b[43mz\u001b[49m\n\u001b[32m      3\u001b[39m \u001b[38;5;28mprint\u001b[39m(a)\n",
      "\u001b[31mNameError\u001b[39m: name 'z' is not defined"
     ]
    }
   ],
   "source": [
    "#strings are not mutable ie they can't be alterd normally like\n",
    "a[2]=z\n",
    "print(a) #we're supposed to get error instead we can do this:"
   ]
  },
  {
   "cell_type": "code",
   "execution_count": 144,
   "id": "e0bf9e09-8b55-492d-8b2f-1093ca411d79",
   "metadata": {},
   "outputs": [
    {
     "name": "stdout",
     "output_type": "stream",
     "text": [
      "hzy there\n"
     ]
    }
   ],
   "source": [
    "a=\"hey there\"\n",
    "a=a.replace('e','z',1) #doing it just once at the first part\n",
    "print(a)"
   ]
  },
  {
   "cell_type": "code",
   "execution_count": 143,
   "id": "8be652f9-f536-45fc-9c0d-758903e6cbe5",
   "metadata": {},
   "outputs": [
    {
     "name": "stdout",
     "output_type": "stream",
     "text": [
      "hzy thzrz\n"
     ]
    }
   ],
   "source": [
    "a=\"hey there\"\n",
    "a=a.replace('e','z') #doing it for the entire string\n",
    "print(a)"
   ]
  },
  {
   "cell_type": "code",
   "execution_count": 261,
   "id": "46094e14-b011-4dd4-a1ed-dd54a38d4290",
   "metadata": {},
   "outputs": [
    {
     "name": "stdout",
     "output_type": "stream",
     "text": [
      "h\n",
      "e\n",
      "a\n",
      "v\n",
      "e\n",
      "n\n"
     ]
    }
   ],
   "source": [
    "#printing every character of the string\n",
    "a=\"heaven\"\n",
    "for i in a:\n",
    "    print(i)"
   ]
  },
  {
   "cell_type": "code",
   "execution_count": 152,
   "id": "79af8714-a9b4-4277-8dd8-4b4784a6516a",
   "metadata": {},
   "outputs": [
    {
     "name": "stdout",
     "output_type": "stream",
     "text": [
      "h\n",
      "e\n",
      "a\n",
      "v\n",
      "e\n",
      "n\n"
     ]
    }
   ],
   "source": [
    "#printing every character of the stirng using indexing\n",
    "a=\"heaven\"\n",
    "end=len(a)\n",
    "start=0\n",
    "for i in range(start,end): # you can try doing it with the while loop\n",
    "    print(a[i])"
   ]
  },
  {
   "cell_type": "code",
   "execution_count": 153,
   "id": "d19897d5-ea7e-467a-9466-ad2d9e3c31b4",
   "metadata": {},
   "outputs": [
    {
     "name": "stdout",
     "output_type": "stream",
     "text": [
      "h\n",
      "e\n",
      "a\n",
      "v\n",
      "e\n",
      "n\n"
     ]
    }
   ],
   "source": [
    "for char in a :\n",
    "    print(char)"
   ]
  },
  {
   "cell_type": "code",
   "execution_count": 154,
   "id": "4f3b7752-1242-40ee-a173-4ac09003069c",
   "metadata": {},
   "outputs": [
    {
     "name": "stdout",
     "output_type": "stream",
     "text": [
      "MangoJuice\n"
     ]
    }
   ],
   "source": [
    "# this is called concating a string\n",
    "a=\"Mango\"\n",
    "b=\"Juice\"\n",
    "print(a+b)"
   ]
  },
  {
   "cell_type": "code",
   "execution_count": 157,
   "id": "50494346-1508-42a1-b129-ffe52743aae0",
   "metadata": {},
   "outputs": [
    {
     "name": "stdout",
     "output_type": "stream",
     "text": [
      "Mango Juice\n"
     ]
    }
   ],
   "source": [
    "a=\"Mango\"\n",
    "b=\"Juice\"\n",
    "print(a+\" \"+b) #this gives the required space"
   ]
  },
  {
   "cell_type": "code",
   "execution_count": 159,
   "id": "57707f34-fb71-4b48-9dec-aef8dae06d85",
   "metadata": {},
   "outputs": [
    {
     "name": "stdout",
     "output_type": "stream",
     "text": [
      "MangoMangoMangoMangoMango\n"
     ]
    }
   ],
   "source": [
    "print(a*5)"
   ]
  },
  {
   "cell_type": "code",
   "execution_count": 167,
   "id": "24760f26-566e-4021-9895-f4fca856407c",
   "metadata": {},
   "outputs": [
    {
     "name": "stdout",
     "output_type": "stream",
     "text": [
      "Mango\n",
      "ango\n",
      "Mang\n",
      "Man\n",
      "ognaM\n"
     ]
    }
   ],
   "source": [
    "#indexing in a string (start:end:step)\n",
    "print(a) \n",
    "print(a[1:])\n",
    "print(a[0:-1]) #sub the last element\n",
    "print(a[0:-2]) #sub the last two element\n",
    "print(a[::-1]) #the most delicate way to reverse a string"
   ]
  },
  {
   "cell_type": "code",
   "execution_count": 174,
   "id": "6776f345-6ce9-4007-bb93-c9ee593d9103",
   "metadata": {},
   "outputs": [
    {
     "name": "stdout",
     "output_type": "stream",
     "text": [
      "False\n",
      "True\n",
      "False\n"
     ]
    }
   ],
   "source": [
    "print(\"man\" in a)\n",
    "print(\"go\" in a)\n",
    "print(\"hey\" in a)"
   ]
  },
  {
   "cell_type": "code",
   "execution_count": 175,
   "id": "ddc97b52-4999-45b1-b10a-ad02fff45b5e",
   "metadata": {},
   "outputs": [
    {
     "name": "stdout",
     "output_type": "stream",
     "text": [
      "This is \n",
      "a multiline \n",
      "paragraph\n"
     ]
    }
   ],
   "source": [
    "#for multiline string use  triple quotes\n",
    "para=\"\"\"This is \n",
    "a multiline \n",
    "paragraph\"\"\"\n",
    "print(para)"
   ]
  },
  {
   "cell_type": "code",
   "execution_count": 260,
   "id": "884cd8a5-cac0-4e06-b2c5-582bd3dcfbb3",
   "metadata": {},
   "outputs": [
    {
     "name": "stdout",
     "output_type": "stream",
     "text": [
      "['This', 'is', 'a', 'multiline', 'paragraph']\n"
     ]
    },
    {
     "data": {
      "text/plain": [
       "' this is used to split up the words and then convert it in the \\n    list of words'"
      ]
     },
     "execution_count": 260,
     "metadata": {},
     "output_type": "execute_result"
    }
   ],
   "source": [
    "l=para.split()\n",
    "print(l)\n",
    "''' this is used to split up the words and then convert it in the \n",
    "    list of words'''"
   ]
  },
  {
   "cell_type": "code",
   "execution_count": 181,
   "id": "ba615d3b-df0c-4ad1-b1c5-a246e207bd11",
   "metadata": {},
   "outputs": [
    {
     "name": "stdout",
     "output_type": "stream",
     "text": [
      "hey there the world is not the same for everyone\n",
      "['hey', 'there', 'the', 'world', 'is', 'not', 'the', 'same', 'for', 'everyone']\n"
     ]
    }
   ],
   "source": [
    "a=\"hey there the world is not the same for everyone\"\n",
    "print(a)\n",
    "l=a.split()\n",
    "print(l)"
   ]
  },
  {
   "cell_type": "code",
   "execution_count": 184,
   "id": "b5110e4a-5ec5-4783-9ae8-3c90a30894f7",
   "metadata": {},
   "outputs": [
    {
     "name": "stdout",
     "output_type": "stream",
     "text": [
      "['h', 'e', 'y', 't', 'h', 'e', 'r', 'e']\n"
     ]
    }
   ],
   "source": [
    "#making a list of all the characters of the string \n",
    "a=\"heythere\"\n",
    "l=list(a)\n",
    "print(l)"
   ]
  },
  {
   "cell_type": "code",
   "execution_count": 188,
   "id": "b9b93708-59d5-4b14-a29d-97d28315fda4",
   "metadata": {},
   "outputs": [
    {
     "name": "stdout",
     "output_type": "stream",
     "text": [
      "<class 'str'>\n",
      "<class 'str'>\n",
      "<class 'str'>\n"
     ]
    }
   ],
   "source": [
    "print(type(a))\n",
    "# here the a we are refering to isn't the varibale declared above\n",
    "print(type(\"\"\"a\"\"\"))\n",
    "print(type(\"a\"))"
   ]
  },
  {
   "cell_type": "code",
   "execution_count": 198,
   "id": "1a167840-ee34-4b02-8dc8-26fc8097d4a3",
   "metadata": {},
   "outputs": [
    {
     "name": "stdout",
     "output_type": "stream",
     "text": [
      "10\n",
      "20\n",
      "20\n",
      "20\n"
     ]
    }
   ],
   "source": [
    "#priority is given to the statement that is written above\n",
    "x=10\n",
    "X=20\n",
    "print(x)\n",
    "print(X)\n",
    "print(x+10)\n",
    "print(x+10)"
   ]
  },
  {
   "cell_type": "code",
   "execution_count": 206,
   "id": "3539faea-2266-4731-8ada-e5d70f28f1b0",
   "metadata": {},
   "outputs": [
    {
     "name": "stdout",
     "output_type": "stream",
     "text": [
      "helloworld\n",
      "HELLOWORLD\n"
     ]
    }
   ],
   "source": [
    "a=\"HelloWorld\"\n",
    "b=a.lower()\n",
    "c=a.upper()\n",
    "print(b)\n",
    "print(c)"
   ]
  },
  {
   "cell_type": "code",
   "execution_count": 208,
   "id": "fd477897-ea55-4748-9643-53e2cd665436",
   "metadata": {},
   "outputs": [
    {
     "data": {
      "text/plain": [
       "10"
      ]
     },
     "execution_count": 208,
     "metadata": {},
     "output_type": "execute_result"
    }
   ],
   "source": [
    "a=\"       123\"\n",
    "len(a) #the space is taken into account"
   ]
  },
  {
   "cell_type": "code",
   "execution_count": 210,
   "id": "8f7a7c69-2a70-46ef-80f6-43f6d08c99e4",
   "metadata": {},
   "outputs": [
    {
     "data": {
      "text/plain": [
       "3"
      ]
     },
     "execution_count": 210,
     "metadata": {},
     "output_type": "execute_result"
    }
   ],
   "source": [
    "a=a.strip() #this is used to remvoe empty space\n",
    "len(a)"
   ]
  },
  {
   "cell_type": "code",
   "execution_count": 211,
   "id": "18d2db07-c05f-4d26-8265-d5189fc78019",
   "metadata": {},
   "outputs": [
    {
     "data": {
      "text/plain": [
       "True"
      ]
     },
     "execution_count": 211,
     "metadata": {},
     "output_type": "execute_result"
    }
   ],
   "source": [
    "a=\"93\"\n",
    "a.isdigit()\n",
    "#returns true if the strings contains only numbers"
   ]
  },
  {
   "cell_type": "code",
   "execution_count": 212,
   "id": "3d77cb42-42cc-44ca-80bb-62549380de19",
   "metadata": {},
   "outputs": [
    {
     "data": {
      "text/plain": [
       "False"
      ]
     },
     "execution_count": 212,
     "metadata": {},
     "output_type": "execute_result"
    }
   ],
   "source": [
    "a=\"hello12345\"\n",
    "a.isdigit()\n",
    "#returns true if the strings contains only numbers"
   ]
  },
  {
   "cell_type": "code",
   "execution_count": 213,
   "id": "2c4689eb-257c-4ee8-a1e9-e84be3c282a9",
   "metadata": {},
   "outputs": [
    {
     "data": {
      "text/plain": [
       "True"
      ]
     },
     "execution_count": 213,
     "metadata": {},
     "output_type": "execute_result"
    }
   ],
   "source": [
    "a=\"hello12345\"\n",
    "a.isalnum()\n",
    "#should contain only alphabets and numbers"
   ]
  },
  {
   "cell_type": "code",
   "execution_count": 214,
   "id": "e94b3114-b40e-4058-9c5b-875292d938f9",
   "metadata": {},
   "outputs": [
    {
     "data": {
      "text/plain": [
       "False"
      ]
     },
     "execution_count": 214,
     "metadata": {},
     "output_type": "execute_result"
    }
   ],
   "source": [
    "a=\"HEY\"\n",
    "a.islower()"
   ]
  },
  {
   "cell_type": "code",
   "execution_count": 215,
   "id": "f02a154c-17cd-4782-a24a-059379d96d37",
   "metadata": {},
   "outputs": [
    {
     "data": {
      "text/plain": [
       "True"
      ]
     },
     "execution_count": 215,
     "metadata": {},
     "output_type": "execute_result"
    }
   ],
   "source": [
    "a=\"hey\"\n",
    "a.islower()"
   ]
  },
  {
   "cell_type": "code",
   "execution_count": 216,
   "id": "805aa5ce-bffe-438a-b2db-3e224a28b37a",
   "metadata": {},
   "outputs": [
    {
     "data": {
      "text/plain": [
       "14"
      ]
     },
     "execution_count": 216,
     "metadata": {},
     "output_type": "execute_result"
    }
   ],
   "source": [
    "a=\"I love having Apple Juice, and i like to eat green Apple\"\n",
    "a.find(\"Apple\")\n",
    "#return first occurence from left in the string"
   ]
  },
  {
   "cell_type": "code",
   "execution_count": 234,
   "id": "cbdf92b9-ed3c-4aac-9fd5-4314966b51fd",
   "metadata": {},
   "outputs": [
    {
     "name": "stdout",
     "output_type": "stream",
     "text": [
      "14\n",
      "10\n",
      "15\n",
      "15\n",
      "10\n"
     ]
    }
   ],
   "source": [
    "string=\"a quick brown fox jumps over the lazy dog\"\n",
    "idx=string.find(\"fox\")\n",
    "print(idx)\n",
    "'''if it doesn't contain the character or the word that you searched then\n",
    "it'll return -1 as the result'''\n",
    "b=string.find('o')\n",
    "print(b)\n",
    "c=string.find('o',11) #searches from the index 11 onwards\n",
    "print(c)\n",
    "d=string.find('o',11,19) #serahces from 11 to 19 \n",
    "print(d)\n",
    "\"\"\"index and find are the same but find returns -1 if the character\n",
    "    is not in the string but index raises a value error\"\"\"\n",
    "b=string.index('o')\n",
    "print(b)"
   ]
  },
  {
   "cell_type": "code",
   "execution_count": 242,
   "id": "28d22668-e914-4d62-9700-41fb5307ccce",
   "metadata": {},
   "outputs": [
    {
     "name": "stdout",
     "output_type": "stream",
     "text": [
      "34\n",
      "34\n",
      "-1\n"
     ]
    }
   ],
   "source": [
    "''' rfind returns the occurance of the last value of the substring of the sring '''\n",
    "string=\"a quick brown fox jumps over the lazy dog\"\n",
    "idx=string.rfind(\"a\")\n",
    "print(idx)\n",
    "b=string.rfind(\"a\",20,35)\n",
    "print(b)\n",
    "c=string.rfind(\"a\",10,32)\n",
    "print(c)"
   ]
  },
  {
   "cell_type": "code",
   "execution_count": 245,
   "id": "157e01d7-97a9-4885-bf10-23e1fbec9ba3",
   "metadata": {},
   "outputs": [
    {
     "data": {
      "text/plain": [
       "3"
      ]
     },
     "execution_count": 245,
     "metadata": {},
     "output_type": "execute_result"
    }
   ],
   "source": [
    "a='hey hey hey there'\n",
    "a.count('hey')"
   ]
  },
  {
   "cell_type": "code",
   "execution_count": 251,
   "id": "91770791-54f1-40e5-a589-d46095488f05",
   "metadata": {},
   "outputs": [
    {
     "name": "stdout",
     "output_type": "stream",
     "text": [
      "hi hi hi there\n",
      "['hi', 'hi', 'hi', 'there']\n",
      "hi_hi_hi_there\n",
      "hi....hi....hi....there\n"
     ]
    }
   ],
   "source": [
    "a=a.replace(\"hey\",\"hi\")\n",
    "print(a)\n",
    "b=a.split()\n",
    "print(b)\n",
    "c=\"_\".join(b)\n",
    "print(c)\n",
    "d=\"....\".join(b)\n",
    "print(d)"
   ]
  },
  {
   "cell_type": "code",
   "execution_count": 259,
   "id": "9086cbae-9da7-4216-9acc-9794895f0b68",
   "metadata": {},
   "outputs": [
    {
     "name": "stdout",
     "output_type": "stream",
     "text": [
      "a quick brown fox jumps over the lazy dog\n",
      "A quick brown fox jumps over the lazy dog\n"
     ]
    }
   ],
   "source": [
    "a=\"a quick brown fox jumps over the lazy dog\"\n",
    "b=a.capitalize()\n",
    "print(a)\n",
    "print(b)\n",
    "# just capitalizes the first letter of the first alpahbet"
   ]
  },
  {
   "cell_type": "code",
   "execution_count": 258,
   "id": "064c5367-60b5-43d3-b26e-b8c14c55122a",
   "metadata": {},
   "outputs": [
    {
     "name": "stdout",
     "output_type": "stream",
     "text": [
      "a quick brown fox jumps over the lazy dog\n",
      "A Quick Brown Fox Jumps Over The Lazy Dog\n"
     ]
    }
   ],
   "source": [
    "a=\"a quick brown fox jumps over the lazy dog\"\n",
    "b=a.title()\n",
    "print(a)\n",
    "print(b)\n",
    "# capitalizes the first letter of every word"
   ]
  }
 ],
 "metadata": {
  "kernelspec": {
   "display_name": "Python 3 (ipykernel)",
   "language": "python",
   "name": "python3"
  },
  "language_info": {
   "codemirror_mode": {
    "name": "ipython",
    "version": 3
   },
   "file_extension": ".py",
   "mimetype": "text/x-python",
   "name": "python",
   "nbconvert_exporter": "python",
   "pygments_lexer": "ipython3",
   "version": "3.13.5"
  }
 },
 "nbformat": 4,
 "nbformat_minor": 5
}
