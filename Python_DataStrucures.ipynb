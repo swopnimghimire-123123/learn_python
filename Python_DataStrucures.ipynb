{
 "cells": [
  {
   "cell_type": "markdown",
   "id": "25106fa1-7578-4ce3-b946-122ff2b5ed7f",
   "metadata": {},
   "source": [
    "### In this segment we'll explore about the python data strucures "
   ]
  },
  {
   "cell_type": "markdown",
   "id": "8247696a-db89-4cd1-8a9a-5864829f12a5",
   "metadata": {},
   "source": [
    "### List"
   ]
  },
  {
   "cell_type": "code",
   "execution_count": 262,
   "id": "90c242a3-fcd4-4c05-b5e0-bd1dd79a3647",
   "metadata": {},
   "outputs": [
    {
     "name": "stdout",
     "output_type": "stream",
     "text": [
      "[1, 2, 3, 'Hello']\n",
      "<class 'list'>\n"
     ]
    }
   ],
   "source": [
    "myList=[1,2,3,\"Hello\"]\n",
    "print(myList)\n",
    "print(type(myList))"
   ]
  },
  {
   "cell_type": "code",
   "execution_count": 263,
   "id": "44d06917-f401-4220-b3d4-0deb56d5fbb3",
   "metadata": {},
   "outputs": [
    {
     "name": "stdout",
     "output_type": "stream",
     "text": [
      "[1, 2, 3]\n",
      "<class 'list'>\n"
     ]
    }
   ],
   "source": [
    "l2=list([1,2,3])\n",
    "print(l2)\n",
    "print(type(l2))"
   ]
  },
  {
   "cell_type": "code",
   "execution_count": 265,
   "id": "e6050ec0-f9c4-43b3-b6ba-d4ce5573dc69",
   "metadata": {},
   "outputs": [
    {
     "name": "stdout",
     "output_type": "stream",
     "text": [
      "[1, 2, 3]\n"
     ]
    }
   ],
   "source": [
    "l3=list(l2)\n",
    "print(l3)"
   ]
  },
  {
   "cell_type": "code",
   "execution_count": 266,
   "id": "39732e6c-a8fe-4465-99be-a259988c272e",
   "metadata": {},
   "outputs": [
    {
     "name": "stdout",
     "output_type": "stream",
     "text": [
      "[1, 2, 3, 1, 2, 3]\n"
     ]
    }
   ],
   "source": [
    "l4=l2+l3\n",
    "print(l4)"
   ]
  },
  {
   "cell_type": "code",
   "execution_count": 313,
   "id": "a5120f26-ac52-4ad9-863b-bc57dded33f7",
   "metadata": {},
   "outputs": [
    {
     "name": "stdout",
     "output_type": "stream",
     "text": [
      "[3, 6, 7, 8, 9, 1, 2, 3]\n"
     ]
    }
   ],
   "source": [
    "l5=[3,6,7,8,9]\n",
    "l5.extend(l2) #extend changes the original variable\n",
    "print(l5)"
   ]
  },
  {
   "cell_type": "code",
   "execution_count": 271,
   "id": "9ab4e04f-c124-47bb-af4f-5159f6bc5a64",
   "metadata": {},
   "outputs": [
    {
     "name": "stdout",
     "output_type": "stream",
     "text": [
      "[3, 6, 7, 8, 9, 1, 2, 3, 1, 2, 3]\n"
     ]
    }
   ],
   "source": [
    "#here the extended version of l5 is used\n",
    "print(l5+l2)"
   ]
  },
  {
   "cell_type": "code",
   "execution_count": 275,
   "id": "611dd955-36e2-498b-8e64-33e6a0e5ef29",
   "metadata": {},
   "outputs": [
    {
     "name": "stdout",
     "output_type": "stream",
     "text": [
      "[1, 4, 9, 16, 25, 36]\n"
     ]
    }
   ],
   "source": [
    "#print the square of first 6 natural number in the form of list \n",
    "l6=[i*i for i in range(1,7)]\n",
    "print(l6)"
   ]
  },
  {
   "cell_type": "code",
   "execution_count": 276,
   "id": "f1544cce-01a5-4273-938e-94df86bd8c37",
   "metadata": {},
   "outputs": [
    {
     "name": "stdout",
     "output_type": "stream",
     "text": [
      "[1, 4, 9]\n",
      "[16, 25, 36]\n"
     ]
    }
   ],
   "source": [
    "##list Slicing\n",
    "print(l6[0:3])\n",
    "print(l6[-3:])"
   ]
  },
  {
   "cell_type": "markdown",
   "id": "279e2434-3949-4600-8686-69890862846e",
   "metadata": {},
   "source": [
    "### Insertion and deletion:\n",
    "- append\n",
    "- insert\n",
    "- remove\n",
    "- pop\n",
    "- del"
   ]
  },
  {
   "cell_type": "code",
   "execution_count": 299,
   "id": "47bdde6f-1079-433c-864c-5b4b8bb29134",
   "metadata": {},
   "outputs": [
    {
     "name": "stdout",
     "output_type": "stream",
     "text": [
      "[1, 2, 3]\n",
      "[1, 2, 3, [1, 2]]\n",
      "[1, 2, 3, [1, 2], 4, 5, 6]\n",
      "[1, 2]\n",
      "1\n",
      "2\n"
     ]
    }
   ],
   "source": [
    "l=[1,2]\n",
    "l.append(3)\n",
    "print(l)\n",
    "l.append([1,2])\n",
    "print(l)\n",
    "l+=[4,5,6]\n",
    "print(l)\n",
    "print(l[3])\n",
    "print(l[3][0])\n",
    "print(l[3][1])"
   ]
  },
  {
   "cell_type": "code",
   "execution_count": 300,
   "id": "60654229-aade-4042-8004-b4f75774eaf7",
   "metadata": {},
   "outputs": [
    {
     "name": "stdout",
     "output_type": "stream",
     "text": [
      "[1, 2, 3, [1, 2], 4, 5, 6]\n"
     ]
    }
   ],
   "source": [
    "print(l)"
   ]
  },
  {
   "cell_type": "code",
   "execution_count": 304,
   "id": "026cc1af-7931-48cb-aef4-6719b48471a3",
   "metadata": {},
   "outputs": [
    {
     "name": "stdout",
     "output_type": "stream",
     "text": [
      "[3, [1, 2], 4, 5, 6]\n",
      "[[1, 2], 4, 5, 6]\n"
     ]
    }
   ],
   "source": [
    "print(l)\n",
    "del l[0]\n",
    "print(l)"
   ]
  },
  {
   "cell_type": "code",
   "execution_count": 305,
   "id": "6487060c-d336-4496-b72c-d570b6675f2a",
   "metadata": {},
   "outputs": [
    {
     "name": "stdout",
     "output_type": "stream",
     "text": [
      "[[1, 2], 4, 5]\n"
     ]
    }
   ],
   "source": [
    "#pop deletes element from last\n",
    "l.pop()\n",
    "print(l)"
   ]
  },
  {
   "cell_type": "code",
   "execution_count": 306,
   "id": "d9128063-f304-40c6-93c0-e6e5cb163821",
   "metadata": {},
   "outputs": [
    {
     "name": "stdout",
     "output_type": "stream",
     "text": [
      "[1, 2, 3, 1, 2, 3, 1, 2, 3, 1, 2, 3]\n"
     ]
    }
   ],
   "source": [
    "l=[1,2,3]\n",
    "l=l*4\n",
    "#repeats the list 4 times\n",
    "print(l)"
   ]
  },
  {
   "cell_type": "code",
   "execution_count": 307,
   "id": "0076bd3f-bacf-49ee-a4d3-a6f79d22ee2e",
   "metadata": {},
   "outputs": [
    {
     "data": {
      "text/plain": [
       "True"
      ]
     },
     "execution_count": 307,
     "metadata": {},
     "output_type": "execute_result"
    }
   ],
   "source": [
    "l=[\"apple\",\"mango\",\"guava\",80]\n",
    "80 in l "
   ]
  },
  {
   "cell_type": "code",
   "execution_count": 308,
   "id": "685ba989-0347-439b-95ba-3724fa5525bb",
   "metadata": {},
   "outputs": [
    {
     "name": "stdout",
     "output_type": "stream",
     "text": [
      "apple\n",
      "mango\n",
      "guava\n",
      "80\n"
     ]
    }
   ],
   "source": [
    "for i in range(len(l)):\n",
    "    print(l[i])"
   ]
  },
  {
   "cell_type": "code",
   "execution_count": 310,
   "id": "c44a45d0-bf4f-4fb0-a309-7130f304f3ae",
   "metadata": {},
   "outputs": [
    {
     "name": "stdout",
     "output_type": "stream",
     "text": [
      "apple\n",
      "mango\n",
      "guava\n",
      "80\n"
     ]
    }
   ],
   "source": [
    "#the upper and this row both gives the same output\n",
    "for x in l:\n",
    "    print(x)"
   ]
  },
  {
   "cell_type": "code",
   "execution_count": 312,
   "id": "c53ca284-dfe5-4851-ba07-7f3115a77f78",
   "metadata": {},
   "outputs": [
    {
     "name": "stdout",
     "output_type": "stream",
     "text": [
      "['apple', 'mango', 20, 20, 'guava', 80]\n"
     ]
    }
   ],
   "source": [
    "#insert method\n",
    "l.insert(2,20) # the first value is the index and the second one is the acutal value\n",
    "print(l)"
   ]
  },
  {
   "cell_type": "code",
   "execution_count": 320,
   "id": "d8d1b3dc-2b9e-45e6-97ce-a96b8ea1e20b",
   "metadata": {},
   "outputs": [
    {
     "name": "stdout",
     "output_type": "stream",
     "text": [
      "56\n",
      "0\n"
     ]
    }
   ],
   "source": [
    "# finding the max , min values\n",
    "l=[1,2,4,56,7,8,9,0]\n",
    "print(max(l))\n",
    "print(min(l))"
   ]
  },
  {
   "cell_type": "code",
   "execution_count": 319,
   "id": "c868a6c3-0cf4-4fef-811a-d132e249743e",
   "metadata": {},
   "outputs": [
    {
     "name": "stdout",
     "output_type": "stream",
     "text": [
      "3\n",
      "7\n"
     ]
    }
   ],
   "source": [
    "#finding the index of max and min values when you know them\n",
    "print(l.index(56))\n",
    "print(l.index(0))"
   ]
  },
  {
   "cell_type": "code",
   "execution_count": 318,
   "id": "787549e1-fe49-4479-b1f8-10cabe8a25b5",
   "metadata": {},
   "outputs": [
    {
     "name": "stdout",
     "output_type": "stream",
     "text": [
      "3\n",
      "7\n"
     ]
    }
   ],
   "source": [
    "#to find the index of max and min value in the list without knowing the acutal numbers\n",
    "print(l.index(max(l)))\n",
    "print(l.index(min(l)))"
   ]
  },
  {
   "cell_type": "code",
   "execution_count": 322,
   "id": "48590093-db2c-423b-b0a8-d9d351129d67",
   "metadata": {},
   "outputs": [
    {
     "data": {
      "text/plain": [
       "[0, 1, 2, 4, 7, 8, 9, 56]"
      ]
     },
     "execution_count": 322,
     "metadata": {},
     "output_type": "execute_result"
    }
   ],
   "source": [
    "sorted(l)"
   ]
  },
  {
   "cell_type": "code",
   "execution_count": 323,
   "id": "e84b741e-f2b4-4fc3-8326-3d630c86973d",
   "metadata": {},
   "outputs": [
    {
     "name": "stdout",
     "output_type": "stream",
     "text": [
      "[1, 2, 4, 56, 7, 8, 9, 0]\n"
     ]
    }
   ],
   "source": [
    "print(l)"
   ]
  },
  {
   "cell_type": "code",
   "execution_count": 324,
   "id": "d2ebaa30-f451-4ed4-9741-51f608a31403",
   "metadata": {},
   "outputs": [
    {
     "name": "stdout",
     "output_type": "stream",
     "text": [
      "[0, 1, 2, 4, 7, 8, 9, 56]\n"
     ]
    }
   ],
   "source": [
    "l=sorted(l)\n",
    "print(l)"
   ]
  },
  {
   "cell_type": "code",
   "execution_count": 328,
   "id": "f8c2e8cb-e4f1-464f-a902-f7dd6efca98e",
   "metadata": {},
   "outputs": [
    {
     "name": "stdout",
     "output_type": "stream",
     "text": [
      "[300, 7, 6, 5, 4, 3]\n"
     ]
    }
   ],
   "source": [
    "#To sort list in descending order\n",
    "l2=[300,5,4,3,6,7]\n",
    "l2.sort(reverse=True)\n",
    "print(l2)"
   ]
  },
  {
   "cell_type": "code",
   "execution_count": 329,
   "id": "566b4a14-f30e-47f0-84ad-1dba19810c33",
   "metadata": {},
   "outputs": [
    {
     "name": "stdin",
     "output_type": "stream",
     "text": [
      " 1 2 3 4 5 6 7 8 \n"
     ]
    },
    {
     "name": "stdout",
     "output_type": "stream",
     "text": [
      "<class 'list'>\n",
      "['1', '2', '3', '4', '5', '6', '7', '8']\n"
     ]
    }
   ],
   "source": [
    "#Read a list of numbers from the user\n",
    "#As we have already used .split() to covert the fed input into the list of number \n",
    "#So we'll do the same here \n",
    "numbers=input().split()\n",
    "print(type(numbers))\n",
    "print(numbers)"
   ]
  },
  {
   "cell_type": "code",
   "execution_count": 331,
   "id": "22efe602-94bb-4de2-a8e6-2bee9be959a4",
   "metadata": {},
   "outputs": [
    {
     "name": "stdin",
     "output_type": "stream",
     "text": [
      " 1 2 3 4 5 6 7 8 9 \n"
     ]
    },
    {
     "name": "stdout",
     "output_type": "stream",
     "text": [
      "<class 'list'>\n",
      "[1, 2, 3, 4, 5, 6, 7, 8, 9]\n"
     ]
    }
   ],
   "source": [
    "#Here the numbers that are fed in are saved as integers not as strings\n",
    "numbers=[int(x) for x in input().split()]\n",
    "print(type(numbers))\n",
    "print(numbers)"
   ]
  },
  {
   "cell_type": "markdown",
   "id": "86a92278-6f98-4694-8cfe-31a661e1a46e",
   "metadata": {},
   "source": [
    "### Tuples"
   ]
  },
  {
   "cell_type": "markdown",
   "id": "e62c91d9-1330-400e-84f2-9ba2c7cd124d",
   "metadata": {},
   "source": [
    "Tuples are collection of objects.\n",
    "\n",
    "- Unlike lists they are immutable,To summarise the difference, mutable objects can change their state or contents and immutable objects can’t change their state or content.Strings and tuples are immutable.\n",
    "\n",
    "- Coma seperated entries within ()"
   ]
  },
  {
   "cell_type": "markdown",
   "id": "beaffc4f-049b-43b8-b1a3-31d7c8a5f878",
   "metadata": {},
   "source": [
    "#### Why use tuples?\n",
    "\n",
    "- Tuples are faster than lists.\n",
    "- Data is safe and write-protected.\n",
    "- If we want to return multiple values from a function."
   ]
  },
  {
   "cell_type": "code",
   "execution_count": 338,
   "id": "4ce50ed2-8e26-4dcb-8a18-bdfcef51bdb4",
   "metadata": {},
   "outputs": [
    {
     "name": "stdout",
     "output_type": "stream",
     "text": [
      "<class 'tuple'>\n"
     ]
    },
    {
     "data": {
      "text/plain": [
       "4"
      ]
     },
     "execution_count": 338,
     "metadata": {},
     "output_type": "execute_result"
    }
   ],
   "source": [
    "t=(1,2,3,4,56,6)\n",
    "print(type(t))\n",
    "t[3]"
   ]
  },
  {
   "cell_type": "code",
   "execution_count": 342,
   "id": "fc3e13c1-b380-4baa-a1da-bf75846b943e",
   "metadata": {},
   "outputs": [
    {
     "name": "stdout",
     "output_type": "stream",
     "text": [
      "[1, 2, 3, 4, 56, 6]\n",
      "<class 'list'>\n",
      "[10, 2, 3, 4, 56, 6]\n"
     ]
    }
   ],
   "source": [
    "#To change the values of tuples to list\n",
    "l=list(t)\n",
    "print(l)\n",
    "print(type(l))\n",
    "l[0]=10\n",
    "print(l)"
   ]
  },
  {
   "cell_type": "code",
   "execution_count": 344,
   "id": "85d1e17d-4a7c-46aa-8f8b-d023cdec4217",
   "metadata": {},
   "outputs": [
    {
     "name": "stdout",
     "output_type": "stream",
     "text": [
      "(1, 2, 3, 4, 6, 7, 8, 88)\n",
      "<class 'tuple'>\n"
     ]
    }
   ],
   "source": [
    "#conveting list to tuples\n",
    "l=[1,2,3,4,6,7,8,88]\n",
    "t=tuple(l)\n",
    "print(t)\n",
    "print(type(t))"
   ]
  },
  {
   "cell_type": "code",
   "execution_count": 345,
   "id": "b4982a3c-307d-41fe-b9d3-fc9e00f4e5e1",
   "metadata": {},
   "outputs": [
    {
     "name": "stdout",
     "output_type": "stream",
     "text": [
      "(1, 2, 34, 3, 6, 7, 8)\n"
     ]
    }
   ],
   "source": [
    "#concatination of tuple\n",
    "x=(1,2,34)\n",
    "y=(3,6,7,8)\n",
    "z=x+y\n",
    "print(z)"
   ]
  },
  {
   "cell_type": "code",
   "execution_count": 346,
   "id": "07eac436-4656-4652-959a-d0d5fa9365fc",
   "metadata": {},
   "outputs": [
    {
     "name": "stdout",
     "output_type": "stream",
     "text": [
      "(1, 2, 34, 1, 2, 34, 1, 2, 34)\n"
     ]
    }
   ],
   "source": [
    "#repetation of tuples\n",
    "x=x*3\n",
    "print(x)"
   ]
  },
  {
   "cell_type": "code",
   "execution_count": 351,
   "id": "025b300c-91d0-4123-a1ea-e8980b6a3d77",
   "metadata": {},
   "outputs": [
    {
     "name": "stdout",
     "output_type": "stream",
     "text": [
      "(1, 2, 34, 3, 6, 7, 8)\n",
      "34\n",
      "1\n"
     ]
    }
   ],
   "source": [
    "#finding the max and min value in a tuple\n",
    "print(z)\n",
    "print(max(z))\n",
    "print(min(z))"
   ]
  },
  {
   "cell_type": "code",
   "execution_count": 349,
   "id": "bf1f5ceb-46c9-4f8d-b76c-e0f36754d901",
   "metadata": {},
   "outputs": [
    {
     "name": "stdout",
     "output_type": "stream",
     "text": [
      "2\n",
      "0\n"
     ]
    }
   ],
   "source": [
    "#finding the max and min value index when we know them\n",
    "print(z.index(34))\n",
    "print(z.index(1))"
   ]
  },
  {
   "cell_type": "code",
   "execution_count": 350,
   "id": "729ba158-7c5a-40e2-b445-4c087758e00e",
   "metadata": {},
   "outputs": [
    {
     "name": "stdout",
     "output_type": "stream",
     "text": [
      "2\n",
      "0\n"
     ]
    }
   ],
   "source": [
    "#finding the max and min value index without knowing what the numbers are\n",
    "print(z.index(max(z)))\n",
    "print(z.index(min(z)))"
   ]
  },
  {
   "cell_type": "code",
   "execution_count": 352,
   "id": "00531eaa-0868-4c19-9d36-40b56575fc42",
   "metadata": {},
   "outputs": [
    {
     "ename": "SyntaxError",
     "evalue": "Missing parentheses in call to 'print'. Did you mean print(...)? (890113834.py, line 2)",
     "output_type": "error",
     "traceback": [
      "  \u001b[36mCell\u001b[39m\u001b[36m \u001b[39m\u001b[32mIn[352]\u001b[39m\u001b[32m, line 2\u001b[39m\n\u001b[31m    \u001b[39m\u001b[31mprint z\u001b[39m\n    ^\n\u001b[31mSyntaxError\u001b[39m\u001b[31m:\u001b[39m Missing parentheses in call to 'print'. Did you mean print(...)?\n"
     ]
    }
   ],
   "source": [
    "#after deletion you can't call the variable that you just deleted\n",
    "del z\n",
    "print z # it's meant to give error"
   ]
  },
  {
   "cell_type": "markdown",
   "id": "10d71692-ec31-48ba-932c-0917c225255e",
   "metadata": {},
   "source": [
    "Set"
   ]
  },
  {
   "cell_type": "markdown",
   "id": "07a96081-d263-48cc-b0e8-90c24dbba504",
   "metadata": {},
   "source": [
    "### stores unique unordered elements"
   ]
  },
  {
   "cell_type": "code",
   "execution_count": 353,
   "id": "347e89a1-2da0-460c-881d-80edfedd1c70",
   "metadata": {},
   "outputs": [
    {
     "name": "stdout",
     "output_type": "stream",
     "text": [
      "{2, 100, 4, 6, 7, 8, 10}\n",
      "<class 'set'>\n"
     ]
    }
   ],
   "source": [
    "s={100,2,4,6,7,8,10}\n",
    "print(s)\n",
    "print(type(s))"
   ]
  },
  {
   "cell_type": "code",
   "execution_count": 355,
   "id": "4c5806f8-2ef9-4137-8eb0-bbab825db439",
   "metadata": {},
   "outputs": [
    {
     "name": "stdout",
     "output_type": "stream",
     "text": [
      "present\n"
     ]
    }
   ],
   "source": [
    "if 100 in s :\n",
    "    print(\"present\")\n",
    "else:\n",
    "    print(\"not present\")"
   ]
  },
  {
   "cell_type": "code",
   "execution_count": 356,
   "id": "8f596e01-6e88-48e8-8578-09590f3220aa",
   "metadata": {},
   "outputs": [
    {
     "name": "stdout",
     "output_type": "stream",
     "text": [
      "{1, 2, 3, 4, 15}\n"
     ]
    }
   ],
   "source": [
    "s=set([15,1,2,2,4,3,1,1])\n",
    "print(s)\n",
    "# each element has only one copy, no repetition"
   ]
  },
  {
   "cell_type": "code",
   "execution_count": 367,
   "id": "0737ce03-9887-4260-8cc8-647469918080",
   "metadata": {},
   "outputs": [
    {
     "name": "stdout",
     "output_type": "stream",
     "text": [
      "{1, 2, 3, 4, 100, 15, 50}\n"
     ]
    }
   ],
   "source": [
    "s.add(100)\n",
    "print(s)"
   ]
  },
  {
   "cell_type": "code",
   "execution_count": 369,
   "id": "bf0f9e23-528c-4f37-a25a-7b1a0635f25f",
   "metadata": {},
   "outputs": [
    {
     "name": "stdout",
     "output_type": "stream",
     "text": [
      "{1, 2, 3, 4, 100, 50}\n"
     ]
    }
   ],
   "source": [
    "s.remove(15)\n",
    "print(s)"
   ]
  },
  {
   "cell_type": "code",
   "execution_count": 375,
   "id": "c630e70b-823f-4598-971f-0e173865b7a2",
   "metadata": {},
   "outputs": [
    {
     "name": "stdout",
     "output_type": "stream",
     "text": [
      "{1, 2, 3, 4, 5, 6, 7, 8, 9, 10}\n",
      "{1, 2, 3, 4, 5, 6, 7, 8, 9, 10}\n",
      "{9, 4, 5, 6}\n",
      "{9, 4, 5, 6}\n",
      "{1, 2, 3}\n",
      "{1, 2, 3}\n",
      "{8, 10, 7}\n",
      "{8, 10, 7}\n"
     ]
    }
   ],
   "source": [
    "a={1,2,3,4,5,6,9}\n",
    "b={4,5,6,7,8,9,10}\n",
    "print(a.union(b))\n",
    "print(a|b)\n",
    "print(a.intersection(b))\n",
    "print(a&b)\n",
    "print(a-b)\n",
    "print(a.difference(b))\n",
    "print(b-a)\n",
    "print(b.difference(a))"
   ]
  },
  {
   "cell_type": "code",
   "execution_count": 377,
   "id": "1c8c9a59-95f4-48fc-830d-4dddd5ed227c",
   "metadata": {},
   "outputs": [
    {
     "name": "stdout",
     "output_type": "stream",
     "text": [
      "{1, 5, 6}\n"
     ]
    }
   ],
   "source": [
    "a1={1,2,3,4}\n",
    "a2={2,3,4,5,6}\n",
    "print(a1 ^ a2)\n",
    "#XOR operator-returns elemnts which are only in one of the sets\n",
    "#XOR oeprator is basically and operator ie: their functionaly is same"
   ]
  },
  {
   "cell_type": "markdown",
   "id": "a55a9e6a-6d87-4dd8-a2d2-1fb612618b96",
   "metadata": {},
   "source": [
    "Dicionary"
   ]
  },
  {
   "cell_type": "markdown",
   "id": "08bd9eeb-627d-4ab9-bf3a-c920694378ff",
   "metadata": {},
   "source": [
    "stores values in the form of (key,value) pair not in sorted order.\n",
    "keys should be unique"
   ]
  },
  {
   "cell_type": "code",
   "execution_count": 379,
   "id": "c555d190-d60f-456c-baa3-2dc8ee189427",
   "metadata": {},
   "outputs": [
    {
     "name": "stdout",
     "output_type": "stream",
     "text": [
      "<class 'dict'>\n",
      "<class 'set'>\n"
     ]
    }
   ],
   "source": [
    "d={}\n",
    "print(type(d))\n",
    "d1={1,3,5,6}\n",
    "print(type(d1))"
   ]
  },
  {
   "cell_type": "code",
   "execution_count": 391,
   "id": "f0826fd4-c6aa-4c52-b5df-7931e767cfa3",
   "metadata": {},
   "outputs": [
    {
     "name": "stdout",
     "output_type": "stream",
     "text": [
      "{'mango': 40, 'apple': 50}\n",
      "<class 'dict'>\n",
      "40\n",
      "{'mango': 40, 'apple': 50, 'banana': 40}\n",
      "{'mango': 40, 'apple': 50, 'banana': 40, 'pineapple': [10, 20]}\n",
      "{'mango': 40, 'apple': 50, 'banana': 40, 'pineapple': [10, 20], 'grapes': {'small': 50, 'large': 100}}\n",
      "100\n"
     ]
    }
   ],
   "source": [
    "d={\"mango\":40,\"apple\":50}\n",
    "print(d)\n",
    "print(type(d))\n",
    "#looking\n",
    "print(d[\"mango\"])\n",
    "#adding values\n",
    "d[\"banana\"]=40\n",
    "print(d)\n",
    "#values can be anything\n",
    "d[\"pineapple\"]=[10,20]\n",
    "print(d)\n",
    "#using dictionary within a key\n",
    "d[\"grapes\"]={\"small\":50,\"large\":100}\n",
    "print(d)\n",
    "print(d[\"grapes\"][\"large\"])"
   ]
  },
  {
   "cell_type": "code",
   "execution_count": 392,
   "id": "7823125f-bca2-411e-8e08-d456c4b3e2ea",
   "metadata": {},
   "outputs": [
    {
     "name": "stdout",
     "output_type": "stream",
     "text": [
      "dict_keys(['mango', 'apple', 'banana', 'pineapple', 'grapes'])\n"
     ]
    }
   ],
   "source": [
    "print(d.keys())\n",
    "#returns list of keys"
   ]
  },
  {
   "cell_type": "code",
   "execution_count": 401,
   "id": "62e6ab70-2078-42a1-b893-f58ddbb0d522",
   "metadata": {},
   "outputs": [
    {
     "name": "stdout",
     "output_type": "stream",
     "text": [
      "40\n",
      "{'small': 50, 'large': 100}\n",
      "[10, 20]\n",
      "None\n"
     ]
    }
   ],
   "source": [
    "#get() method used to get value for a given key\n",
    "print(d.get(\"mango\"))\n",
    "print(d.get(\"grapes\"))\n",
    "print(d.get(\"pineapple\"))\n",
    "#this doesn't throw an error when a mentioned key isn't avaiblabe eg:\n",
    "print(d.get(\"avacado\")) #throws none"
   ]
  },
  {
   "cell_type": "code",
   "execution_count": 406,
   "id": "46ca2dcb-655b-43da-84fe-e3a1bb31dbdf",
   "metadata": {},
   "outputs": [
    {
     "name": "stdout",
     "output_type": "stream",
     "text": [
      "40\n",
      "{'small': 50, 'large': 100}\n",
      "40\n"
     ]
    }
   ],
   "source": [
    "print(d[\"mango\"])\n",
    "print(d[\"grapes\"])\n",
    "print(d[\"banana\"])"
   ]
  },
  {
   "cell_type": "code",
   "execution_count": 407,
   "id": "f0b7b1d6-791e-4ca8-affc-83c84dad8b6f",
   "metadata": {},
   "outputs": [
    {
     "ename": "KeyError",
     "evalue": "'honey'",
     "output_type": "error",
     "traceback": [
      "\u001b[31m---------------------------------------------------------------------------\u001b[39m",
      "\u001b[31mKeyError\u001b[39m                                  Traceback (most recent call last)",
      "\u001b[36mCell\u001b[39m\u001b[36m \u001b[39m\u001b[32mIn[407]\u001b[39m\u001b[32m, line 2\u001b[39m\n\u001b[32m      1\u001b[39m \u001b[38;5;66;03m#this system gives error if the mentioned key is not avalable\u001b[39;00m\n\u001b[32m----> \u001b[39m\u001b[32m2\u001b[39m \u001b[38;5;28mprint\u001b[39m(\u001b[43md\u001b[49m\u001b[43m[\u001b[49m\u001b[33;43m\"\u001b[39;49m\u001b[33;43mhoney\u001b[39;49m\u001b[33;43m\"\u001b[39;49m\u001b[43m]\u001b[49m) \u001b[38;5;66;03m#it's meant to give error\u001b[39;00m\n",
      "\u001b[31mKeyError\u001b[39m: 'honey'"
     ]
    }
   ],
   "source": [
    "#this system gives error if the mentioned key is not avalable\n",
    "print(d[\"honey\"]) #it's meant to give error"
   ]
  },
  {
   "cell_type": "code",
   "execution_count": 410,
   "id": "1d94ae47-f5f0-48b0-9472-5eaff385784a",
   "metadata": {},
   "outputs": [
    {
     "name": "stdout",
     "output_type": "stream",
     "text": [
      "Price of grapes is {'small': 50, 'large': 100}\n"
     ]
    }
   ],
   "source": [
    "if \"grapes\" in d:\n",
    "    print(\"Price of grapes is\",d[\"grapes\"])\n",
    "else:\n",
    "    print(\"Doesn't exist\")"
   ]
  },
  {
   "cell_type": "code",
   "execution_count": 414,
   "id": "c60631b8-7761-4c8c-8f7e-b97064325311",
   "metadata": {},
   "outputs": [
    {
     "name": "stdout",
     "output_type": "stream",
     "text": [
      "Doesn't exist\n"
     ]
    }
   ],
   "source": [
    "if \"honey\" in d:\n",
    "    print(\"Price of honey is\",d[\"honey\"])\n",
    "else:\n",
    "    print(\"Doesn't exist\")"
   ]
  },
  {
   "cell_type": "code",
   "execution_count": 424,
   "id": "f9e9eef7-77e3-46ea-a3fe-ccdca2a4c862",
   "metadata": {},
   "outputs": [
    {
     "name": "stdout",
     "output_type": "stream",
     "text": [
      "dict_items([('apple', 50), ('pineapple', [10, 20]), ('grapes', {'small': 50, 'large': 100})])\n",
      "{'apple': 50, 'pineapple': [10, 20], 'grapes': {'small': 50, 'large': 100}}\n"
     ]
    }
   ],
   "source": [
    "#del d[\"the key of that item\"] and that item will be deleted from the dictionary\n",
    "#items() method->returns list of tuples\n",
    "print(d.items())\n",
    "print(d)"
   ]
  },
  {
   "cell_type": "code",
   "execution_count": 425,
   "id": "a97cbb37-b400-41e3-8004-defcbb6db758",
   "metadata": {},
   "outputs": [
    {
     "name": "stdout",
     "output_type": "stream",
     "text": [
      "[('apple', 50), ('pineapple', [10, 20]), ('grapes', {'small': 50, 'large': 100})]\n"
     ]
    }
   ],
   "source": [
    "#Converting dictionary into list\n",
    "l=list(d.items())\n",
    "print(l)"
   ]
  },
  {
   "cell_type": "code",
   "execution_count": 426,
   "id": "167fdabd-5734-46e6-89d5-7ae51c9205a9",
   "metadata": {},
   "outputs": [
    {
     "name": "stdout",
     "output_type": "stream",
     "text": [
      "{'apple': 50, 'pineapple': [10, 20], 'grapes': {'small': 50, 'large': 100}}\n",
      "{'apple': 50, 'pineapple': [10, 20], 'grapes': {'small': 50, 'large': 100}, 'Strawberry': 45}\n"
     ]
    }
   ],
   "source": [
    "# updtate()->merges two dictionary\n",
    "print(d)\n",
    "d2={\"Strawberry\":45}\n",
    "d.update(d2)\n",
    "print(d)"
   ]
  },
  {
   "cell_type": "code",
   "execution_count": 427,
   "id": "c201b3ef-3dff-4126-9e95-2b51055362cc",
   "metadata": {},
   "outputs": [
    {
     "name": "stdout",
     "output_type": "stream",
     "text": [
      "4\n"
     ]
    }
   ],
   "source": [
    "print(len(d))"
   ]
  },
  {
   "cell_type": "code",
   "execution_count": 432,
   "id": "12941a63-c172-4a53-aa1c-f968ffad0f7d",
   "metadata": {},
   "outputs": [
    {
     "name": "stdout",
     "output_type": "stream",
     "text": [
      "<zip object at 0x0000026254D7C040>\n",
      "{'Apple': 100, 'Papaya': 120, 'Guava': 30, 'Banana': 50}\n"
     ]
    }
   ],
   "source": [
    "#zip() method\n",
    "#making dictionary using two lists\n",
    "l1=[\"Apple\",\"Papaya\",\"Guava\",\"Banana\"]\n",
    "l2=[100,120,30,50] # the value will only be assigned to the varibale with the same index\n",
    "p=zip(l1,l2)\n",
    "print(p)\n",
    "type(p)\n",
    "\n",
    "#creates zip object\n",
    "p=dict(p) # p=dict(zip(l1,l2))\n",
    "print(p)"
   ]
  },
  {
   "cell_type": "code",
   "execution_count": 433,
   "id": "1cf639ea-033f-40c5-970e-bc4d7eb80e36",
   "metadata": {},
   "outputs": [
    {
     "name": "stdout",
     "output_type": "stream",
     "text": [
      "Apple\n",
      "Papaya\n",
      "Guava\n",
      "Banana\n"
     ]
    }
   ],
   "source": [
    "for items in p:\n",
    "    print(items)"
   ]
  },
  {
   "cell_type": "code",
   "execution_count": 438,
   "id": "21a6ece3-28b4-4eff-a125-789408e55299",
   "metadata": {},
   "outputs": [
    {
     "name": "stdout",
     "output_type": "stream",
     "text": [
      "Apple\n",
      "Papaya\n",
      "Guava\n",
      "Banana\n"
     ]
    }
   ],
   "source": [
    "for kys in p.keys():\n",
    "    print(kys)"
   ]
  },
  {
   "cell_type": "code",
   "execution_count": 439,
   "id": "c143fbe2-88f2-4d0e-b8ff-04be67777f52",
   "metadata": {},
   "outputs": [
    {
     "name": "stdout",
     "output_type": "stream",
     "text": [
      "100\n",
      "120\n",
      "30\n",
      "50\n"
     ]
    }
   ],
   "source": [
    "for val in p.values():\n",
    "    print(val)"
   ]
  },
  {
   "cell_type": "code",
   "execution_count": 440,
   "id": "59d34795-5dd6-4007-bbb6-d771b46b578b",
   "metadata": {},
   "outputs": [
    {
     "name": "stdout",
     "output_type": "stream",
     "text": [
      "100\n",
      "120\n",
      "30\n",
      "50\n"
     ]
    }
   ],
   "source": [
    "for values in p:\n",
    "    print(p[values])"
   ]
  }
 ],
 "metadata": {
  "kernelspec": {
   "display_name": "Python 3 (ipykernel)",
   "language": "python",
   "name": "python3"
  },
  "language_info": {
   "codemirror_mode": {
    "name": "ipython",
    "version": 3
   },
   "file_extension": ".py",
   "mimetype": "text/x-python",
   "name": "python",
   "nbconvert_exporter": "python",
   "pygments_lexer": "ipython3",
   "version": "3.13.5"
  }
 },
 "nbformat": 4,
 "nbformat_minor": 5
}
