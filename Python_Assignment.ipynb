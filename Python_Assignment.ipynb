{
 "cells": [
  {
   "cell_type": "markdown",
   "id": "3ec2183a-e093-48ff-bff8-9b67a0cf62ea",
   "metadata": {},
   "source": [
    "### 1. Write a Function to calculate length of a list and sort in in reverse order."
   ]
  },
  {
   "cell_type": "code",
   "execution_count": 19,
   "id": "6af5e7f1-555a-4c06-bd59-07428aa5c249",
   "metadata": {},
   "outputs": [
    {
     "name": "stdout",
     "output_type": "stream",
     "text": [
      "the number of item in the list is:  9\n",
      "reversed list [9, 8, 7, 6, 5, 4, 3, 2, 1]\n"
     ]
    }
   ],
   "source": [
    "def lis(n):\n",
    "    list_item=len(n)\n",
    "    sortthelist = sorted(n,reverse=True) \n",
    "    print(\"the number of item in the list is: \",list_item)\n",
    "    print(\"reversed list\",sortthelist)\n",
    "a=[1,2,3,4,5,6,7,8,9]\n",
    "lis(a)"
   ]
  },
  {
   "cell_type": "code",
   "execution_count": 18,
   "id": "f007ce8c-0e3d-4c66-be44-dd02a4ea3017",
   "metadata": {},
   "outputs": [
    {
     "name": "stdout",
     "output_type": "stream",
     "text": [
      "[5, 4, 2, 1]\n"
     ]
    }
   ],
   "source": [
    "#you can also reverse the list like this\n",
    "b=[1,2,4,5]\n",
    "print(b[::-1])"
   ]
  },
  {
   "cell_type": "markdown",
   "id": "a9d356ae-8a70-4d82-bd0a-7fc64b5666a9",
   "metadata": {},
   "source": [
    "### 2. Implement QuickSort on List (using fewer lines of code)."
   ]
  },
  {
   "cell_type": "code",
   "execution_count": 21,
   "id": "28cd1c55-9fdb-43b7-b88a-b70bfbef41ee",
   "metadata": {},
   "outputs": [
    {
     "name": "stdout",
     "output_type": "stream",
     "text": [
      "Original list: [10, 7, 8, 9, 1, 1, 5]\n",
      "Sorted list: [1, 1, 5, 7, 8, 9, 10]\n"
     ]
    }
   ],
   "source": [
    "def quicksort(items):\n",
    "    \"\"\"\n",
    "    Sorts a list using the QuickSort algorithm.\n",
    "    \"\"\"\n",
    "    if len(items) <= 1:\n",
    "        return items\n",
    "    \n",
    "    # Select the first element as the pivot\n",
    "    pivot = items[0]\n",
    "    # Partition the list using list comprehensions\n",
    "    less = [item for item in items[1:] if item < pivot]\n",
    "    equal = [item for item in items if item == pivot]\n",
    "    greater = [item for item in items[1:] if item > pivot]\n",
    "    \n",
    "    # Recursively sort the sub-lists and combine them\n",
    "    return quicksort(less) + equal + quicksort(greater)\n",
    "\n",
    "# --- Example Usage ---\n",
    "my_list = [10, 7, 8, 9,1, 1, 5]\n",
    "sorted_list = quicksort(my_list)\n",
    "\n",
    "print(f\"Original list: {my_list}\")\n",
    "print(f\"Sorted list: {sorted_list}\")"
   ]
  },
  {
   "cell_type": "code",
   "execution_count": 28,
   "id": "d21f6f41-a68b-47a4-858f-ec644f2f67d5",
   "metadata": {},
   "outputs": [
    {
     "name": "stdout",
     "output_type": "stream",
     "text": [
      "[1, 1, 2, 3, 6, 8, 10]\n"
     ]
    }
   ],
   "source": [
    "#using middle point as the pivoit element\n",
    "def quicksort(arr):\n",
    "    if len(arr) <= 1:\n",
    "        return arr\n",
    "    pivot = arr[len(arr) // 2]\n",
    "    left = [x for x in arr if x < pivot]\n",
    "    middle = [x for x in arr if x == pivot]\n",
    "    right = [x for x in arr if x > pivot]\n",
    "    return quicksort(left) + middle + quicksort(right)\n",
    "print(quicksort([3,6,8,10,1,2,1]))"
   ]
  },
  {
   "cell_type": "markdown",
   "id": "11e3cee5-4bed-40f6-b1ac-99c9d11a4994",
   "metadata": {},
   "source": [
    "### 3. let a list be s = [1, 3, 2, 1, 5, 3, 9] . use min(s) , max(s) ,sum(s).also find avg\n"
   ]
  },
  {
   "cell_type": "code",
   "execution_count": 29,
   "id": "82ff5275-8530-436d-b594-fa99eb9ae7cf",
   "metadata": {},
   "outputs": [
    {
     "name": "stdout",
     "output_type": "stream",
     "text": [
      "1\n",
      "9\n",
      "24\n",
      "3.4285714285714284\n"
     ]
    }
   ],
   "source": [
    "s=[1,3,2,1,5,3,9]\n",
    "print(min(s))\n",
    "print(max(s))\n",
    "print(sum(s))\n",
    "n=len(s)\n",
    "print(float(sum(s)/n))"
   ]
  },
  {
   "cell_type": "markdown",
   "id": "e5482b20-5e4a-41a3-920d-88283115d7b2",
   "metadata": {},
   "source": [
    "### 4. use import random and call random.shuffle(some_list) to shuffle the contents of the list some_list .\n"
   ]
  },
  {
   "cell_type": "code",
   "execution_count": 43,
   "id": "74232104-6d86-4faa-90f7-7d793f42eeb5",
   "metadata": {},
   "outputs": [
    {
     "name": "stdout",
     "output_type": "stream",
     "text": [
      "[1, 6, 4, 2, 9, 7, 8, 3, 5]\n"
     ]
    }
   ],
   "source": [
    "import random\n",
    "some_list=[1,2,3,4,5,6,7,8,9]\n",
    "random.shuffle(some_list) #you cannot store this in anothe variable\n",
    "print(some_list)"
   ]
  },
  {
   "cell_type": "markdown",
   "id": "8179645f-376c-403e-ba57-e18fd3c50533",
   "metadata": {},
   "source": [
    "### 5. print the last 3 elements of a lsit without using for loops."
   ]
  },
  {
   "cell_type": "code",
   "execution_count": 42,
   "id": "aab0fd11-28ca-48d5-86a7-4592c6ff54c3",
   "metadata": {},
   "outputs": [
    {
     "name": "stdout",
     "output_type": "stream",
     "text": [
      "The last three elements are:  7\n",
      "The last three elements are:  8\n",
      "The last three elements are:  9\n"
     ]
    }
   ],
   "source": [
    "some_list= [1,2,3,4,5,6,7,8,9]\n",
    "last_elem= len(a)-1\n",
    "n=last_elem-2\n",
    "while n<= last_elem:\n",
    "    print(\"The last three elements are: \",some_list[n])\n",
    "    n+=1"
   ]
  },
  {
   "cell_type": "markdown",
   "id": "05ef4250-cd92-49d2-b224-043fff427850",
   "metadata": {},
   "source": [
    "### 6. let some_list = [1, 2, 3, 6, 5, 1, 7, 3] . what is the output of:some_list[:-1] ,,,, some_list[-4:-2] ,,,, some_list[2:-3]"
   ]
  },
  {
   "cell_type": "code",
   "execution_count": 47,
   "id": "e1519627-3993-4af8-b061-070cf642c9b5",
   "metadata": {},
   "outputs": [
    {
     "name": "stdout",
     "output_type": "stream",
     "text": [
      "[1, 2, 3, 6, 5, 1, 7]\n",
      "[5, 1]\n"
     ]
    },
    {
     "data": {
      "text/plain": [
       "[3, 6, 5]"
      ]
     },
     "execution_count": 47,
     "metadata": {},
     "output_type": "execute_result"
    }
   ],
   "source": [
    "some_list = [1, 2, 3, 6, 5, 1, 7, 3]\n",
    "print(some_list[:-1]) #it'll rmove the last element\n",
    "print(some_list[-4:-2]) #it'll print the form the last four element to the last two elem \n",
    "some_list[2:-3] #it'll print from the third element to the last third elem(exculsive)"
   ]
  },
  {
   "cell_type": "markdown",
   "id": "a7fde770-4279-4576-a64d-d5d5ac462782",
   "metadata": {},
   "source": [
    "### Just checking the output problems"
   ]
  },
  {
   "cell_type": "code",
   "execution_count": 53,
   "id": "9670abda-9f76-4dfe-b82e-217aa4b02871",
   "metadata": {},
   "outputs": [
    {
     "name": "stdout",
     "output_type": "stream",
     "text": [
      "list1 = [10, 'a']\n",
      "list2 = [123]\n",
      "list3 = [10, 'a']\n",
      "1784677021632\n",
      "1784677021632\n"
     ]
    },
    {
     "data": {
      "text/plain": [
       "\"expected output \\n    list1 = [10]\\n    list2 = [123]\\n    list3 = ['a'] \""
      ]
     },
     "execution_count": 53,
     "metadata": {},
     "output_type": "execute_result"
    }
   ],
   "source": [
    "def extendList(val, list=[]):\n",
    "    list.append(val)\n",
    "    return list\n",
    "list1 = extendList(10)\n",
    "list2 = extendList(123,[])\n",
    "list3 = extendList('a')\n",
    "print (\"list1 = %s\" % list1)\n",
    "print (\"list2 = %s\" % list2)\n",
    "print (\"list3 = %s\" % list3)\n",
    "#since you have not provided list in both list1 and list3 so both of them share the same momory location\n",
    "#and they are concatinated together\n",
    "print(id(list1))\n",
    "print(id(list3))\n",
    "'''expected output \n",
    "    list1 = [10]\n",
    "    list2 = [123]\n",
    "    list3 = ['a'] '''"
   ]
  },
  {
   "cell_type": "markdown",
   "id": "0b736dd9-e047-40d2-b4d9-60abcc51dbd9",
   "metadata": {},
   "source": [
    "### 7. List and string slicing"
   ]
  },
  {
   "cell_type": "code",
   "execution_count": 66,
   "id": "1cc3c2b8-1c8d-447f-9b72-16bb484d2dbf",
   "metadata": {},
   "outputs": [
    {
     "name": "stdout",
     "output_type": "stream",
     "text": [
      "['This', 'is', 'introduction', 'to', 'python', 'for', 'web', 'development']\n"
     ]
    }
   ],
   "source": [
    "s = \"This is introduction to python for web development\"\n",
    "# Obtain each word of the string in a list.\n",
    "g=s.split()\n",
    "print(g)"
   ]
  },
  {
   "cell_type": "markdown",
   "id": "9642991a-cced-4716-be01-380da7cf0339",
   "metadata": {},
   "source": [
    "### 8. Print Pyramid patterns using for and while loops\n"
   ]
  },
  {
   "cell_type": "code",
   "execution_count": 71,
   "id": "550fb238-24a3-40d3-84c0-1cf5b4850fbc",
   "metadata": {},
   "outputs": [
    {
     "name": "stdout",
     "output_type": "stream",
     "text": [
      "@\n",
      "@@\n",
      "@@@\n",
      "@@@@\n",
      "@@@@@\n"
     ]
    }
   ],
   "source": [
    "#using for loop\n",
    "for i in range(1,6):\n",
    "    a=\"@\"\n",
    "    print(a*i)"
   ]
  },
  {
   "cell_type": "code",
   "execution_count": 2,
   "id": "b9bd8d4b-6771-4dec-abdc-6dad0701102f",
   "metadata": {},
   "outputs": [
    {
     "name": "stdout",
     "output_type": "stream",
     "text": [
      "@\n",
      "@@\n",
      "@@@\n",
      "@@@@\n",
      "@@@@@\n"
     ]
    }
   ],
   "source": [
    "#using while loop\n",
    "i=1\n",
    "while i<=5:\n",
    "    a=\"@\"\n",
    "    print(a*i)\n",
    "    i+=1"
   ]
  },
  {
   "cell_type": "code",
   "execution_count": 14,
   "id": "61c33507-2541-40e6-8f25-fb1ce8c73013",
   "metadata": {},
   "outputs": [
    {
     "name": "stdin",
     "output_type": "stream",
     "text": [
      "enter the number of rows for the pyramid 15\n"
     ]
    },
    {
     "name": "stdout",
     "output_type": "stream",
     "text": [
      "              @\n",
      "             @@@\n",
      "            @@@@@\n",
      "           @@@@@@@\n",
      "          @@@@@@@@@\n",
      "         @@@@@@@@@@@\n",
      "        @@@@@@@@@@@@@\n",
      "       @@@@@@@@@@@@@@@\n",
      "      @@@@@@@@@@@@@@@@@\n",
      "     @@@@@@@@@@@@@@@@@@@\n",
      "    @@@@@@@@@@@@@@@@@@@@@\n",
      "   @@@@@@@@@@@@@@@@@@@@@@@\n",
      "  @@@@@@@@@@@@@@@@@@@@@@@@@\n",
      " @@@@@@@@@@@@@@@@@@@@@@@@@@@\n",
      "@@@@@@@@@@@@@@@@@@@@@@@@@@@@@\n"
     ]
    }
   ],
   "source": [
    "#this is the step to create a centered pyramid\n",
    "rows = int(input(\"enter the number of rows for the pyramid\"))\n",
    "\n",
    "# Loop from 0 up to 4 (so we get 5 rows total)\n",
    "for i in range(rows):\n",
    "    # Calculate the number of leading spaces needed for centering.\n",
    "    # We subtract the current row number 'i' to decrease the spaces on each line.\n",
    "    spaces = \" \" * (rows - i - 1)\n",
    "    \n",
    "    # Calculate the number of '@' symbols. The number of symbols is odd (1, 3, 5, ...).\n",
    "    # We use (2 * i) + 1 to get the correct number of symbols for each row.\n",
    "    symbols = \"@\" * (2 * i + 1)\n",
    "    \n",
    "    # Print the spaces and symbols together on one line.\n",
    "    print(spaces + symbols)\n"
   ]
  },
  {
   "cell_type": "code",
   "execution_count": 31,
   "id": "6df83d82-43b1-4105-9aed-d58fa570dc1f",
   "metadata": {},
   "outputs": [
    {
     "name": "stdout",
     "output_type": "stream",
     "text": [
      "['', 'b', 'cdaegakialaop']\n",
      "hey\n"
     ]
    }
   ],
   "source": [
    "#guess the output\n",
    "some_string = \"abacdaegakialaop\"\n",
    "print(some_string.split('a', 2))\n",
    "\"\"\"When you use maxsplit=2, you are telling Python \n",
    "    to perform exactly two splits. Because each split creates\n",
    "    a new piece, the final list will always have maxsplit + 1 items.\"\"\"\n",
    "print(\"hey\")"
   ]
  },
  {
   "cell_type": "code",
   "execution_count": null,
   "id": "4a204951-752c-4de5-9b54-899417a74de7",
   "metadata": {},
   "outputs": [],
   "source": [
    "# generator parenthesis"
   ]
  },
  {
   "cell_type": "code",
   "execution_count": 49,
   "id": "0fb44baf-c817-4d0f-9890-1ba7ea26fa30",
   "metadata": {},
   "outputs": [
    {
     "name": "stdout",
     "output_type": "stream",
     "text": [
      "()()()()\n",
      "()()(())\n",
      "()(())()\n",
      "()(()())\n",
      "()((()))\n",
      "(())()()\n",
      "(())(())\n",
      "(()())()\n",
      "(()()())\n",
      "(()(()))\n",
      "((()))()\n",
      "((())())\n",
      "((()()))\n",
      "(((())))\n"
     ]
    }
   ],
   "source": [
    "''' given an integer \"n\" print all the possible pairs of \"n\" balanced parentheses.\n",
    "    The output strings should be printed in the sorted order considering \"(\" has higher \n",
    "    value than\")\" '''\n",
    "\n",
    "def genParenthesis(openB, closeB, n, s=None):\n",
    "    if s is None:\n",
    "        s = []\n",
    "\n",
    "    # base case\n",
    "    if closeB == n:\n",
    "        print(''.join(s))\n",
    "        return\n",
    "    else:\n",
    "        # Check if we can add a closing bracket\n",
    "        if openB > closeB:\n",
    "            s.append(\")\")\n",
    "            genParenthesis(openB, closeB + 1, n, s)\n",
    "            s.pop()  # Backtrack\n",
    "\n",
    "        # Check if we can add an opening bracket\n",
    "        if openB < n:\n",
    "            s.append(\"(\")\n",
    "            genParenthesis(openB + 1, closeB, n, s)\n",
    "            s.pop()  # Backtrack\n",
    "genParenthesis(0,0,4)"
   ]
  },
  {
   "cell_type": "code",
   "execution_count": 66,
   "id": "36d88e58-89ec-40ed-964c-abe363ef05bf",
   "metadata": {},
   "outputs": [
    {
     "name": "stdout",
     "output_type": "stream",
     "text": [
      "1\n",
      "2\n",
      "88\n"
     ]
    }
   ],
   "source": [
    "\"\"\"Given a list of integers, write a program that processes the numbers\n",
    "one by one. The program must keep a running total of the numbers it has\n",
    "seen so far. The processing must stop immediately if this running total\n",
    "becomes negative.\"\"\"\n",
    "l=[1, 2, 88, -100, 49]\n",
    "s=0\n",
    "start=0\n",
    "for i in l:\n",
    "    s=s+i\n",
    "    if(s>=0):\n",
    "        print(l[start])\n",
    "        start+=1\n",
    "    else:\n",
    "        break"
   ]
  },
  {
   "cell_type": "code",
   "execution_count": 75,
   "id": "b25a6e10-85e6-424b-bcbd-0b3b19038425",
   "metadata": {},
   "outputs": [
    {
     "name": "stdout",
     "output_type": "stream",
     "text": [
      "1 2 3 4 5 6 7 8 9 10 \n",
      "1 2 3 4 5 6 7 8 9 * \n",
      "1 2 3 4 5 6 7 8 * * \n",
      "1 2 3 4 5 6 7 * * * \n",
      "1 2 3 4 5 6 * * * * \n",
      "1 2 3 4 5 * * * * * \n",
      "1 2 3 4 * * * * * * \n",
      "1 2 3 * * * * * * * \n",
      "1 2 * * * * * * * * \n",
      "1 * * * * * * * * * \n"
     ]
    }
   ],
   "source": [
    "def print_pattern(N):\n",
    "    \"\"\"\n",
    "    Prints the number-and-star pattern for a given N.\n",
    "\n",
    "    Args:\n",
    "        N (int): The number of rows in the pattern.\n",
    "    \"\"\"\n",
    "    # Outer loop to handle each row. The loop runs from N down to 1.\n",
    "    for i in range(N, 0, -1):\n",
    "        # Inner loop to print the numbers for the current row.\n",
    "        # It prints numbers from 1 up to i.\n",
    "        for j in range(1, i + 1):\n",
    "            print(j, end=\" \")\n",
    "        \n",
    "        # Inner loop to print the stars for the current row.\n",
    "        # It prints a star for each of the remaining columns.\n",
    "        for k in range(N - i):\n",
    "            print(\"*\", end=\" \")\n",
    "        \n",
    "        # Print a newline to move to the next row.\n",
    "        print()\n",
    "        \n",
    "# --- Example Usage ---\n",
    "# Use the sample input of N = 5\n",
    "print_pattern(10)"
   ]
  },
  {
   "cell_type": "code",
   "execution_count": 4,
   "id": "b97818d8-9c56-41ce-9387-f326256572b1",
   "metadata": {},
   "outputs": [
    {
     "name": "stdout",
     "output_type": "stream",
     "text": [
      "List [5, 4, 3, 4, 5] is a V-shape: True\n",
      "List [1, 2, 3, 4, 5] is a V-shape: True\n",
      "List [5, 4, 3, 2, 1] is a V-shape: True\n",
      "List [5, 4, 3, 3, 5] is a V-shape: False\n",
      "List [5, 4, 2, 3, 1] is a V-shape: False\n"
     ]
    }
   ],
   "source": [
    "# v shaped thing\n",
    "def is_v_shape(sequence):\n",
    "    \"\"\"\n",
    "    Checks if a list of numbers forms a V-shape pattern.\n",
    "\n",
    "    A valid V-shape has a strictly decreasing sequence followed by a \n",
    "    strictly increasing sequence.\n",
    "\n",
    "    Args:\n",
    "        sequence (list): A list of integers.\n",
    "\n",
    "    Returns:\n",
    "        bool: True if the list forms a V-shape, False otherwise.\n",
    "    \"\"\"\n",
    "    n = len(sequence)\n",
    "\n",
    "    # Edge cases: A list with less than two elements can be considered a valid V-shape\n",
    "    # (either a decreasing or increasing sequence with an empty other part).\n",
    "    if n < 2:\n",
    "        return True\n",
    "\n",
    "    # 1. Find the end of the strictly decreasing part.\n",
    "    # The 'i' variable will be the index of our pivot point.\n",
    "    i = 0\n",
    "    while i < n - 1 and sequence[i] > sequence[i+1]:\n",
    "        i += 1\n",
    "\n",
    "    # If the entire list is strictly decreasing, it's a valid V-shape.\n",
    "    if i == n - 1:\n",
    "        return True\n",
    "\n",
    "    # 2. Check if the rest of the list is strictly increasing.\n",
    "    # We start from the pivot point we just found.\n",
    "    while i < n - 1 and sequence[i] < sequence[i+1]:\n",
    "        i += 1\n",
    "\n",
    "    # 3. Final Check: We should have reached the end of the list.\n",
    "    # If we didn't, it means there was another direction change.\n",
    "    return i == n - 1\n",
    "\n",
    "# --- Example Usage ---\n",
    "\n",
    "# This should return True (a classic V-shape)\n",
    "list_a = [5, 4, 3, 4, 5]\n",
    "print(f\"List {list_a} is a V-shape: {is_v_shape(list_a)}\")\n",
    "\n",
    "# This should return True (an all-increasing list)\n",
    "list_b = [1, 2, 3, 4, 5]\n",
    "print(f\"List {list_b} is a V-shape: {is_v_shape(list_b)}\")\n",
    "\n",
    "# This should return True (an all-decreasing list)\n",
    "list_c = [5, 4, 3, 2, 1]\n",
    "print(f\"List {list_c} is a V-shape: {is_v_shape(list_c)}\")\n",
    "\n",
    "# This should return False (it has a flat part)\n",
    "list_d = [5, 4, 3, 3, 5]\n",
    "print(f\"List {list_d} is a V-shape: {is_v_shape(list_d)}\")\n",
    "\n",
    "# This should return False (it changes direction more than once)\n",
    "list_e = [5, 4, 2, 3, 1]\n",
    "print(f\"List {list_e} is a V-shape: {is_v_shape(list_e)}\")"
   ]
  },
  {
   "cell_type": "code",
   "execution_count": 5,
   "id": "a7dbc734-b82c-4622-8e08-eb11bef59208",
   "metadata": {},
   "outputs": [
    {
     "name": "stdin",
     "output_type": "stream",
     "text": [
      " 64\n"
     ]
    },
    {
     "name": "stdout",
     "output_type": "stream",
     "text": [
      "(0,8)\n"
     ]
    }
   ],
   "source": [
    "# pythagorian theorme\n",
    "import math\n",
    "\n",
    "def find_pairs(A):\n",
    "    \"\"\"\n",
    "    Finds and prints all pairs of non-negative integers (a, b) such that\n",
    "    a^2 + b^2 = A and a <= b.\n",
    "\n",
    "    Args:\n",
    "        A (int): The target sum of squares.\n",
    "    \"\"\"\n",
    "    solutions = []\n",
    "    \n",
    "    # We only need to check values of 'a' up to sqrt(A / 2).\n",
    "    # This is a critical optimization since a <= b.\n",
    "    limit = int(math.sqrt(A / 2))\n",
    "    \n",
    "    # Loop through all possible non-negative integer values for 'a'.\n",
    "    for a in range(0, limit + 1):\n",
    "        a_squared = a * a\n",
    "        b_squared = A - a_squared\n",
    "        \n",
    "        # Check if b_squared is a perfect square.\n",
    "        b = math.sqrt(b_squared)\n",
    "        if b == int(b):\n",
    "            b = int(b)\n",
    "            if a <= b:\n",
    "                solutions.append((a, b))\n",
    "\n",
    "    # The problem asks for sorted output.\n",
    "    for a, b in solutions:\n",
    "        print(f\"({a},{b})\")\n",
    "\n",
    "# --- Main Program Execution ---\n",
    "# The code now runs only once.\n",
    "try:\n",
    "    A = int(input())\n",
    "    find_pairs(A)\n",
    "except (ValueError, IndexError):\n",
    "    # Handle potential input errors gracefully.\n",
    "    pass\n"
   ]
  },
  {
   "cell_type": "code",
   "execution_count": 7,
   "id": "9338100f-b1ce-4aa1-b630-96e96ab282f6",
   "metadata": {},
   "outputs": [
    {
     "name": "stdin",
     "output_type": "stream",
     "text": [
      " 55\n"
     ]
    },
    {
     "name": "stdout",
     "output_type": "stream",
     "text": [
      "Not Prime\n"
     ]
    }
   ],
   "source": [
    "#finding whether the given number is the prime number or not\n",
    "import math\n",
    "\n",
    "def is_prime(N):\n",
    "    \"\"\"\n",
    "    Checks if a number N is a prime number.\n",
    "\n",
    "    A prime number is a positive integer greater than 1 that has no\n",
    "    positive divisors other than 1 and itself.\n",
    "\n",
    "    Args:\n",
    "        N (int): The number to check.\n",
    "\n",
    "    Returns:\n",
    "        bool: True if N is prime, False otherwise.\n",
    "    \"\"\"\n",
    "    # 1. Prime numbers must be greater than 1.\n",
    "    if N <= 1:\n",
    "        return False\n",
    "    \n",
    "    # 2. Handle the special case of 2, the only even prime.\n",
    "    if N == 2:\n",
    "        return True\n",
    "    \n",
    "    # 3. All other even numbers are not prime.\n",
    "    if N % 2 == 0:\n",
    "        return False\n",
    "        \n",
    "    # 4. Check for odd divisors from 3 up to the square root of N.\n",
    "    # We only need to check up to the square root because if a number\n",
    "    # has a divisor larger than its square root, it must also have\n",
    "    # a corresponding divisor that is smaller.\n",
    "    limit = int(math.sqrt(N)) + 1\n",
    "    \n",
    "    for i in range(3, limit, 2):\n",
    "        if N % i == 0:\n",
    "            # We found a divisor, so it's not prime.\n",
    "            return False\n",
    "            \n",
    "    # 5. If no divisors were found, the number is prime.\n",
    "    return True\n",
    "\n",
    "# --- Main Program Execution ---\n",
    "# The problem expects a single integer N from standard input.\n",
    "try:\n",
    "    N = int(input())\n",
    "    if is_prime(N):\n",
    "        print(\"Prime\")\n",
    "    else:\n",
    "        print(\"Not Prime\")\n",
    "except (ValueError, IndexError):\n",
    "    # This handles cases where the input is not a valid integer.\n",
    "    pass\n"
   ]
  },
  {
   "cell_type": "code",
   "execution_count": 14,
   "id": "209a17d1-2734-4cab-b23f-a2953a19f125",
   "metadata": {},
   "outputs": [
    {
     "name": "stdout",
     "output_type": "stream",
     "text": [
      "Enter the number of test cases (t <= 10):\n"
     ]
    },
    {
     "name": "stdin",
     "output_type": "stream",
     "text": [
      " 3\n"
     ]
    },
    {
     "name": "stdout",
     "output_type": "stream",
     "text": [
      "\n",
      "Test Case 1: Enter two numbers (m and n) separated by a space.\n"
     ]
    },
    {
     "name": "stdin",
     "output_type": "stream",
     "text": [
      " 10 100\n"
     ]
    },
    {
     "name": "stdout",
     "output_type": "stream",
     "text": [
      "11 13 17 19 23 29 31 37 41 43 47 53 59 61 67 71 73 79 83 89 97\n",
      "\n",
      "Test Case 2: Enter two numbers (m and n) separated by a space.\n"
     ]
    },
    {
     "name": "stdin",
     "output_type": "stream",
     "text": [
      " 100 200\n"
     ]
    },
    {
     "name": "stdout",
     "output_type": "stream",
     "text": [
      "101 103 107 109 113 127 131 137 139 149 151 157 163 167 173 179 181 191 193 197 199\n",
      "\n",
      "Test Case 3: Enter two numbers (m and n) separated by a space.\n"
     ]
    },
    {
     "name": "stdin",
     "output_type": "stream",
     "text": [
      " 300 400\n"
     ]
    },
    {
     "name": "stdout",
     "output_type": "stream",
     "text": [
      "307 311 313 317 331 337 347 349 353 359 367 373 379 383 389 397\n"
     ]
    }
   ],
   "source": [
    "#finding prime number between the range\n",
    "import math\n",
    "\n",
    "# We pre-compute the primes up to the maximum possible 'n' from the problem constraints.\n",
    "# This makes checking primes in the main part of the code extremely fast.\n",
    "MAX_N = 100000\n",
    "is_prime_array = [True] * (MAX_N + 1)\n",
    "is_prime_array[0] = is_prime_array[1] = False\n",
    "p = 2\n",
    "while (p * p <= MAX_N):\n",
    "    if is_prime_array[p]:\n",
    "        for i in range(p * p, MAX_N + 1, p):\n",
    "            is_prime_array[i] = False\n",
    "    p += 1\n",
    "\n",
    "def find_primes_in_range(m, n):\n",
    "    \"\"\"\n",
    "    Finds and prints all prime numbers between m and n (inclusive)\n",
    "    using the pre-computed sieve.\n",
    "    \"\"\"\n",
    "    primes = []\n",
    "    # Loop through the range, instantly checking the pre-computed array.\n",
    "    for number in range(m, n + 1):\n",
    "        if is_prime_array[number]:\n",
    "            primes.append(str(number))\n",
    "    \n",
    "    # Print the primes found, all on a single line.\n",
    "    print(\" \".join(primes))\n",
    "\n",
    "# --- Main Program Execution ---\n",
    "# We will now add clear prompts for the user to enter data.\n",
    "try:\n",
    "    # 1. Prompt for the number of test cases.\n",
    "    print(\"Enter the number of test cases (t <= 10):\")\n",
    "    T = int(input())\n",
    "    \n",
    "    # Process each test case.\n",
    "    for test_case in range(T):\n",
    "        # 2. Prompt for the range (m and n).\n",
    "        print(f\"\\nTest Case {test_case + 1}: Enter two numbers (m and n) separated by a space.\")\n",
    "        \n",
    "        m, n = map(int, input().split())\n",
    "        \n",
    "        # 3. Validate that the values are within the specified range.\n",
    "        if 1 <= m <= n <= MAX_N:\n",
    "            find_primes_in_range(m, n)\n",
    "        else:\n",
    "            print(\"Error: The input values are not within the valid range (1 <= m <= n <= 100000).\")\n",
    "            \n",
    "except (ValueError, IndexError):\n",
    "    print(\"Invalid input format. Please ensure you are entering integers.\")\n"
   ]
  },
  {
   "cell_type": "code",
   "execution_count": 15,
   "id": "bfc4ec9f-174a-4707-8752-876116cfe470",
   "metadata": {},
   "outputs": [
    {
     "name": "stdout",
     "output_type": "stream",
     "text": [
      "Unsorted List: [10, 7, 8, 9, 1, 5, 12, 3, 6]\n",
      "Sorted List: [1, 3, 5, 6, 7, 8, 9, 10, 12]\n"
     ]
    }
   ],
   "source": [
    "# sorting using mergeshot \n",
    "def merge_sort(arr):\n",
    "    \"\"\"\n",
    "    Sorts a list of numbers in ascending order using the Merge Sort algorithm.\n",
    "    This implementation uses a recursive approach to divide the list.\n",
    "\n",
    "    Args:\n",
    "        arr (list): The list of numbers to be sorted.\n",
    "\n",
    "    Returns:\n",
    "        list: The sorted list.\n",
    "    \"\"\"\n",
    "    # Base case: A list of 0 or 1 element is already sorted.\n",
    "    if len(arr) <= 1:\n",
    "        return arr\n",
    "    \n",
    "    # 1. Divide the list into two halves.\n",
    "    middle = len(arr) // 2\n",
    "    left_half = arr[:middle]\n",
    "    right_half = arr[middle:]\n",
    "    \n",
    "    # 2. Recursively sort both halves.\n",
    "    left_sorted = merge_sort(left_half)\n",
    "    right_sorted = merge_sort(right_half)\n",
    "    \n",
    "    # 3. Merge the two sorted halves back together.\n",
    "    return merge(left_sorted, right_sorted)\n",
    "\n",
    "def merge(left, right):\n",
    "    \"\"\"\n",
    "    Merges two sorted lists into a single sorted list.\n",
    "    \"\"\"\n",
    "    result = []\n",
    "    left_index, right_index = 0, 0\n",
    "    \n",
    "    # Compare elements from both lists and add the smaller one to the result.\n",
    "    while left_index < len(left) and right_index < len(right):\n",
    "        if left[left_index] < right[right_index]:\n",
    "            result.append(left[left_index])\n",
    "            left_index += 1\n",
    "        else:\n",
    "            result.append(right[right_index])\n",
    "            right_index += 1\n",
    "            \n",
    "    # Add any remaining elements from the left or right lists.\n",
    "    result.extend(left[left_index:])\n",
    "    result.extend(right[right_index:])\n",
    "    \n",
    "    return result\n",
    "\n",
    "# --- Example Usage ---\n",
    "# Create an unsorted list.\n",
    "unsorted_list = [10, 7, 8, 9, 1, 5, 12, 3, 6]\n",
    "\n",
    "# Call the merge_sort function to sort the list.\n",
    "sorted_list = merge_sort(unsorted_list)\n",
    "\n",
    "# Print the sorted list.\n",
    "print(\"Unsorted List:\", unsorted_list)\n",
    "print(\"Sorted List:\", sorted_list)\n"
   ]
  },
  {
   "cell_type": "markdown",
   "id": "865b8fdc-9f18-46b5-81d6-ce1ab219dac3",
   "metadata": {},
   "source": [
    "Quick Sort (Partitioning first): The core idea is to pick a pivot element and then re-arrange (or partition) the rest of the list so that all elements smaller than the pivot are on its left, and all elements larger are on its right. Once this is done, the pivot is in its final sorted position. The algorithm then recursively applies the same process to the left and right sub-lists.\n",
    "\n",
    "Merge Sort (Merging first): This approach is about splitting the list in half over and over again until you have a bunch of sub-lists with just one element each. A single-element list is, by definition, sorted. The algorithm then works backward, merging these sorted sub-lists together to create larger, sorted lists until the entire original list is sorted."
   ]
  },
  {
   "cell_type": "code",
   "execution_count": 16,
   "id": "6f700dab-19c0-44c7-8cfd-deb44b474f37",
   "metadata": {},
   "outputs": [
    {
     "name": "stdout",
     "output_type": "stream",
     "text": [
      "Unsorted List: [10, 7, 8, 9, 1, 5, 12, 3, 6]\n",
      "Sorted List: [1, 3, 5, 6, 7, 8, 9, 10, 12]\n"
     ]
    }
   ],
   "source": [
    "# qucik sort sorting algorithm\n",
    "def quick_sort(arr):\n",
    "    \"\"\"\n",
    "    Sorts a list of numbers in ascending order using the Quick Sort algorithm.\n",
    "    This implementation uses a recursive approach with a pivot.\n",
    "\n",
    "    Args:\n",
    "        arr (list): The list of numbers to be sorted.\n",
    "\n",
    "    Returns:\n",
    "        list: The sorted list.\n",
    "    \"\"\"\n",
    "    # Base case: If the list has 0 or 1 element, it's already sorted.\n",
    "    if len(arr) <= 1:\n",
    "        return arr\n",
    "    \n",
    "    # 1. Choose a pivot element. We'll use the first element for simplicity.\n",
    "    pivot = arr[0]\n",
    "    \n",
    "    # 2. Partition the list into three sub-lists:\n",
    "    #    - elements less than the pivot\n",
    "    #    - elements equal to the pivot\n",
    "    #    - elements greater than the pivot\n",
    "    left = [x for x in arr[1:] if x < pivot]\n",
    "    middle = [x for x in arr if x == pivot]\n",
    "    right = [x for x in arr[1:] if x > pivot]\n",
    "    \n",
    "    # 3. Recursively sort the 'left' and 'right' sub-lists.\n",
    "    return quick_sort(left) + middle + quick_sort(right)\n",
    "\n",
    "# --- Example Usage ---\n",
    "# Create an unsorted list.\n",
    "unsorted_list = [10, 7, 8, 9, 1, 5, 12, 3, 6]\n",
    "\n",
    "# Call the quick_sort function to sort the list.\n",
    "sorted_list = quick_sort(unsorted_list)\n",
    "\n",
    "# Print the sorted list.\n",
    "print(\"Unsorted List:\", unsorted_list)\n",
    "print(\"Sorted List:\", sorted_list)"
   ]
  },
  {
   "cell_type": "code",
   "execution_count": null,
   "id": "f8d1bfe9-c7cf-4838-8eaa-870c5d4280ea",
   "metadata": {},
   "outputs": [],
   "source": []
  }
 ],
 "metadata": {
  "kernelspec": {
   "display_name": "Python 3 (ipykernel)",
   "language": "python",
   "name": "python3"
  },
  "language_info": {
   "codemirror_mode": {
    "name": "ipython",
    "version": 3
   },
   "file_extension": ".py",
   "mimetype": "text/x-python",
   "name": "python",
   "nbconvert_exporter": "python",
   "pygments_lexer": "ipython3",
   "version": "3.13.5"
  }
 },
 "nbformat": 4,
 "nbformat_minor": 5
}
