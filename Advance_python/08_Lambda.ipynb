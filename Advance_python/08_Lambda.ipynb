{
 "cells": [
  {
   "cell_type": "markdown",
   "id": "90332318-ee1c-4922-9ddc-9940eb8a0f12",
   "metadata": {},
   "source": [
    "# Lambda functions\n",
    "👉 Lambda functions in Python are small, anonymous (nameless) functions defined in a single line, useful for short-term tasks, especially as arguments to higher-order functions like `map()`, `filter()`, and `reduce()`."
   ]
  },
  {
   "cell_type": "code",
   "execution_count": 2,
   "id": "dc9c31a1-eba5-4f7e-847f-25ce3232cc48",
   "metadata": {},
   "outputs": [
    {
     "name": "stdout",
     "output_type": "stream",
     "text": [
      "120 70\n",
      "1000 125\n"
     ]
    }
   ],
   "source": [
    "# a lambda function that adds 20 to the input argument \n",
    "function = lambda x: x+20\n",
    "val1 = function(100)\n",
    "val2 = function(50)\n",
    "print(val1, val2)\n",
    "\n",
    "# a lambda funciton that multiples three input argument and returns the result\n",
    "function = lambda x,y,z: x*y*z\n",
    "val3 = function(10,10,10)\n",
    "val4 = function(5,5,5)\n",
    "print(val3, val4)"
   ]
  },
  {
   "cell_type": "code",
   "execution_count": 6,
   "id": "41e0d4a6-d0bf-4e8b-b37e-bc70035b6375",
   "metadata": {},
   "outputs": [
    {
     "name": "stdout",
     "output_type": "stream",
     "text": [
      "70\n",
      "120\n"
     ]
    }
   ],
   "source": [
    "# defining a function to add 20 to the input argument\n",
    "def add_20(x):\n",
    "    x = x+20 \n",
    "    return x\n",
    "print(add_20(50))\n",
    "print(add_20(100))"
   ]
  },
  {
   "cell_type": "markdown",
   "id": "8ae62abc-45ae-47e7-a5e7-846cd359cfc8",
   "metadata": {},
   "source": [
    "### Usage example: Lamdba inside another function"
   ]
  },
  {
   "cell_type": "code",
   "execution_count": 9,
   "id": "a95c38f8-2871-4fd2-8fa3-44c65280332b",
   "metadata": {},
   "outputs": [
    {
     "name": "stdout",
     "output_type": "stream",
     "text": [
      "12\n",
      "30\n"
     ]
    }
   ],
   "source": [
    "def myfunc(n):\n",
    "    return lambda x:x*n\n",
    "doubler = myfunc(2)\n",
    "print(doubler(6))\n",
    "\n",
    "tripler = myfunc(3)\n",
    "print(tripler(10))"
   ]
  },
  {
   "cell_type": "markdown",
   "id": "85317875-1048-4b92-9601-f50c78333beb",
   "metadata": {},
   "source": [
    "### Custom sorting using a lambda function as key parameter\n",
    "The key function transforms each element before sorting."
   ]
  },
  {
   "cell_type": "code",
   "execution_count": 12,
   "id": "d92070fc-36fe-4293-ae4c-d4804cf253de",
   "metadata": {},
   "outputs": [
    {
     "name": "stdout",
     "output_type": "stream",
     "text": [
      "[(1, 2), (9, 10), (3, 40), (6, 70)]\n"
     ]
    }
   ],
   "source": [
    "twodarr = [(1,2),(3,40),(6,70),(9,10)]\n",
    "sort_by_y = sorted( twodarr , key = lambda x:x[1])\n",
    "print(sort_by_y)"
   ]
  },
  {
   "cell_type": "code",
   "execution_count": 17,
   "id": "87df146f-18e8-4dcd-9728-2dd74ad442b1",
   "metadata": {},
   "outputs": [
    {
     "name": "stdout",
     "output_type": "stream",
     "text": [
      "[-20, -19, -12, 1, 2, 3, 5, 6, 7, 8, 9, 10]\n"
     ]
    }
   ],
   "source": [
    "mylist =[1,5,6,7,2,3,10,9,8,-12,-19,-20]\n",
    "sort_by_value = sorted( mylist , key = lambda x: x)\n",
    "print(sort_by_abs)"
   ]
  },
  {
   "cell_type": "code",
   "execution_count": 18,
   "id": "afeb6f5f-280d-400b-9bf4-6caa7ff57d2f",
   "metadata": {},
   "outputs": [
    {
     "name": "stdout",
     "output_type": "stream",
     "text": [
      "[1, 2, 3, 5, 6, 7, 8, 9, 10, -12, -19, -20]\n"
     ]
    }
   ],
   "source": [
    "mylist = [1,5,6,7,2,3,10,9,8,-12,-19,-20]\n",
    "sort_by_abs = sorted(mylist , key = lambda x: abs(x))\n",
    "print(sort_by_abs)"
   ]
  },
  {
   "cell_type": "markdown",
   "id": "85a6a815-8bd5-43de-9b41-73ca603a0610",
   "metadata": {},
   "source": [
    "### Use lambda for map function\n",
    "`map(func, seq)`, transforms each element with the function."
   ]
  },
  {
   "cell_type": "code",
   "execution_count": 22,
   "id": "8ff75631-b8ae-4822-a472-2948886c728c",
   "metadata": {},
   "outputs": [
    {
     "name": "stdout",
     "output_type": "stream",
     "text": [
      "[100, 12, 14, 8, 2, 4, 10]\n",
      "[100, 12, 14, 8, 2, 4, 10]\n"
     ]
    }
   ],
   "source": [
    "a = [100,12,14,17,9,8,3,2,4,9,10]\n",
    "\n",
    "# Using filter() + lambda\n",
    "b = list(filter(lambda x: (x % 2 == 0), a))\n",
    "\n",
    "# Using list comprehension\n",
    "c = [x for x in a if x % 2 == 0]\n",
    "\n",
    "print(b)\n",
    "print(c)"
   ]
  },
  {
   "cell_type": "code",
   "execution_count": 21,
   "id": "75aa8603-9fe4-4aa9-ad71-190819b4d11e",
   "metadata": {},
   "outputs": [
    {
     "name": "stdout",
     "output_type": "stream",
     "text": [
      "Original list: [1, 2, 3, 4, 5, 6, 7, 8, 9, 10, 11, 12, 13, 14, 15, 16, 17, 18, 19, 20]\n",
      "Even numbers with filter: [2, 4, 6, 8, 10, 12, 14, 16, 18, 20]\n",
      "Even numbers with comprehension: [2, 4, 6, 8, 10, 12, 14, 16, 18, 20]\n"
     ]
    }
   ],
   "source": [
    "a = list(range(1, 21))  # numbers from 1 to 20\n",
    "\n",
    "b = list(filter(lambda x: (x % 2 == 0), a))\n",
    "c = [x for x in a if x % 2 == 0]\n",
    "\n",
    "print(\"Original list:\", a)\n",
    "print(\"Even numbers with filter:\", b)\n",
    "print(\"Even numbers with comprehension:\", c)"
   ]
  },
  {
   "cell_type": "markdown",
   "id": "779b5e47-afb8-42f7-bc1c-e2981bd3c5b2",
   "metadata": {},
   "source": [
    "### reduce\n",
    "`reduce(func, seq)`, repeatedly applies the func to the elements and returns a single value.\n",
    "`func` take 2 arguments."
   ]
  },
  {
   "cell_type": "code",
   "execution_count": 23,
   "id": "8c41f6d7-c3c6-4a01-91b6-100db8d0d4e1",
   "metadata": {},
   "outputs": [
    {
     "name": "stdout",
     "output_type": "stream",
     "text": [
      "40320\n",
      "36\n"
     ]
    }
   ],
   "source": [
    "from functools import reduce\n",
    "a = [1,2,3,4,5,6,7,8]\n",
    "product_a = reduce(lambda x,y: x*y, a)\n",
    "print(product_a)\n",
    "sum_a = reduce(lambda x,y: x+y, a)\n",
    "print(sum_a)"
   ]
  }
 ],
 "metadata": {
  "kernelspec": {
   "display_name": "Python 3 (ipykernel)",
   "language": "python",
   "name": "python3"
  },
  "language_info": {
   "codemirror_mode": {
    "name": "ipython",
    "version": 3
   },
   "file_extension": ".py",
   "mimetype": "text/x-python",
   "name": "python",
   "nbconvert_exporter": "python",
   "pygments_lexer": "ipython3",
   "version": "3.13.5"
  }
 },
 "nbformat": 4,
 "nbformat_minor": 5
}
