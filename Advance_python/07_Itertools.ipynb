{
 "cells": [
  {
   "cell_type": "markdown",
   "id": "d1881e41-d5f9-4adc-a461-6b6cc6524506",
   "metadata": {},
   "source": [
    "# Itertools\n",
    "The Python itertools module is a collection of tools for handling iterators. Simply put, iterators are data types that can be used in a for loop. The most common iterator in Python is the list."
   ]
  },
  {
   "cell_type": "markdown",
   "id": "240a2f74-8240-48aa-a9b9-a9e2419e4480",
   "metadata": {},
   "source": [
    "### product()\n",
    "This tool computes the cartesian product of input iterable"
   ]
  },
  {
   "cell_type": "code",
   "execution_count": 4,
   "id": "5ba57069-6cb6-41ba-9818-784e2e64017c",
   "metadata": {},
   "outputs": [
    {
     "name": "stdout",
     "output_type": "stream",
     "text": [
      "[(1, 3), (1, 4), (2, 3), (2, 4)]\n",
      "[(1, 9, 1, 9), (1, 9, 2, 9), (2, 9, 1, 9), (2, 9, 2, 9)]\n"
     ]
    }
   ],
   "source": [
    "from itertools import product\n",
    "\n",
    "prod = product([1,2],[3,4])\n",
    "print(list(prod)) # note that we convert the iterator to a list for printing\n",
    "\n",
    "# we need to specify the number of iterations to find the product of and iterabel with itself\n",
    "prod = product([1,2],[9], repeat=2)\n",
    "print(list(prod))"
   ]
  },
  {
   "cell_type": "markdown",
   "id": "bb745a68-8c89-47f1-a72d-7eb2d3d6356d",
   "metadata": {},
   "source": [
    "### permutations()\n",
    "This tool is used to return the permutations of elemets of iterable "
   ]
  },
  {
   "cell_type": "code",
   "execution_count": 12,
   "id": "1b08b6d4-59b3-46f5-81c1-d33e9103c213",
   "metadata": {},
   "outputs": [
    {
     "name": "stdout",
     "output_type": "stream",
     "text": [
      "[(1, 2, 3), (1, 3, 2), (2, 1, 3), (2, 3, 1), (3, 1, 2), (3, 2, 1)]\n",
      "[(1, 2), (1, 3), (2, 1), (2, 3), (3, 1), (3, 2)]\n",
      "\n",
      " [(1, 2, 3), (1, 2, 4), (1, 3, 2), (1, 3, 4), (1, 4, 2), (1, 4, 3), (2, 1, 3), (2, 1, 4), (2, 3, 1), (2, 3, 4), (2, 4, 1), (2, 4, 3), (3, 1, 2), (3, 1, 4), (3, 2, 1), (3, 2, 4), (3, 4, 1), (3, 4, 2), (4, 1, 2), (4, 1, 3), (4, 2, 1), (4, 2, 3), (4, 3, 1), (4, 3, 2)]\n"
     ]
    }
   ],
   "source": [
    "from itertools import permutations\n",
    "\n",
    "perm = permutations([1,2,3])\n",
    "print(list(perm)) \n",
    "\n",
    "# the length of the permutation tuple\n",
    "perm = permutations ([1,2,3], 2)\n",
    "print(list(perm))\n",
    "\n",
    "perm = permutations ([1,2,3,4], 3)\n",
    "print(\"\\n\",list(perm))"
   ]
  },
  {
   "cell_type": "markdown",
   "id": "2201c467-206a-4e2e-95e9-c05a7a4da790",
   "metadata": {},
   "source": [
    "### combinations() \n",
    "- combinations(iterable, r)\n",
    "\n",
    "- Picks unique groups of size r.\n",
    "\n",
    "- No repetition of the same element.\n",
    "\n",
    "- Order of elements inside the tuple doesn’t matter (sorte"
   ]
  },
  {
   "cell_type": "code",
   "execution_count": 14,
   "id": "32254c48-0a89-484c-88c7-01e73ed85c80",
   "metadata": {},
   "outputs": [
    {
     "name": "stdout",
     "output_type": "stream",
     "text": [
      "[(1, 2), (1, 3), (2, 3)]\n"
     ]
    }
   ],
   "source": [
    "from itertools import combinations\n",
    "\n",
    "items = [1, 2, 3]\n",
    "print(list(combinations(items, 2)))\n",
    "\n",
    "# (1, 2) and (2, 1) are the same, so only one is kept.\n",
    "# No element is repeated in a single tuple."
   ]
  },
  {
   "cell_type": "code",
   "execution_count": 18,
   "id": "c8f6a3ff-e61e-410f-8627-db2411502e44",
   "metadata": {},
   "outputs": [
    {
     "name": "stdout",
     "output_type": "stream",
     "text": [
      "Teams (no repeats): [('Alice', 'Bob'), ('Alice', 'Charlie'), ('Alice', 'David'), ('Bob', 'Charlie'), ('Bob', 'David'), ('Charlie', 'David')]\n"
     ]
    }
   ],
   "source": [
    "# Choosing Teams (No Repeats → combinations)\n",
    "from itertools import combinations\n",
    "\n",
    "players = [\"Alice\", \"Bob\", \"Charlie\", \"David\"]\n",
    "\n",
    "# Pick teams of 2\n",
    "teams = list(combinations(players, 2))\n",
    "print(\"Teams (no repeats):\", teams)"
   ]
  },
  {
   "cell_type": "markdown",
   "id": "5a0fe65e-a823-42b7-98cc-2eccf5b924a8",
   "metadata": {},
   "source": [
    "### combination_with_replacement\n",
    "\n",
    "- combinations_with_replacement(iterable, r)\n",
    "\n",
    "- Picks groups of size r.\n",
    "\n",
    "- Allows the same element to appear more than once.\n",
    "\n",
    "- Still sorted (no (2,1) if (1,2) already exists)"
   ]
  },
  {
   "cell_type": "code",
   "execution_count": 17,
   "id": "8b6eed3a-bf02-4ab9-9628-4bffb1ac4d3d",
   "metadata": {},
   "outputs": [
    {
     "name": "stdout",
     "output_type": "stream",
     "text": [
      "[(1, 1), (1, 2), (1, 3), (2, 2), (2, 3), (3, 3)]\n"
     ]
    }
   ],
   "source": [
    "from itertools import combinations_with_replacement\n",
    "\n",
    "items = [1,2,3]\n",
    "print(list(combinations_with_replacement(items, 2)))\n",
    "# (1, 1) or (2, 2) are allowed (repetition).\n",
    "# Order inside tuples is always ascending."
   ]
  },
  {
   "cell_type": "code",
   "execution_count": 19,
   "id": "d8a7ac37-3125-4b8c-a800-50ad5106527a",
   "metadata": {},
   "outputs": [
    {
     "name": "stdout",
     "output_type": "stream",
     "text": [
      "Pizzas (with repeats): [('Cheese', 'Cheese'), ('Cheese', 'Olives'), ('Cheese', 'Tomato'), ('Olives', 'Olives'), ('Olives', 'Tomato'), ('Tomato', 'Tomato')]\n"
     ]
    }
   ],
   "source": [
    "# Pizza Toppings (Repeats Allowed → combinations_with_replacement)\n",
    "from itertools import combinations_with_replacement\n",
    "\n",
    "toppings = [\"Cheese\", \"Olives\", \"Tomato\"]\n",
    "\n",
    "# Pick 2 toppings (can repeat)\n",
    "pizzas = list(combinations_with_replacement(toppings, 2))\n",
    "print(\"Pizzas (with repeats):\", pizzas)\n"
   ]
  },
  {
   "cell_type": "markdown",
   "id": "638edc6e-8b04-4542-bed3-deef9664c587",
   "metadata": {},
   "source": [
    "### accumulate()\n",
    "Returns the accumulated results."
   ]
  },
  {
   "cell_type": "code",
   "execution_count": 27,
   "id": "e456abf6-f31f-4611-8d95-8d50f9aa84b8",
   "metadata": {},
   "outputs": [
    {
     "name": "stdout",
     "output_type": "stream",
     "text": [
      "[1, 3, 6, 10, 15, 21, 28, 36, 45, 55]\n",
      "[1, 6, 8, 14, 17, 21]\n",
      "[1, -4, -6, -12, -15, -19]\n",
      "[1, 2, 6, 24, 120, 720]\n",
      "[1, 5, 5, 5, 6, 6, 7, 7, 9]\n",
      "[1, 1, 1, 1, 1, 0, 0, 0, 0]\n"
     ]
    }
   ],
   "source": [
    "from itertools import accumulate\n",
    "\n",
    "# return accumulated sums\n",
    "acc = accumulate([1,2,3,4,5,6,7,8,9,10])\n",
    "print(list(acc))\n",
    "\n",
    "# Other possible functions are \n",
    "import operator \n",
    "\n",
    "acc = accumulate([1,5,2,6,3,4], func=operator.add)\n",
    "print(list(acc))\n",
    "\n",
    "acc = accumulate([1,5,2,6,3,4], func=operator.sub)\n",
    "print(list(acc))\n",
    "\n",
    "acc = accumulate([1,2,3,4,5,6], func = operator.mul)\n",
    "print(list(acc))\n",
    "\n",
    "acc = accumulate([1,5,4,3,6,5,7,5,9], func = max)\n",
    "print(list(acc))\n",
    "acc = accumulate([1,5,4,3,6,0,7,5,9], func = min)\n",
    "print(list(acc))"
   ]
  },
  {
   "cell_type": "markdown",
   "id": "e24ebc95-0dac-472d-9e1a-c083a0b21128",
   "metadata": {},
   "source": [
    "### groupby()\n",
    "- It groups consecutive elements in an iterable that share the same key.\n",
    "\n",
    "- You must usually sort your data first by that key, otherwise the groups may not be what you expect.\n",
    "\n",
    "- It gives you (key, group) pairs, where group is an iterator of all items with that key."
   ]
  },
  {
   "cell_type": "code",
   "execution_count": 28,
   "id": "0241bbab-e7d2-40cb-8ed4-476a09851e7f",
   "metadata": {},
   "outputs": [
    {
     "name": "stdout",
     "output_type": "stream",
     "text": [
      "1 [1, 1]\n",
      "2 [2, 2, 2]\n",
      "3 [3, 3]\n",
      "1 [1]\n"
     ]
    }
   ],
   "source": [
    "from itertools import groupby\n",
    "\n",
    "nums = [1, 1, 2, 2, 2, 3, 3, 1]\n",
    "\n",
    "for key, group in groupby(nums):\n",
    "    print(key, list(group))\n"
   ]
  },
  {
   "cell_type": "code",
   "execution_count": 32,
   "id": "9a20b5fe-15af-46d7-b6b1-51f3fc37724c",
   "metadata": {},
   "outputs": [
    {
     "name": "stdout",
     "output_type": "stream",
     "text": [
      "1 [1, 1]\n",
      "2 [2, 2, 2]\n",
      "3 [3, 3]\n"
     ]
    }
   ],
   "source": [
    "nums = [1, 3, 2, 1, 3, 2, 2]\n",
    "nums.sort()\n",
    "\n",
    "for key, group in groupby(nums):\n",
    "    print(key, list(group))\n"
   ]
  },
  {
   "cell_type": "markdown",
   "id": "db006a30-c610-4d7f-8ceb-74a9c3428f27",
   "metadata": {},
   "source": [
    "### Infinite iterators: count(), cycle(), repeat()"
   ]
  },
  {
   "cell_type": "code",
   "execution_count": 34,
   "id": "f1affa09-da3b-4d12-bcff-a40c63f9e144",
   "metadata": {},
   "outputs": [
    {
     "name": "stdout",
     "output_type": "stream",
     "text": [
      "10\n",
      "11\n",
      "12\n",
      "13\n",
      "\n",
      "1\n",
      "2\n",
      "3\n",
      "1\n",
      "2\n",
      "3\n",
      "\n",
      "A\n",
      "A\n",
      "A\n"
     ]
    }
   ],
   "source": [
    "from itertools import count, cycle, repeat\n",
    "# count(x): count from x:x, x+1, x+2, x+3......\n",
    "for i in count(10):\n",
    "    print(i)\n",
    "    if i >= 13:\n",
    "        break\n",
    "# cycle(iterable): cycle infinitely through iterable \n",
    "print(\"\")\n",
    "sum = 0\n",
    "for i in cycle([1, 2, 3]):\n",
    "    print(i)\n",
    "    sum += i\n",
    "    if sum >= 12:\n",
    "        break  \n",
    "\n",
    "# repeat(x): repeat x infinitely or n times\n",
    "print(\"\")\n",
    "for i in repeat (\"A\", 3):\n",
    "    print(i)"
   ]
  }
 ],
 "metadata": {
  "kernelspec": {
   "display_name": "Python 3 (ipykernel)",
   "language": "python",
   "name": "python3"
  },
  "language_info": {
   "codemirror_mode": {
    "name": "ipython",
    "version": 3
   },
   "file_extension": ".py",
   "mimetype": "text/x-python",
   "name": "python",
   "nbconvert_exporter": "python",
   "pygments_lexer": "ipython3",
   "version": "3.13.5"
  }
 },
 "nbformat": 4,
 "nbformat_minor": 5
}
