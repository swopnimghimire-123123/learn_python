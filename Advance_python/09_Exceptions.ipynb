{
 "cells": [
  {
   "cell_type": "markdown",
   "id": "352371c7-6b0c-45e0-b1e5-256a2b346571",
   "metadata": {},
   "source": [
    "# Errors and Exceptions\n",
    "A Python program terminates as soon as it encounters an error. In Python, an error can be a syntax error or an exception. In this article we will have a look at:\n",
    "\n",
    "- Syntax Error vs. Exception\n",
    "- How to raise Exceptions\n",
    "- How to handle Exceptions\n",
    "- Most common built-in Exceptions\n",
    "- How to define your own Exception"
   ]
  },
  {
   "cell_type": "markdown",
   "id": "294ad405-80a5-4f18-be01-02e248361959",
   "metadata": {},
   "source": [
    "### Syntax Errors\n",
    "A Syntax Error occurs when the parser detects a syntactically incorrect statement. A syntax error can be for example a typo, missing brackets, no new line (see code below), or wrong identation (this will actually raise its own IndentationError, but its subclassed from a SyntaxError)."
   ]
  },
  {
   "cell_type": "code",
   "execution_count": 1,
   "id": "7c1e5f03-6c00-4431-a576-c72ebc8e9522",
   "metadata": {},
   "outputs": [
    {
     "ename": "SyntaxError",
     "evalue": "invalid syntax (2526900384.py, line 1)",
     "output_type": "error",
     "traceback": [
      "  \u001b[36mCell\u001b[39m\u001b[36m \u001b[39m\u001b[32mIn[1]\u001b[39m\u001b[32m, line 1\u001b[39m\n\u001b[31m    \u001b[39m\u001b[31ma = 5 print(a)\u001b[39m\n          ^\n\u001b[31mSyntaxError\u001b[39m\u001b[31m:\u001b[39m invalid syntax\n"
     ]
    }
   ],
   "source": [
    "a = 5 print(a)"
   ]
  },
  {
   "cell_type": "markdown",
   "id": "966d7b16-54b4-4b00-8eac-6ad7f79abc77",
   "metadata": {},
   "source": [
    "### Exceptions\n",
    "Even if a statement is syntactically correct, it may cause an error when it is executed. This is called an `Exception Error`. There are several different error classes, for example trying to add a number and a string will raise a TypeError."
   ]
  },
  {
   "cell_type": "code",
   "execution_count": 3,
   "id": "01955e0c-2f8f-4f63-bc03-249d97f3366b",
   "metadata": {},
   "outputs": [
    {
     "ename": "TypeError",
     "evalue": "unsupported operand type(s) for +: 'int' and 'str'",
     "output_type": "error",
     "traceback": [
      "\u001b[31m---------------------------------------------------------------------------\u001b[39m",
      "\u001b[31mTypeError\u001b[39m                                 Traceback (most recent call last)",
      "\u001b[36mCell\u001b[39m\u001b[36m \u001b[39m\u001b[32mIn[3]\u001b[39m\u001b[32m, line 1\u001b[39m\n\u001b[32m----> \u001b[39m\u001b[32m1\u001b[39m a = \u001b[32;43m5\u001b[39;49m\u001b[43m \u001b[49m\u001b[43m+\u001b[49m\u001b[43m \u001b[49m\u001b[33;43m'\u001b[39;49m\u001b[33;43m10\u001b[39;49m\u001b[33;43m'\u001b[39;49m\n",
      "\u001b[31mTypeError\u001b[39m: unsupported operand type(s) for +: 'int' and 'str'"
     ]
    }
   ],
   "source": [
    "a = 5 + '10'"
   ]
  },
  {
   "cell_type": "markdown",
   "id": "f2fc0d2a-6d21-4c57-9103-8917121df4e2",
   "metadata": {},
   "source": [
    "### Raising an Exception\n",
    "If you want to force an exception to occur when a certain condition is met, you can use the `raise` keyword."
   ]
  },
  {
   "cell_type": "code",
   "execution_count": 4,
   "id": "75a5c28d-5856-42be-a301-2c6c5a6eb096",
   "metadata": {},
   "outputs": [
    {
     "ename": "Exception",
     "evalue": "x should not be negative.",
     "output_type": "error",
     "traceback": [
      "\u001b[31m---------------------------------------------------------------------------\u001b[39m",
      "\u001b[31mException\u001b[39m                                 Traceback (most recent call last)",
      "\u001b[36mCell\u001b[39m\u001b[36m \u001b[39m\u001b[32mIn[4]\u001b[39m\u001b[32m, line 3\u001b[39m\n\u001b[32m      1\u001b[39m x = -\u001b[32m5\u001b[39m\n\u001b[32m      2\u001b[39m \u001b[38;5;28;01mif\u001b[39;00m x < \u001b[32m0\u001b[39m:\n\u001b[32m----> \u001b[39m\u001b[32m3\u001b[39m     \u001b[38;5;28;01mraise\u001b[39;00m \u001b[38;5;167;01mException\u001b[39;00m(\u001b[33m'\u001b[39m\u001b[33mx should not be negative.\u001b[39m\u001b[33m'\u001b[39m)\n",
      "\u001b[31mException\u001b[39m: x should not be negative."
     ]
    }
   ],
   "source": [
    "x = -5\n",
    "if x < 0:\n",
    "    raise Exception('x should not be negative.')"
   ]
  },
  {
   "cell_type": "markdown",
   "id": "e460ebe9-0d95-4fdb-ad2c-4192562fb1b9",
   "metadata": {},
   "source": [
    "You can also use the `assert` statement, which will throw an AssertionError if your assertion is not True. This way, you can actively test some conditions that have to be fulfilled instead of waiting for your program to unexpectedly crash midway. Assertion is also used in unit testing."
   ]
  },
  {
   "cell_type": "code",
   "execution_count": 5,
   "id": "bdc1d9ae-f201-4554-8231-d758b3d4502e",
   "metadata": {},
   "outputs": [
    {
     "ename": "AssertionError",
     "evalue": "x is not positive.",
     "output_type": "error",
     "traceback": [
      "\u001b[31m---------------------------------------------------------------------------\u001b[39m",
      "\u001b[31mAssertionError\u001b[39m                            Traceback (most recent call last)",
      "\u001b[36mCell\u001b[39m\u001b[36m \u001b[39m\u001b[32mIn[5]\u001b[39m\u001b[32m, line 2\u001b[39m\n\u001b[32m      1\u001b[39m x = -\u001b[32m5\u001b[39m\n\u001b[32m----> \u001b[39m\u001b[32m2\u001b[39m \u001b[38;5;28;01massert\u001b[39;00m (x >= \u001b[32m0\u001b[39m), \u001b[33m'\u001b[39m\u001b[33mx is not positive.\u001b[39m\u001b[33m'\u001b[39m\n\u001b[32m      3\u001b[39m \u001b[38;5;66;03m# --> Your code will be fine if x >= 0\u001b[39;00m\n",
      "\u001b[31mAssertionError\u001b[39m: x is not positive."
     ]
    }
   ],
   "source": [
    "x = -5\n",
    "assert (x >= 0), 'x is not positive.'\n",
    "# --> Your code will be fine if x >= 0"
   ]
  },
  {
   "cell_type": "markdown",
   "id": "c0eeef62-5ad9-460e-870c-c9aa39bc6538",
   "metadata": {},
   "source": [
    "### Handling Exceptions\n",
    "You can use a `try` and `except` block to catch and handle exceptions. If you can catch an exceptions your program won't terminate, and can continue."
   ]
  },
  {
   "cell_type": "code",
   "execution_count": 9,
   "id": "bdb35ff6-0735-484c-bb8f-c179eaf8170d",
   "metadata": {},
   "outputs": [
    {
     "name": "stdout",
     "output_type": "stream",
     "text": [
      "some error occured\n",
      "division by zero\n",
      "unsupported operand type(s) for +: 'int' and 'str'\n"
     ]
    }
   ],
   "source": [
    "# This will catch all the possible exceptions\n",
    "try:\n",
    "    a = 5 / 0 \n",
    "except:\n",
    "    print(\"some error occured\")\n",
    "\n",
    "# You can also catch the type of the error\n",
    "try:\n",
    "    a = 5 / 0\n",
    "except Exception as e:\n",
    "    print(e)\n",
    "\n",
    "try:\n",
    "    a = 1 + \"2\"\n",
    "except Exception as e:\n",
    "    print(e)"
   ]
  },
  {
   "cell_type": "code",
   "execution_count": 10,
   "id": "e762d2bb-b2af-4785-8c1d-292b2600ea92",
   "metadata": {},
   "outputs": [
    {
     "name": "stdout",
     "output_type": "stream",
     "text": [
      "Only a ZeroDivisionError is handled here\n",
      "A TypeError occured: unsupported operand type(s) for +: 'float' and 'str'\n"
     ]
    }
   ],
   "source": [
    "# It is good practice to specify the type of Exception you want to catch.\n",
    "# Therefore, you have to know the possible errors\n",
    "try:\n",
    "    a = 5 / 0\n",
    "except ZeroDivisionError:\n",
    "    print('Only a ZeroDivisionError is handled here')\n",
    "    \n",
    "# You can run multiple statements in a try block, and catch different possible exceptions\n",
    "try:\n",
    "    a = 5 / 1 # Note: No ZeroDivisionError here\n",
    "    b = a + '10'\n",
    "except ZeroDivisionError as e:\n",
    "    print('A ZeroDivisionError occured:', e)\n",
    "except TypeError as e:\n",
    "    print('A TypeError occured:', e)"
   ]
  },
  {
   "cell_type": "markdown",
   "id": "eb0271ea-2a76-4efb-82ee-3d0965e697ad",
   "metadata": {},
   "source": [
    "### `else` clause\n",
    "You can use an else statement that is run if no exception occured."
   ]
  },
  {
   "cell_type": "code",
   "execution_count": 12,
   "id": "31a35e99-b381-491d-ac4c-88c3defb4617",
   "metadata": {},
   "outputs": [
    {
     "name": "stdout",
     "output_type": "stream",
     "text": [
      "everything is ok\n"
     ]
    }
   ],
   "source": [
    "try :\n",
    "    a = 5/1 # NOTE: No ZeroDivisionError here\n",
    "except ZeroDivisionError as e:\n",
    "    print(\" A ZeroDivisionError occured :\",e)\n",
    "else:\n",
    "    print(\"everything is ok\")"
   ]
  },
  {
   "cell_type": "markdown",
   "id": "ee4ca73f-d4d1-4171-aed6-6b2a8249a49c",
   "metadata": {},
   "source": [
    "### `finally` clause\n",
    "You can use a finally statement that always runs, no matter if there was an exception or not. This is for example used to make some cleanup operations."
   ]
  },
  {
   "cell_type": "code",
   "execution_count": 13,
   "id": "7fb12c09-b21e-4bde-a6ff-e92c0dd5214b",
   "metadata": {},
   "outputs": [
    {
     "name": "stdout",
     "output_type": "stream",
     "text": [
      "A TypeError occured: unsupported operand type(s) for +: 'float' and 'str'\n",
      "Cleaning up some stuff...\n"
     ]
    }
   ],
   "source": [
    "try:\n",
    "    a = 5 / 1 # Note: No ZeroDivisionError here\n",
    "    b = a + '10'\n",
    "except ZeroDivisionError as e:\n",
    "    print('A ZeroDivisionError occured:', e)\n",
    "except TypeError as e:\n",
    "    print('A TypeError occured:', e)\n",
    "else:\n",
    "    print('Everything is ok')\n",
    "finally:\n",
    "    print('Cleaning up some stuff...')"
   ]
  }
 ],
 "metadata": {
  "kernelspec": {
   "display_name": "Python 3 (ipykernel)",
   "language": "python",
   "name": "python3"
  },
  "language_info": {
   "codemirror_mode": {
    "name": "ipython",
    "version": 3
   },
   "file_extension": ".py",
   "mimetype": "text/x-python",
   "name": "python",
   "nbconvert_exporter": "python",
   "pygments_lexer": "ipython3",
   "version": "3.13.5"
  }
 },
 "nbformat": 4,
 "nbformat_minor": 5
}
