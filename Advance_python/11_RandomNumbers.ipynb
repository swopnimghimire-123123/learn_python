{
 "cells": [
  {
   "cell_type": "markdown",
   "id": "68b9cb65-ed1b-4f4f-aef6-fe1162807f0f",
   "metadata": {},
   "source": [
    "# Random Numbers\n",
    "Python defines a set of functions that are used to generate or manipulate random numbers. This article covers:\n",
    "\n",
    "- the random module\n",
    "- reproduce numbers with random.seed()\n",
    "- create cryptographically strong random numbers with the secrets module\n",
    "- create random nd arrays with numpy.random"
   ]
  },
  {
   "cell_type": "markdown",
   "id": "346182c5-dd72-4f33-9698-7d4699e1b197",
   "metadata": {},
   "source": [
    "### The Random Module"
   ]
  },
  {
   "cell_type": "code",
   "execution_count": 12,
   "id": "e3f444f7-5ba9-4f38-a4ac-e4520701f01a",
   "metadata": {},
   "outputs": [
    {
     "name": "stdout",
     "output_type": "stream",
     "text": [
      "0.20987838866164743\n",
      "8.247560839354023\n",
      "2\n",
      "1\n",
      "-0.4416045393446127\n",
      "p\n",
      "['I', 'A', 'E']\n",
      "['B', 'D', 'E']\n",
      "['G', 'E', 'H', 'B', 'D', 'F', 'A', 'C', 'I']\n"
     ]
    }
   ],
   "source": [
    "import random\n",
    "\n",
    "# random float between (0,1)\n",
    "a = random.random()\n",
    "print(a)\n",
    "\n",
    "# random float between (a,b)\n",
    "a = random.uniform(1,10)\n",
    "print(a)\n",
    "\n",
    "# random integer in range (a,b) , b is included\n",
    "a = random.randint(1,10)\n",
    "print(a)\n",
    "\n",
    "# random integer in range (a,b) , b is excluded\n",
    "a = random.randrange(1,10)\n",
    "print(a)\n",
    "\n",
    "# random float from a normal distribution with mu and sigma\n",
    "a = random.normalvariate(0,1)\n",
    "print(a)\n",
    "\n",
    "# chose a number from the sequence\n",
    "a = random.choice(list(\"abcedfghijklmnop\"))\n",
    "print(a)\n",
    "\n",
    "#  choose k unique random elements from a sequence\n",
    "a = random.sample(list(\"ABCDEFGHI\"), 3)\n",
    "print(a)\n",
    "\n",
    "# choose k elements with replacement, and return k sized list\n",
    "a = random.choices(list(\"ABCDEFGHI\"),k=3)\n",
    "print(a)\n",
    "\n",
    "# shuffle list in place\n",
    "a = list(\"ABCDEFGHI\")\n",
    "random.shuffle(a)\n",
    "print(a)"
   ]
  },
  {
   "cell_type": "markdown",
   "id": "d25cffc3-0189-4399-879e-a5982a4299c4",
   "metadata": {},
   "source": [
    "### The seed generator\n",
    "With `random.seed()`, you can make results reproducible, and the chain of calls after `random.seed()` will produce the same trail of data. The sequence of random numbers becomes deterministic, or completely determined by the seed value."
   ]
  },
  {
   "cell_type": "code",
   "execution_count": 35,
   "id": "c7631480-f169-4845-b591-5fd3cfd39a2b",
   "metadata": {},
   "outputs": [
    {
     "name": "stdout",
     "output_type": "stream",
     "text": [
      "Seeding with 1...\n",
      "\n",
      "0.13436424411240122\n",
      "8.626903632435095\n",
      "B\n",
      "\n",
      "Re-seeding with 42...\n",
      "\n",
      "0.6394267984578837\n",
      "1.2250967970040025\n",
      "E\n",
      "\n",
      "Re-seeding with 1...\n",
      "\n",
      "0.13436424411240122\n",
      "8.626903632435095\n",
      "B\n",
      "\n",
      "Re-seeding with 42...\n",
      "\n",
      "0.6394267984578837\n",
      "1.2250967970040025\n",
      "E\n"
     ]
    }
   ],
   "source": [
    "print('Seeding with 1...\\n')\n",
    "\n",
    "random.seed(1)\n",
    "print(random.random())\n",
    "print(random.uniform(1,10))\n",
    "print(random.choice(list(\"ABCDEFGHI\")))\n",
    "\n",
    "print('\\nRe-seeding with 42...\\n')\n",
    "random.seed(42)  # Re-seed\n",
    "\n",
    "print(random.random())\n",
    "print(random.uniform(1,10))\n",
    "print(random.choice(list(\"ABCDEFGHI\")))\n",
    "\n",
    "print('\\nRe-seeding with 1...\\n')\n",
    "random.seed(1)  # Re-seed\n",
    "\n",
    "print(random.random())\n",
    "print(random.uniform(1,10))\n",
    "print(random.choice(list(\"ABCDEFGHI\")))\n",
    "\n",
    "print('\\nRe-seeding with 42...\\n')\n",
    "random.seed(42)  # Re-seed\n",
    "\n",
    "print(random.random())\n",
    "print(random.uniform(1,10))\n",
    "print(random.choice(list(\"ABCDEFGHI\")))"
   ]
  },
  {
   "cell_type": "markdown",
   "id": "f6425d1e-562d-4c71-b968-bd592f3de184",
   "metadata": {},
   "source": [
    "### The secrets module\n",
    "The secrets module is used for generating cryptographically strong random numbers suitable for managing data such as passwords, account authentication, security tokens, and related secrets.\n",
    "In particularly, secrets should be used in preference to the default pseudo-random number generator in the random module, which is designed for modelling and simulation, not security or cryptography."
   ]
  },
  {
   "cell_type": "code",
   "execution_count": 39,
   "id": "2081433d-76e9-43bb-9066-88a9bb99683a",
   "metadata": {},
   "outputs": [
    {
     "name": "stdout",
     "output_type": "stream",
     "text": [
      "5\n",
      "30\n",
      "h\n"
     ]
    }
   ],
   "source": [
    "import secrets \n",
    "\n",
    "# random integer in range(0,n)\n",
    "a = secrets.randbelow(10)\n",
    "print(a)\n",
    "\n",
    "# return an integer with k random bits.\n",
    "a = secrets.randbits(5)\n",
    "print(a)\n",
    "\n",
    "# choose a random element from a sequence \n",
    "a = secrets.choice(list(\"abcdefghijklmnop\"))\n",
    "print(a)"
   ]
  },
  {
   "cell_type": "markdown",
   "id": "f9bbb7f5-d69a-4f2f-9100-d09bf9201c6a",
   "metadata": {},
   "source": [
    "### Random numbers with NumPy \n",
    "\n",
    "Create random numbers for nd arrays. The NumPy pseudorandom number generator is different from the Python standard library pseudorandom number generator.\n",
    "Importantly, seeding the Python pseudorandom number generator does not impact the NumPy pseudorandom number generator. It must be seeded and used separately."
   ]
  },
  {
   "cell_type": "code",
   "execution_count": 41,
   "id": "f9335a56-3dee-41dc-84f5-8ecaea47f57d",
   "metadata": {},
   "outputs": [
    {
     "name": "stdout",
     "output_type": "stream",
     "text": [
      "[4.17022005e-01 7.20324493e-01 1.14374817e-04]\n",
      "[4.17022005e-01 7.20324493e-01 1.14374817e-04]\n",
      "[[5 0 0]\n",
      " [1 7 6]\n",
      " [9 2 4]\n",
      " [5 2 4]\n",
      " [2 4 7]]\n",
      "[-2.29230928 -1.41555249  0.8858294   0.63190187  0.04026035]\n",
      "[[4 5 6]\n",
      " [7 8 9]\n",
      " [1 2 3]]\n"
     ]
    }
   ],
   "source": [
    "import numpy as np\n",
    "\n",
    "np.random.seed(1)\n",
    "# rand(d0,d1,…,dn)\n",
    "# generate nd array with random floats, arrays has size (d0,d1,…,dn)\n",
    "print(np.random.rand(3))\n",
    "# reset the seed\n",
    "np.random.seed(1)\n",
    "print(np.random.rand(3))\n",
    "\n",
    "# generate nd array with random integers in range (a,b) with size n\n",
    "values = np.random.randint(0, 10, (5,3))\n",
    "print(values)\n",
    "\n",
    "# generate nd array with Gaussian values, array has size (d0,d1,…,dn)\n",
    "# values from standard normal distribution with mean 0.0 and standard deviation 1.0\n",
    "values = np.random.randn(5)\n",
    "print(values)\n",
    "\n",
    "# randomly shuffle a nd array.\n",
    "# only shuffles the array along the first axis of a multi-dimensional array\n",
    "arr = np.array([[1,2,3], [4,5,6], [7,8,9]])\n",
    "np.random.shuffle(arr)\n",
    "print(arr)"
   ]
  }
 ],
 "metadata": {
  "kernelspec": {
   "display_name": "Python 3 (ipykernel)",
   "language": "python",
   "name": "python3"
  },
  "language_info": {
   "codemirror_mode": {
    "name": "ipython",
    "version": 3
   },
   "file_extension": ".py",
   "mimetype": "text/x-python",
   "name": "python",
   "nbconvert_exporter": "python",
   "pygments_lexer": "ipython3",
   "version": "3.13.5"
  }
 },
 "nbformat": 4,
 "nbformat_minor": 5
}
