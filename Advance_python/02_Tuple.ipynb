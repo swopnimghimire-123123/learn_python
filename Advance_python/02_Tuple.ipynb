{
 "cells": [
  {
   "cell_type": "markdown",
   "id": "0e020e5e-26c5-4d97-946d-cd6884996261",
   "metadata": {},
   "source": [
    "# Tuple\n",
    "\n",
    "A tuple is a collection of objects which is ordered and immutable. Tuples are similar to lists, the main difference ist the immutability. In Python tuples are written with round brackets and comma separated values.\n",
    "\n",
    "my_tuple = (\"Max\", 28, \"New York\")"
   ]
  },
  {
   "cell_type": "markdown",
   "id": "c5bf6796-42bb-46f9-b852-87d9baf698f2",
   "metadata": {},
   "source": [
    "### Reasons to use a tuple over a list\n",
    "- Generally used for objects that belong together.\n",
    "- Use tuple for heterogeneous (different) datatypes and list for homogeneous (similar) datatypes.\n",
    "- Since tuple are immutable, iterating through tuple is slightly faster than with list.\n",
    "- Tuples with their immutable elements can be used as key for a dictionary. This is not possible with lists.\n",
    "- If you have data that doesn't change, implementing it as tuple will guarantee that it remains write-protected."
   ]
  },
  {
   "cell_type": "markdown",
   "id": "890f1a67-ab48-453d-bdd7-f5e19573dfb1",
   "metadata": {},
   "source": [
    "### Create a tuple\n",
    "Tuples are created with round brackets and comma separated values. Or use the built-in tuple function."
   ]
  },
  {
   "cell_type": "code",
   "execution_count": 1,
   "id": "c10f4523-6503-44f3-be47-f959ed396089",
   "metadata": {},
   "outputs": [
    {
     "name": "stdout",
     "output_type": "stream",
     "text": [
      "('Ram', 23, 'hari')\n",
      "('ram', 23, 'hari')\n",
      "(23,)\n",
      "(1, 2, 3, 4, 5, 6, 7)\n"
     ]
    }
   ],
   "source": [
    "tuple_1 = (\"Ram\" , 23 , \"hari\")\n",
    "tuple_2 = \"ram\" , 23 , \"hari\" # parenthesis are optional\n",
    "\n",
    "# Special cases: a tuple with only one element needs to have a comma at the end,\n",
    "# Otherwise it is not recognized as tuple\n",
    "\n",
    "tuple_3 = (23,)\n",
    "print(tuple_1)\n",
    "print(tuple_2)\n",
    "print(tuple_3)\n",
    "\n",
    "# Or convert an iterable (list, dict, string) with built-in tuple function\n",
    "tuple_4 = tuple([1,2,3,4,5,6,7])\n",
    "print(tuple_4)"
   ]
  },
  {
   "cell_type": "markdown",
   "id": "ae09c5bc-7ef6-407a-a30f-8c11843ee09b",
   "metadata": {},
   "source": [
    "### Access elements\n",
    "You access the tuple items by referring to the index number. Note that the indices start at 0."
   ]
  },
  {
   "cell_type": "code",
   "execution_count": 2,
   "id": "d8b7ad33-fec6-4231-a47b-1b3c9f3cb796",
   "metadata": {},
   "outputs": [
    {
     "name": "stdout",
     "output_type": "stream",
     "text": [
      "Ram\n",
      "hari\n"
     ]
    }
   ],
   "source": [
    "\n",
    "item = tuple_1[0]\n",
    "print(item)\n",
    "# You can also use negative indexing, e.g -1 refers to the last item,\n",
    "# -2 to the second last item, and so on\n",
    "item = tuple_1[-1]\n",
    "print(item)"
   ]
  },
  {
   "cell_type": "markdown",
   "id": "3d611ecf-422c-4659-ab1b-836f90cc3773",
   "metadata": {},
   "source": [
    "### Add or change items\n",
    "Not possible and will raise a TypeError."
   ]
  },
  {
   "cell_type": "code",
   "execution_count": 8,
   "id": "5a2a5e9c-8301-4058-8bbf-2baba8d9454a",
   "metadata": {},
   "outputs": [
    {
     "ename": "TypeError",
     "evalue": "'tuple' object does not support item assignment",
     "output_type": "error",
     "traceback": [
      "\u001b[31m---------------------------------------------------------------------------\u001b[39m",
      "\u001b[31mTypeError\u001b[39m                                 Traceback (most recent call last)",
      "\u001b[36mCell\u001b[39m\u001b[36m \u001b[39m\u001b[32mIn[8]\u001b[39m\u001b[32m, line 1\u001b[39m\n\u001b[32m----> \u001b[39m\u001b[32m1\u001b[39m \u001b[43mtuple_1\u001b[49m\u001b[43m[\u001b[49m\u001b[32;43m2\u001b[39;49m\u001b[43m]\u001b[49m = \u001b[33m\"\u001b[39m\u001b[33mMexico\u001b[39m\u001b[33m\"\u001b[39m\n",
      "\u001b[31mTypeError\u001b[39m: 'tuple' object does not support item assignment"
     ]
    }
   ],
   "source": [
    "tuple_1[2] = \"Mexico\""
   ]
  },
  {
   "cell_type": "markdown",
   "id": "c2184648-f6a4-4e36-ad97-d80740f5aade",
   "metadata": {},
   "source": [
    "### Delete a tuple"
   ]
  },
  {
   "cell_type": "code",
   "execution_count": 5,
   "id": "a8d69173-8295-425d-9ea8-f9cfb14fcc42",
   "metadata": {},
   "outputs": [],
   "source": [
    "del tuple_2"
   ]
  },
  {
   "cell_type": "code",
   "execution_count": null,
   "id": "2acc365c-fdce-4058-8a47-5012c9ab0bec",
   "metadata": {},
   "outputs": [],
   "source": [
    "# if you call tuple_2 it'll give an error"
   ]
  },
  {
   "cell_type": "markdown",
   "id": "29316522-58df-4b4a-a4e1-ac888f13d9e7",
   "metadata": {},
   "source": [
    "### Iterating"
   ]
  },
  {
   "cell_type": "code",
   "execution_count": 7,
   "id": "adfdda5a-2ac4-4f60-ad84-1cda3d6721a1",
   "metadata": {},
   "outputs": [
    {
     "name": "stdout",
     "output_type": "stream",
     "text": [
      "Ram\n",
      "23\n",
      "hari\n"
     ]
    }
   ],
   "source": [
    "# Iterating over a tuple by using for in loop\n",
    "for items in tuple_1:\n",
    "    print(items)"
   ]
  },
  {
   "cell_type": "markdown",
   "id": "47e27de7-0270-4687-96ef-f75e9069deee",
   "metadata": {},
   "source": [
    "### Check if an item exists"
   ]
  },
  {
   "cell_type": "code",
   "execution_count": 9,
   "id": "1875acfe-e3ae-466e-a152-7dfb0ba07501",
   "metadata": {},
   "outputs": [
    {
     "name": "stdout",
     "output_type": "stream",
     "text": [
      "no\n"
     ]
    }
   ],
   "source": [
    "if \"banana\" in tuple_1:\n",
    "    print(\"yes\")\n",
    "else:\n",
    "    print(\"no\")"
   ]
  },
  {
   "cell_type": "markdown",
   "id": "7dba4e93-c037-47a6-9c5c-e7bc6b09441f",
   "metadata": {},
   "source": [
    "### Some useful things "
   ]
  },
  {
   "cell_type": "code",
   "execution_count": 13,
   "id": "a1cce433-fcef-4b00-870b-9cbe736b0660",
   "metadata": {},
   "outputs": [
    {
     "name": "stdout",
     "output_type": "stream",
     "text": [
      "6\n",
      "3\n",
      "0\n",
      "('a', 'b', 'a', 'b', 'a', 'b', 'a', 'b', 'a', 'b')\n",
      "(1, 2, 3, 4, 5, 6)\n",
      "('a', 'b', 'c', 'd')\n",
      "['a', 'b', 'c', 'd']\n",
      "('H', 'e', 'l', 'l', 'o')\n"
     ]
    }
   ],
   "source": [
    "my_tuple = (\"b\",\"a\",\"n\",\"a\",\"n\",\"a\",)\n",
    "\n",
    "# len() : get the number of elements in a tuple\n",
    "print(len(my_tuple))\n",
    "\n",
    "# count(x) : Return the number of items that is equal to x\n",
    "print(my_tuple.count('a'))\n",
    "\n",
    "# index(x) : Return index of first item that is equal to x\n",
    "print(my_tuple.index('b'))\n",
    "\n",
    "# repetition\n",
    "my_tuple = ('a', 'b') * 5\n",
    "print(my_tuple)\n",
    "\n",
    "# concatenation\n",
    "my_tuple = (1,2,3) + (4,5,6)\n",
    "print(my_tuple)\n",
    "\n",
    "# convert list to a tuple and vice versa\n",
    "my_list = ['a', 'b', 'c', 'd']\n",
    "list_to_tuple = tuple(my_list)\n",
    "print(list_to_tuple)\n",
    "\n",
    "tuple_to_list = list(list_to_tuple)\n",
    "print(tuple_to_list)\n",
    "\n",
    "# convert string to tuple\n",
    "string_to_tuple = tuple('Hello')\n",
    "print(string_to_tuple)"
   ]
  },
  {
   "cell_type": "markdown",
   "id": "5862b706-a3a3-4bd0-808c-6cfe680f8f2c",
   "metadata": {},
   "source": [
    "#### Slicing\n",
    "Access sub parts of the tuple wih the use of colon (:), just as with strings."
   ]
  },
  {
   "cell_type": "code",
   "execution_count": 14,
   "id": "3f23cc8c-3c4b-4fe6-b54c-639f24b5b3d9",
   "metadata": {},
   "outputs": [
    {
     "name": "stdout",
     "output_type": "stream",
     "text": [
      "(2, 3)\n",
      "(3, 4, 5, 6, 7, 8, 9, 10)\n",
      "(1, 2, 3)\n",
      "(1, 3, 5, 7, 9)\n",
      "(10, 9, 8, 7, 6, 5, 4, 3, 2, 1)\n"
     ]
    }
   ],
   "source": [
    "# a[start:stop:step], default step is 1\n",
    "a = (1, 2, 3, 4, 5, 6, 7, 8, 9, 10)\n",
    "b = a[1:3] # Note that the last index is not included\n",
    "print(b)\n",
    "b = a[2:] # until the end\n",
    "print(b)\n",
    "b = a[:3] # from beginning\n",
    "print(b)\n",
    "b = a[::2] # start to end with every second item\n",
    "print(b)\n",
    "b = a[::-1] # reverse tuple\n",
    "print(b)"
   ]
  },
  {
   "cell_type": "markdown",
   "id": "996c3dd3-7b02-430c-b3d2-944cc3dedf48",
   "metadata": {},
   "source": [
    "#### Nested tuples\n",
    "Tuples can contain other tuples (or other container types)."
   ]
  },
  {
   "cell_type": "code",
   "execution_count": 17,
   "id": "ba4ffbb9-1320-4a02-9536-d164123df442",
   "metadata": {},
   "outputs": [
    {
     "name": "stdout",
     "output_type": "stream",
     "text": [
      "((0, 1), ('age', 'height'))\n",
      "(0, 1)\n",
      "('age', 'height')\n"
     ]
    }
   ],
   "source": [
    "a = ((0,1),(\"age\",\"height\"))\n",
    "print(a)\n",
    "print(a[0])\n",
    "print(a[1])"
   ]
  },
  {
   "cell_type": "markdown",
   "id": "8b100a17-6065-4215-aadf-13863d733034",
   "metadata": {},
   "source": [
    "#### Compare tuple and list\n",
    "\n",
    "The immutability of tuples enables Python to make internal optimizations. Thus, tuples can be more efficient when working with large data"
   ]
  },
  {
   "cell_type": "code",
   "execution_count": 18,
   "id": "efc1ba4b-24a1-4efb-957e-ed2010c3d004",
   "metadata": {},
   "outputs": [
    {
     "name": "stdout",
     "output_type": "stream",
     "text": [
      "104 bytes\n",
      "80 bytes\n",
      "0.0974792999913916\n",
      "0.0311760000186041\n"
     ]
    }
   ],
   "source": [
    "# compare the size\n",
    "import sys\n",
    "my_list = [0, 1, 2, \"hello\", True]\n",
    "my_tuple = (0, 1, 2, \"hello\", True)\n",
    "print(sys.getsizeof(my_list), \"bytes\")\n",
    "print(sys.getsizeof(my_tuple), \"bytes\")\n",
    "\n",
    "# compare the execution time of a list vs. tuple creation statement\n",
    "import timeit\n",
    "print(timeit.timeit(stmt=\"[0, 1, 2, 3, 4, 5]\", number=1000000))\n",
    "print(timeit.timeit(stmt=\"(0, 1, 2, 3, 4, 5)\", number=1000000))"
   ]
  },
  {
   "cell_type": "markdown",
   "id": "080355d7-874f-4ed8-83c5-a6d045844e03",
   "metadata": {},
   "source": [
    "#### Covnerting tuples other data structure"
   ]
  },
  {
   "cell_type": "code",
   "execution_count": 22,
   "id": "3a79d328-d27a-4f26-8c53-5bd986393f7a",
   "metadata": {},
   "outputs": [
    {
     "name": "stdout",
     "output_type": "stream",
     "text": [
      "[1, 2, 2, 3, 4, 4, 5, 7, 8]\n",
      "<class 'list'>\n",
      "{1, 2, 3, 4, 5, 7, 8}\n",
      "<class 'set'>\n",
      "{'a': 1, 'b': 2, 'c': 3}\n",
      "<class 'dict'>\n"
     ]
    }
   ],
   "source": [
    "a = (1,2,2,3,4,4,5,7,8)\n",
    "b = list(a)\n",
    "c = set(a)\n",
    "print(b)\n",
    "print(type(b))\n",
    "print(c)\n",
    "print(type(c))\n",
    "t = ((\"a\", 1), (\"b\", 2), (\"c\", 3))\n",
    "d = dict(t)\n",
    "print(d)\n",
    "print(type(d))"
   ]
  }
 ],
 "metadata": {
  "kernelspec": {
   "display_name": "Python 3 (ipykernel)",
   "language": "python",
   "name": "python3"
  },
  "language_info": {
   "codemirror_mode": {
    "name": "ipython",
    "version": 3
   },
   "file_extension": ".py",
   "mimetype": "text/x-python",
   "name": "python",
   "nbconvert_exporter": "python",
   "pygments_lexer": "ipython3",
   "version": "3.13.5"
  }
 },
 "nbformat": 4,
 "nbformat_minor": 5
}
