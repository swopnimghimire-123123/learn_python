{
 "cells": [
  {
   "cell_type": "markdown",
   "id": "7a21d1f5-7fb2-40cf-8614-de0f069f84a4",
   "metadata": {},
   "source": [
    "# Collections\n",
    "The collections module in Python implements specialized container datatypes providing alternatives to Python’s general purpose built-in containers, dict, list, set, and tuple.\n",
    "The following tools exist:\n",
    "\n",
    "- namedtuple : factory function for creating tuple subclasses with named fields\n",
    "- OrderedDict : dict subclass that remembers the order entries were added\n",
    "- Counter : dict subclass for counting hashable objects\n",
    "- defaultdict : dict subclass that calls a factory function to supply missing values\n",
    "- deque : list-like container with fast appends and pops on either end"
   ]
  },
  {
   "cell_type": "markdown",
   "id": "d8ec7a00-a42d-4f50-ad00-2e8bf4fe79b3",
   "metadata": {},
   "source": [
    "### Counter\n",
    "A counter is a container that stores elements as dictionary keys, and their counts are stored as dictionary values."
   ]
  },
  {
   "cell_type": "code",
   "execution_count": 6,
   "id": "164b7bb2-7984-4ecc-b2aa-6711eaacfd67",
   "metadata": {},
   "outputs": [
    {
     "name": "stdout",
     "output_type": "stream",
     "text": [
      "Counter({'b': 13, 'c': 9, 'd': 9, 'a': 7, 'e': 5})\n",
      "dict_items([('a', 7), ('b', 13), ('c', 9), ('d', 9), ('e', 5)])\n",
      "dict_keys(['a', 'b', 'c', 'd', 'e'])\n",
      "dict_values([7, 13, 9, 9, 5])\n",
      "\n",
      " Counter({1: 5, 2: 4, 0: 3, 3: 3})\n",
      "[(1, 5)]\n",
      "[0, 0, 0, 1, 1, 1, 1, 1, 2, 2, 2, 2, 3, 3, 3]\n"
     ]
    }
   ],
   "source": [
    "from collections import Counter\n",
    "a=\"aaaaaaabbbbbbbbbbbbbcccccccccdddddddddeeeee\"\n",
    "my_counter = Counter(a)\n",
    "print(my_counter)\n",
    "\n",
    "print(my_counter.items())\n",
    "print(my_counter.keys())\n",
    "print(my_counter.values())\n",
    "\n",
    "my_list = [0,1,2,3,1,1,2,3,2,1,3,0,2,1,0]\n",
    "my_counter = Counter(my_list)\n",
    "print(\"\\n\",my_counter)\n",
    "\n",
    "# most common items\n",
    "print(my_counter.most_common(1))\n",
    "\n",
    "# Return an iterator over elements repeating each as many times as its count. \n",
    "# Elements are returned in arbitrary order.\n",
    "print(list(my_counter.elements()))"
   ]
  },
  {
   "cell_type": "markdown",
   "id": "7d8ee24d-463d-459a-b052-56661e3d7823",
   "metadata": {},
   "source": [
    "### namedtuple\n",
    "namedtuples are easy to create, lightweight object types. They assign meaning to each position in a tuple and allow for more readable, self-documenting code. They can be used wherever regular tuples are used, and they add the ability to access fields by name instead of position index."
   ]
  },
  {
   "cell_type": "code",
   "execution_count": 8,
   "id": "32733844-e372-4cfb-8936-60b4d6dbb1e1",
   "metadata": {},
   "outputs": [
    {
     "name": "stdout",
     "output_type": "stream",
     "text": [
      "Point(x=1, y=-4)\n",
      "('x', 'y')\n",
      "<class '__main__.Point'>\n",
      "1 -4\n",
      "Tom 25\n"
     ]
    }
   ],
   "source": [
    "from collections import namedtuple\n",
    "# create a namedtuple with its class name as string and its fields as string\n",
    "# fields have to be separated by comma or space in the given string\n",
    "Point = namedtuple('Point','x, y')\n",
    "pt = Point(1, -4)\n",
    "print(pt)\n",
    "print(pt._fields)\n",
    "print(type(pt))\n",
    "print(pt.x, pt.y)\n",
    "\n",
    "Person = namedtuple('Person','name, age')\n",
    "friend = Person(name='Tom', age=25)\n",
    "print(friend.name, friend.age)"
   ]
  },
  {
   "cell_type": "code",
   "execution_count": 16,
   "id": "5e8e4640-1f66-4342-af10-b4d72f29939a",
   "metadata": {},
   "outputs": [
    {
     "name": "stdout",
     "output_type": "stream",
     "text": [
      "Rectangle(length=10, width=5)\n",
      "Area = 50\n",
      "Fields: ('length', 'width')\n"
     ]
    }
   ],
   "source": [
    "from collections import namedtuple\n",
    "\n",
    "# Example 1: Rectangel \n",
    "Rectangle = namedtuple(\"Rectangle\",\"length width\")\n",
    "rect = Rectangle(10,5)\n",
    "print(rect)\n",
    "print(f\"Area = {rect.length * rect.width}\")\n",
    "print(f\"Fields: {rect._fields}\")"
   ]
  },
  {
   "cell_type": "code",
   "execution_count": 20,
   "id": "e3583de3-4285-4e69-b128-2149f0cb0060",
   "metadata": {},
   "outputs": [
    {
     "name": "stdout",
     "output_type": "stream",
     "text": [
      "student(id=101, name='alice', grade=1)\n",
      "harry 5\n"
     ]
    }
   ],
   "source": [
    "from collections import namedtuple\n",
    "\n",
    "# Student Record\n",
    "student = namedtuple(\"student\", \"id name grade\")\n",
    "s1 = student(101,\"alice\",1)\n",
    "s2 = student(404,\"harry\",5)\n",
    "print(s1)\n",
    "print(s2.name,s2.grade)"
   ]
  },
  {
   "cell_type": "code",
   "execution_count": 22,
   "id": "f2db3c0d-3155-4993-8e09-1f6ea3d5d870",
   "metadata": {},
   "outputs": [
    {
     "name": "stdout",
     "output_type": "stream",
     "text": [
      "Coordinate(x=2, y=4, z=8)\n",
      "z-coordinate = 8\n"
     ]
    }
   ],
   "source": [
    "# Example 3: Coordinates in 3D\n",
    "Coordinate = namedtuple('Coordinate', 'x y z')\n",
    "point = Coordinate(2, 4, 8)\n",
    "print(point)\n",
    "print(f\"z-coordinate = {point.z}\")"
   ]
  },
  {
   "cell_type": "markdown",
   "id": "7c60ddc4-8a6a-4d3a-ad8a-08f8d18bf36c",
   "metadata": {},
   "source": [
    "### OrderedDict\n",
    "OrderedDicts are just like regular dictionaries but they remember the order that items were inserted. When iterating over an ordered dictionary, the items are returned in the order their keys were first added. If a new entry overwrites an existing entry, the original insertion position is left unchanged. They have become less important now that the built-in dict class gained the ability to remember insertion order (guaranteed since Python 3.7). But some differences still remain, e.g. the OrderedDict is designed to be good at reordering operations."
   ]
  },
  {
   "cell_type": "code",
   "execution_count": 28,
   "id": "14aea54b-188b-421c-bc51-b4455ea99385",
   "metadata": {},
   "outputs": [
    {
     "name": "stdout",
     "output_type": "stream",
     "text": [
      "{}\n",
      "{'a': 1, 'b': 2, 'c': 3, 'd': 4, 'e': 5}\n",
      "OrderedDict({'a': 1, 'b': 2, 'c': 3, 'd': 4, 'e': 5})\n",
      "a 1\n",
      "b 2\n",
      "c 3\n",
      "d 4\n",
      "e 5\n"
     ]
    }
   ],
   "source": [
    "from collections import OrderedDict\n",
    "ordinary_dict = {}\n",
    "print(ordinary_dict)\n",
    "ordinary_dict['a'] = 1\n",
    "ordinary_dict['b'] = 2\n",
    "ordinary_dict['c'] = 3\n",
    "ordinary_dict['d'] = 4\n",
    "ordinary_dict['e'] = 5\n",
    "# this may be in orbitrary order prior to Python 3.7\n",
    "print(ordinary_dict)\n",
    "\n",
    "ordered_dict = OrderedDict()\n",
    "ordered_dict['a'] = 1\n",
    "ordered_dict['b'] = 2\n",
    "ordered_dict['c'] = 3\n",
    "ordered_dict['d'] = 4\n",
    "ordered_dict['e'] = 5\n",
    "print(ordered_dict)\n",
    "# same functionality as with ordinary dict, but always ordered\n",
    "for k, v in ordinary_dict.items():\n",
    "    print(k, v)"
   ]
  },
  {
   "cell_type": "code",
   "execution_count": 29,
   "id": "f036948e-2ec9-4640-982f-f4bc4a724517",
   "metadata": {},
   "outputs": [
    {
     "name": "stdout",
     "output_type": "stream",
     "text": [
      "OrderedDict preserves order:\n",
      "x 10\n",
      "y 20\n",
      "z 30\n"
     ]
    }
   ],
   "source": [
    "# Maintaining Insertion Order (pre-Python 3.7 guarantee)\n",
    "from collections import OrderedDict\n",
    "\n",
    "ordered_dict = OrderedDict()\n",
    "ordered_dict['x'] = 10\n",
    "ordered_dict['y'] = 20\n",
    "ordered_dict['z'] = 30\n",
    "\n",
    "print(\"OrderedDict preserves order:\")\n",
    "for k, v in ordered_dict.items():\n",
    "    print(k, v)"
   ]
  },
  {
   "cell_type": "code",
   "execution_count": 30,
   "id": "dc82979c-7274-4a72-8ae4-40b8a44a5e0c",
   "metadata": {},
   "outputs": [
    {
     "name": "stdout",
     "output_type": "stream",
     "text": [
      "Before: OrderedDict({'a': 1, 'b': 2, 'c': 3})\n",
      "After moving 'a' to end: OrderedDict({'b': 2, 'c': 3, 'a': 1})\n",
      "After moving 'c' to beginning: OrderedDict({'c': 3, 'b': 2, 'a': 1})\n"
     ]
    }
   ],
   "source": [
    "# Record Elements (using move_to_end)\n",
    "ordered_dict = OrderedDict()\n",
    "ordered_dict['a'] = 1\n",
    "ordered_dict['b'] = 2\n",
    "ordered_dict['c'] = 3\n",
    "\n",
    "print(\"Before:\", ordered_dict)\n",
    "\n",
    "# Move 'a' to the end\n",
    "ordered_dict.move_to_end('a')\n",
    "print(\"After moving 'a' to end:\", ordered_dict)\n",
    "\n",
    "# Move 'c' to the beginning\n",
    "ordered_dict.move_to_end('c', last=False)\n",
    "print(\"After moving 'c' to beginning:\", ordered_dict)"
   ]
  },
  {
   "cell_type": "code",
   "execution_count": 31,
   "id": "8afd478d-920c-4f58-af0f-adb9c3992014",
   "metadata": {},
   "outputs": [
    {
     "name": "stdout",
     "output_type": "stream",
     "text": [
      "Are they equal? False\n"
     ]
    }
   ],
   "source": [
    "# Equality check (Order matters!)\n",
    "d1 = OrderedDict([('a', 1), ('b', 2)])\n",
    "d2 = OrderedDict([('b', 2), ('a', 1)])\n",
    "\n",
    "print(\"Are they equal?\", d1 == d2)   # False, because order is different"
   ]
  },
  {
   "cell_type": "code",
   "execution_count": 33,
   "id": "6a85a865-69be-4e00-84df-ba5f9853a74f",
   "metadata": {},
   "outputs": [
    {
     "name": "stdout",
     "output_type": "stream",
     "text": [
      "Sorted OrderedDict: OrderedDict({'apple': 5, 'banana': 3, 'pear': 1})\n"
     ]
    }
   ],
   "source": [
    "# Sorting dictionary into OrderedDict\n",
    "data = {'banana': 3, 'apple': 5, 'pear': 1}\n",
    "sorted_dict = OrderedDict(sorted(data.items()))\n",
    "\n",
    "print(\"Sorted OrderedDict:\", sorted_dict)"
   ]
  },
  {
   "cell_type": "markdown",
   "id": "6e51bf40-d316-4553-9e25-aa5c2934cb7b",
   "metadata": {},
   "source": [
    "### defaultdict\n",
    "The defaultdict is a container that's similar to the usual dict container, but the only difference is that a defaultdict will have a default value if that key has not been set yet. If you didn't use a defaultdict you'd have to check to see if that key exists, and if it doesn't, set it to what you want."
   ]
  },
  {
   "cell_type": "code",
   "execution_count": 34,
   "id": "ead9f9a5-6e65-4c4a-9bc0-7e93916f48d5",
   "metadata": {},
   "outputs": [
    {
     "name": "stdout",
     "output_type": "stream",
     "text": [
      "dict_items([('yellow', 1), ('blue', 2)])\n",
      "0\n",
      "dict_items([('yellow', [1, 3]), ('blue', [2, 4]), ('red', [5])])\n",
      "[]\n"
     ]
    }
   ],
   "source": [
    "from collections import defaultdict\n",
    "\n",
    "# initialize with a default integer value, i.e 0\n",
    "d = defaultdict(int)\n",
    "d['yellow'] = 1\n",
    "d['blue'] = 2\n",
    "print(d.items())\n",
    "print(d['green'])\n",
    "\n",
    "# initialize with a default list value, i.e an empty list\n",
    "d = defaultdict(list)\n",
    "s = [('yellow', 1), ('blue', 2), ('yellow', 3), ('blue', 4), ('red', 5)]\n",
    "for k, v in s:\n",
    "    d[k].append(v)\n",
    "\n",
    "print(d.items())\n",
    "print(d['green'])"
   ]
  },
  {
   "cell_type": "code",
   "execution_count": 35,
   "id": "72ca3c05-4d55-4766-88a3-44f0c2f17fb0",
   "metadata": {},
   "outputs": [
    {
     "name": "stdout",
     "output_type": "stream",
     "text": [
      "defaultdict(<class 'list'>, {'cat': ['meow', 'purr'], 'dog': ['bark', 'woof']})\n"
     ]
    }
   ],
   "source": [
    "# It can be used to group values easily\n",
    "\n",
    "from collections import defaultdict\n",
    "\n",
    "pairs = [('cat', 'meow'), ('dog', 'bark'), ('cat', 'purr'), ('dog', 'woof')]\n",
    "d = defaultdict(list)\n",
    "\n",
    "for k, v in pairs:\n",
    "    d[k].append(v)\n",
    "\n",
    "print(d)  \n",
    "# {'cat': ['meow', 'purr'], 'dog': ['bark', 'woof']}\n"
   ]
  },
  {
   "cell_type": "code",
   "execution_count": 37,
   "id": "f1a62f04-8233-406e-af9a-ceda00c2ad4d",
   "metadata": {},
   "outputs": [
    {
     "name": "stdout",
     "output_type": "stream",
     "text": [
      "defaultdict(<class 'int'>, {'banana': 3, 'apple': 2, 'orange': 1})\n"
     ]
    }
   ],
   "source": [
    "# Counting items (alternative to counter)\n",
    "\n",
    "text = \"banana apple apple orange banana banana\"\n",
    "words = text.split()\n",
    "\n",
    "count = defaultdict(int)\n",
    "for w in words:\n",
    "    count[w] += 1\n",
    "\n",
    "print(count)\n",
    "# {'banana': 3, 'apple': 2, 'orange': 1}"
   ]
  },
  {
   "cell_type": "code",
   "execution_count": 39,
   "id": "aed191d5-8874-4b50-af04-3f2e575ca0ee",
   "metadata": {},
   "outputs": [
    {
     "name": "stdout",
     "output_type": "stream",
     "text": [
      "defaultdict(<class 'set'>, {'fruits': {'apple', 'banana'}, 'colors': {'yellow'}})\n"
     ]
    }
   ],
   "source": [
    "# Creating a set of values\n",
    "\n",
    "d = defaultdict(set)\n",
    "d['fruits'].add('apple')\n",
    "d['fruits'].add('banana')\n",
    "d['colors'].add('yellow')\n",
    "\n",
    "print(d)  \n",
    "# {'fruits': {'apple', 'banana'}, 'colors': {'yellow'}}"
   ]
  },
  {
   "cell_type": "markdown",
   "id": "74aea4a8-97a0-40ad-8576-dae77bb4a493",
   "metadata": {},
   "source": [
    "### deque\n",
    "A deque is a double-ended queue. It can be used to add or remove elements from both ends. Deques support thread safe, memory efficient appends and pops from either side of the deque with approximately the same O(1) performance in either direction. The more commonly used stacks and queues are degenerate forms of deques, where the inputs and outputs are restricted to a single end."
   ]
  },
  {
   "cell_type": "code",
   "execution_count": 41,
   "id": "f01c5051-bcb7-4e33-8a83-f080f6c4743d",
   "metadata": {},
   "outputs": [
    {
     "name": "stdout",
     "output_type": "stream",
     "text": [
      "deque(['a', 'b'])\n",
      "deque(['c', 'a', 'b'])\n",
      "b\n",
      "deque(['c', 'a'])\n",
      "c\n",
      "deque(['a'])\n",
      "deque([])\n",
      "deque(['j', 'i', 'h', 'a', 'b', 'c', 'd', 'e', 'f', 'g'])\n",
      "1\n",
      "deque(['g', 'j', 'i', 'h', 'a', 'b', 'c', 'd', 'e', 'f'])\n",
      "deque(['i', 'h', 'a', 'b', 'c', 'd', 'e', 'f', 'g', 'j'])\n"
     ]
    }
   ],
   "source": [
    "from collections import deque\n",
    "d = deque()\n",
    "\n",
    "# append() : add elements to the right end \n",
    "d.append('a')\n",
    "d.append('b')\n",
    "print(d)\n",
    "\n",
    "# appendleft() : add elements to the left end \n",
    "d.appendleft('c')\n",
    "print(d)\n",
    "\n",
    "# pop() : return and remove elements from the right\n",
    "print(d.pop())\n",
    "print(d)\n",
    "\n",
    "# popleft() : return and remove elements from the left\n",
    "print(d.popleft())\n",
    "print(d)\n",
    "\n",
    "# clear() : remove all elements\n",
    "d.clear()\n",
    "print(d)\n",
    "\n",
    "d = deque(['a', 'b', 'c', 'd'])\n",
    "\n",
    "# extend at right or left side\n",
    "d.extend(['e', 'f', 'g'])\n",
    "d.extendleft(['h', 'i', 'j']) # note that 'j' is now at the left most position\n",
    "print(d)\n",
    "\n",
    "# count(x) : returns the number of found elements\n",
    "print(d.count('h'))\n",
    "\n",
    "# rotate 1 positions to the right\n",
    "d.rotate(1)\n",
    "print(d)\n",
    "\n",
    "# rotate 2 positions to the left\n",
    "d.rotate(-2)\n",
    "print(d)"
   ]
  }
 ],
 "metadata": {
  "kernelspec": {
   "display_name": "Python 3 (ipykernel)",
   "language": "python",
   "name": "python3"
  },
  "language_info": {
   "codemirror_mode": {
    "name": "ipython",
    "version": 3
   },
   "file_extension": ".py",
   "mimetype": "text/x-python",
   "name": "python",
   "nbconvert_exporter": "python",
   "pygments_lexer": "ipython3",
   "version": "3.13.5"
  }
 },
 "nbformat": 4,
 "nbformat_minor": 5
}
