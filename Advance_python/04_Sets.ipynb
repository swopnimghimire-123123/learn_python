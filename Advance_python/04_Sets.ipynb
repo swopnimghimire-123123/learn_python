{
 "cells": [
  {
   "cell_type": "markdown",
   "id": "ac6f1662-4114-4c0f-b267-c9bd838160d1",
   "metadata": {},
   "source": [
    "### Sets\n",
    "A Set is an unordered collection data type that is unindexed, mutable, and has no duplicate elements. Sets are created with braces.\n",
    "\n",
    "my_set = {\"apple\", \"banana\", \"cherry\"}"
   ]
  },
  {
   "cell_type": "markdown",
   "id": "6620596c-7527-4b24-a276-cc4cf313e440",
   "metadata": {},
   "source": [
    "### Create a set\n",
    "Use curly braces or the built-in set function."
   ]
  },
  {
   "cell_type": "code",
   "execution_count": 4,
   "id": "0446d73f-3611-4dbe-aeed-9ba3fee01659",
   "metadata": {},
   "outputs": [
    {
     "name": "stdout",
     "output_type": "stream",
     "text": [
      "{'cherry', 'banana', 'apple'}\n",
      "{'three', 'one', 'two'}\n",
      "{'three', 'one', 'two'}\n",
      "{'a', 'e', 'd', 'c', 'f', 'b'}\n",
      "<class 'dict'>\n",
      "<class 'set'>\n"
     ]
    }
   ],
   "source": [
    "my_set = {\"apple\", \"banana\", \"cherry\"}\n",
    "print(my_set)\n",
    "\n",
    "# or use the set function and create from an iterable, e.g. list, tuple, string\n",
    "my_set_2 = set([\"one\", \"two\", \"three\"])\n",
    "my_set_3 = set((\"one\", \"two\", \"three\"))\n",
    "print(my_set_2)\n",
    "print(my_set_3)\n",
    "\n",
    "my_set_4 = set(\"aaabbbcccdddeeeeeffff\")\n",
    "print(my_set_4)\n",
    "\n",
    "# careful: an empty set cannot be created with {}, as this is interpreted as dict\n",
    "# use set() instead\n",
    "a = {}\n",
    "print(type(a))\n",
    "a = set()\n",
    "print(type(a))"
   ]
  },
  {
   "cell_type": "markdown",
   "id": "2e0d6aaa-950c-4c11-97c0-3802de47ef45",
   "metadata": {},
   "source": [
    "### Add elements"
   ]
  },
  {
   "cell_type": "code",
   "execution_count": 5,
   "id": "96250be1-4104-4fe9-ae83-084e03c5dc76",
   "metadata": {},
   "outputs": [
    {
     "name": "stdout",
     "output_type": "stream",
     "text": [
      "{'Hello', True, 42}\n",
      "{'Hello', True, 42}\n"
     ]
    }
   ],
   "source": [
    "my_set = set()\n",
    "\n",
    "# use the add() method to add elements\n",
    "my_set.add(42)\n",
    "my_set.add(True)\n",
    "my_set.add(\"Hello\")\n",
    "\n",
    "# note: the order does not matter, and might differ when printed\n",
    "print(my_set)\n",
    "\n",
    "# nothing happens when the element is already present:\n",
    "my_set.add(42)\n",
    "print(my_set)"
   ]
  },
  {
   "cell_type": "markdown",
   "id": "6bd0b824-4f63-4e24-9a1f-69708a1e3dc4",
   "metadata": {},
   "source": [
    "### Remove element"
   ]
  },
  {
   "cell_type": "code",
   "execution_count": 6,
   "id": "839e3532-c95c-47bd-b3c1-71c4b47bf293",
   "metadata": {},
   "outputs": [
    {
     "name": "stdout",
     "output_type": "stream",
     "text": [
      "{'cherry', 'banana', 'apple'}\n",
      "{'cherry', 'banana'}\n",
      "{'banana'}\n",
      "set()\n",
      "False\n",
      "{True, 2, 'hi', 'hello'}\n"
     ]
    }
   ],
   "source": [
    "# remove(x): removes x, raises a KeyError if element is not present\n",
    "my_set = {\"apple\", \"banana\", \"cherry\"}\n",
    "print(my_set)\n",
    "my_set.remove(\"apple\")\n",
    "print(my_set)\n",
    "\n",
    "# KeyError:\n",
    "# my_set.remove(\"orange\")\n",
    "\n",
    "# discard(x): removes x, does nothing if element is not present\n",
    "my_set.discard(\"cherry\")\n",
    "my_set.discard(\"blueberry\")\n",
    "print(my_set)\n",
    "\n",
    "# clear() : remove all elements\n",
    "my_set.clear()\n",
    "print(my_set)\n",
    "\n",
    "# pop() : return and remove a random element\n",
    "a = {True, 2, False, \"hi\", \"hello\"}\n",
    "print(a.pop())\n",
    "print(a)"
   ]
  },
  {
   "cell_type": "markdown",
   "id": "ef83f314-5e8f-4f04-9940-ba0dfa8df74f",
   "metadata": {},
   "source": [
    "### Check if the element is in the set"
   ]
  },
  {
   "cell_type": "code",
   "execution_count": 7,
   "id": "34e21d50-b50f-42b5-9350-38d9372e56e5",
   "metadata": {},
   "outputs": [
    {
     "name": "stdout",
     "output_type": "stream",
     "text": [
      "yes\n"
     ]
    }
   ],
   "source": [
    "my_set = {\"apple\", \"banana\", \"cherry\"}\n",
    "if \"apple\" in my_set:\n",
    "    print(\"yes\")"
   ]
  },
  {
   "cell_type": "markdown",
   "id": "acc2411b-3189-4026-9e66-aee6c58863d1",
   "metadata": {},
   "source": [
    "### Iterating"
   ]
  },
  {
   "cell_type": "code",
   "execution_count": 9,
   "id": "37cd0f75-e8c1-4958-8e92-a7225d644a88",
   "metadata": {},
   "outputs": [
    {
     "name": "stdout",
     "output_type": "stream",
     "text": [
      "cherry\n",
      "banana\n",
      "apple\n"
     ]
    }
   ],
   "source": [
    "# Iterating over a set by using a for in loop\n",
    "# Note: order is not important\n",
    "my_set = {\"apple\", \"banana\", \"cherry\"}\n",
    "for fruits in my_set:\n",
    "    print(fruits)"
   ]
  },
  {
   "cell_type": "markdown",
   "id": "b122724e-5fb9-4bb5-b3c6-995c1fcc0000",
   "metadata": {},
   "source": [
    "### Union and intersection"
   ]
  },
  {
   "cell_type": "code",
   "execution_count": 10,
   "id": "e7821263-c01c-427f-9ca3-47ff26f61bad",
   "metadata": {},
   "outputs": [
    {
     "name": "stdout",
     "output_type": "stream",
     "text": [
      "{0, 1, 2, 3, 4, 5, 6, 7, 8, 9}\n",
      "set()\n",
      "{3, 5, 7}\n",
      "{2}\n"
     ]
    }
   ],
   "source": [
    "\n",
    "odds = {1, 3, 5, 7, 9}\n",
    "evens = {0, 2, 4, 6, 8}\n",
    "primes = {2, 3, 5, 7}\n",
    "\n",
    "# union() : combine elements from both sets, no duplication\n",
    "# note that this does not change the two sets\n",
    "u = odds.union(evens)\n",
    "print(u)\n",
    "\n",
    "# intersection(): take elements that are in both sets\n",
    "i = odds.intersection(evens)\n",
    "print(i)\n",
    "\n",
    "i = odds.intersection(primes)\n",
    "print(i)\n",
    "\n",
    "i = evens.intersection(primes)\n",
    "print(i)"
   ]
  },
  {
   "cell_type": "markdown",
   "id": "aa5c75c1-6ae6-41cb-a9ad-82cd9c8c0e6b",
   "metadata": {},
   "source": [
    "### Difference of sets"
   ]
  },
  {
   "cell_type": "code",
   "execution_count": 11,
   "id": "e4145ebc-7580-4f5e-a662-c21259fe8e9d",
   "metadata": {},
   "outputs": [
    {
     "name": "stdout",
     "output_type": "stream",
     "text": [
      "{4, 5, 6, 7, 8, 9}\n",
      "{10, 11, 12}\n",
      "{4, 5, 6, 7, 8, 9, 10, 11, 12}\n",
      "{4, 5, 6, 7, 8, 9, 10, 11, 12}\n"
     ]
    }
   ],
   "source": [
    "setA = {1, 2, 3, 4, 5, 6, 7, 8, 9}\n",
    "setB = {1, 2, 3, 10, 11, 12}\n",
    "\n",
    "# difference() : returns a set with all the elements from the setA that are not in setB.\n",
    "diff_set = setA.difference(setB)\n",
    "print(diff_set)\n",
    "\n",
    "# A.difference(B) is not the same as B.difference(A)\n",
    "diff_set = setB.difference(setA)\n",
    "print(diff_set)\n",
    "\n",
    "# symmetric_difference() : returns a set with all the elements that are in setA and setB but not in both\n",
    "diff_set = setA.symmetric_difference(setB)\n",
    "print(diff_set)\n",
    "\n",
    "# A.symmetric_difference(B) = B.symmetric_difference(A)\n",
    "diff_set = setB.symmetric_difference(setA)\n",
    "print(diff_set)"
   ]
  },
  {
   "cell_type": "markdown",
   "id": "a72def48-aabf-4fc5-99af-53bd65944574",
   "metadata": {},
   "source": [
    "### Updating sets"
   ]
  },
  {
   "cell_type": "code",
   "execution_count": 12,
   "id": "37743f7b-181f-4d91-b2dd-823f321ab028",
   "metadata": {},
   "outputs": [
    {
     "name": "stdout",
     "output_type": "stream",
     "text": [
      "{1, 2, 3, 4, 5, 6, 7, 8, 9, 10, 11, 12}\n",
      "{1, 2, 3}\n",
      "{4, 5, 6, 7, 8, 9}\n",
      "{4, 5, 6, 7, 8, 9, 10, 11, 12}\n"
     ]
    }
   ],
   "source": [
    "setA = {1, 2, 3, 4, 5, 6, 7, 8, 9}\n",
    "setB = {1, 2, 3, 10, 11, 12}\n",
    "\n",
    "# update() : Update the set by adding elements from another set.\n",
    "setA.update(setB)\n",
    "print(setA)\n",
    "\n",
    "# intersection_update() : Update the set by keeping only the elements found in both\n",
    "setA = {1, 2, 3, 4, 5, 6, 7, 8, 9}\n",
    "setA.intersection_update(setB)\n",
    "print(setA)\n",
    "\n",
    "# difference_update() : Update the set by removing elements found in another set.\n",
    "setA = {1, 2, 3, 4, 5, 6, 7, 8, 9}\n",
    "setA.difference_update(setB)\n",
    "print(setA)\n",
    "\n",
    "# symmetric_difference_update() : Update the set by only keeping the elements found in either set, but not in both\n",
    "setA = {1, 2, 3, 4, 5, 6, 7, 8, 9}\n",
    "setA.symmetric_difference_update(setB)\n",
    "print(setA)\n",
    "\n",
    "# Note: all update methods also work with other iterables as argument, e.g lists, tuples\n",
    "# setA.update([1, 2, 3, 4, 5, 6])"
   ]
  },
  {
   "cell_type": "markdown",
   "id": "c308301f-23e8-4a95-a63d-4162762735e1",
   "metadata": {},
   "source": [
    "### Copying"
   ]
  },
  {
   "cell_type": "code",
   "execution_count": 13,
   "id": "7f1ebeaa-f9f1-474a-a029-6bcd647c1ba4",
   "metadata": {},
   "outputs": [
    {
     "name": "stdout",
     "output_type": "stream",
     "text": [
      "{1, 2, 3, 4, 5, 6, 7}\n",
      "{1, 2, 3, 4, 5, 6, 7}\n",
      "{1, 2, 3, 4, 5, 6, 7}\n",
      "{1, 2, 3, 4, 5}\n"
     ]
    }
   ],
   "source": [
    "set_org = {1, 2, 3, 4, 5}\n",
    "\n",
    "# this just copies the reference to the set, so be careful\n",
    "set_copy = set_org\n",
    "\n",
    "# now modifying the copy also affects the original\n",
    "set_copy.update([3, 4, 5, 6, 7])\n",
    "print(set_copy)\n",
    "print(set_org)\n",
    "\n",
    "# use copy() to actually copy the set\n",
    "set_org = {1, 2, 3, 4, 5}\n",
    "set_copy = set_org.copy()\n",
    "\n",
    "# now modifying the copy does not affect the original\n",
    "set_copy.update([3, 4, 5, 6, 7])\n",
    "print(set_copy)\n",
    "print(set_org)"
   ]
  },
  {
   "cell_type": "markdown",
   "id": "61a66a18-4d06-414f-940d-3042d6d592fc",
   "metadata": {},
   "source": [
    "### Subset, Superset, and Disjoint"
   ]
  },
  {
   "cell_type": "code",
   "execution_count": 14,
   "id": "3b601c45-5f59-40a7-9246-9c5a449f3507",
   "metadata": {},
   "outputs": [
    {
     "name": "stdout",
     "output_type": "stream",
     "text": [
      "False\n",
      "True\n",
      "True\n",
      "False\n",
      "False\n",
      "True\n"
     ]
    }
   ],
   "source": [
    "setA = {1, 2, 3, 4, 5, 6}\n",
    "setB = {1, 2, 3}\n",
    "# issubset(setX): Returns True if setX contains the set\n",
    "print(setA.issubset(setB))\n",
    "print(setB.issubset(setA)) # True\n",
    "\n",
    "# issuperset(setX): Returns True if the set contains setX\n",
    "print(setA.issuperset(setB)) # True\n",
    "print(setB.issuperset(setA))\n",
    "\n",
    "# isdisjoint(setX) : Return True if both sets have a null intersection, i.e. no same elements\n",
    "setC = {7, 8, 9}\n",
    "print(setA.isdisjoint(setB))\n",
    "print(setA.isdisjoint(setC))"
   ]
  },
  {
   "cell_type": "markdown",
   "id": "5f4d7a79-d209-4d10-b326-131b61ce89c4",
   "metadata": {},
   "source": [
    "### Frozenset\n",
    "Frozen set is just an immutable version of normal set. While elements of a set can be modified at any time, elements of frozen set remains the same after creation. Creation with: my_frozenset = frozenset(iterable)"
   ]
  },
  {
   "cell_type": "code",
   "execution_count": 15,
   "id": "3f588d7f-1026-42df-80b2-e044f55cc237",
   "metadata": {},
   "outputs": [
    {
     "name": "stdout",
     "output_type": "stream",
     "text": [
      "frozenset({0, 1, 2, 3, 4, 5, 6, 7, 8, 9})\n",
      "frozenset()\n",
      "frozenset({1, 3, 5, 7, 9})\n"
     ]
    }
   ],
   "source": [
    "a = frozenset([0, 1, 2, 3, 4])\n",
    "\n",
    "# The following is not allowed:\n",
    "# a.add(5)\n",
    "# a.remove(1)\n",
    "# a.discard(1)\n",
    "# a.clear()\n",
    "\n",
    "# Also no update methods are allowed:\n",
    "# a.update([1,2,3])\n",
    "\n",
    "# Other set operations work\n",
    "odds = frozenset({1, 3, 5, 7, 9})\n",
    "evens = frozenset({0, 2, 4, 6, 8})\n",
    "print(odds.union(evens))\n",
    "print(odds.intersection(evens))\n",
    "print(odds.difference(evens))"
   ]
  }
 ],
 "metadata": {
  "kernelspec": {
   "display_name": "Python 3 (ipykernel)",
   "language": "python",
   "name": "python3"
  },
  "language_info": {
   "codemirror_mode": {
    "name": "ipython",
    "version": 3
   },
   "file_extension": ".py",
   "mimetype": "text/x-python",
   "name": "python",
   "nbconvert_exporter": "python",
   "pygments_lexer": "ipython3",
   "version": "3.13.5"
  }
 },
 "nbformat": 4,
 "nbformat_minor": 5
}
