{
 "cells": [
  {
   "cell_type": "markdown",
   "id": "d3f639d3-9f03-429c-a524-efa9bc31b605",
   "metadata": {},
   "source": [
    "### List"
   ]
  },
  {
   "cell_type": "markdown",
   "id": "5e7c4a42-8637-4d58-b0ef-5903dca01419",
   "metadata": {},
   "source": [
    "List is a collection data type which is ordered and mutable. Unlike Sets, Lists allow duplicate elements. They are useful for preserving a sequence of data and further iterating over it. Lists are created with square brackets."
   ]
  },
  {
   "cell_type": "markdown",
   "id": "c735fdeb-30c6-4596-87e6-5abd1e4b5dfb",
   "metadata": {},
   "source": [
    "### Comparison of basic built-in collection data types in Python:\n",
    "- List is a collection which is ordered and mutable. Allows duplicate members.\n",
    "- Tuple is a collection which is ordered and immutable. Allows duplicate members.\n",
    "- Set is a collection which is unordered and unindexed. No duplicate members.\n",
    "- Dictionary is a collection which is unordered, mutable and indexed. No duplicate members.\n",
    "- Strings are immutable sequences of Unicode code points."
   ]
  },
  {
   "cell_type": "markdown",
   "id": "bff0d3fc-31f0-4ec1-84ed-8d8ed4bfba94",
   "metadata": {},
   "source": [
    "### Creating a list\n",
    "Lists are created with square brackets or the built-in list function."
   ]
  },
  {
   "cell_type": "code",
   "execution_count": 2,
   "id": "d8244934-dbe7-415c-9e4b-2fca10eaebe6",
   "metadata": {},
   "outputs": [
    {
     "name": "stdout",
     "output_type": "stream",
     "text": [
      "['Banana', 'cheery', 'apple']\n",
      "[]\n",
      "[5, True, 'apple']\n",
      "[0, 0, 1, 1]\n"
     ]
    }
   ],
   "source": [
    "list_1 = [\"Banana\",\"cheery\",\"apple\"]\n",
    "print(list_1)\n",
    "\n",
    "# or create an empty list with list function\n",
    "list_2 = list()\n",
    "print(list_2)\n",
    "\n",
    "# lists are allowed to have different data type \n",
    "list_3 = [ 5 , True , \"apple\" ]\n",
    "print(list_3)\n",
    "\n",
    "# list are allowed to have dublicate value \n",
    "list_4 = [0 , 0 , 1 , 1]\n",
    "print(list_4)"
   ]
  },
  {
   "cell_type": "markdown",
   "id": "4aecebac-c1fe-41fd-abca-928605a33e99",
   "metadata": {},
   "source": [
    "### Access elements\n",
    "You access the list items by referring to the index number. Note that the indices start at 0."
   ]
  },
  {
   "cell_type": "code",
   "execution_count": 3,
   "id": "923bd394-4b2a-4ca0-8bfa-0a9b4249a93d",
   "metadata": {},
   "outputs": [
    {
     "name": "stdout",
     "output_type": "stream",
     "text": [
      "Banana\n",
      "apple\n"
     ]
    }
   ],
   "source": [
    "item = list_1[0]\n",
    "print(item)\n",
    "\n",
    "# You can also use negative indexing, e.g -1 refers to the last item,\n",
    "# -2 to the second last item, and so on\n",
    "item = list_1[-1]\n",
    "print(item)"
   ]
  },
  {
   "cell_type": "markdown",
   "id": "e51fe0d4-5dda-4ec3-a9ca-f4ceea5c14eb",
   "metadata": {},
   "source": [
    "#### Change items\n",
    "Just refer to the index number and assign a new value."
   ]
  },
  {
   "cell_type": "code",
   "execution_count": 5,
   "id": "fec9f2b8-95cd-4dd7-931e-bd32810315f5",
   "metadata": {},
   "outputs": [
    {
     "name": "stdout",
     "output_type": "stream",
     "text": [
      "['Banana', 'cheery', 'lemon']\n"
     ]
    }
   ],
   "source": [
    "# Lists can be altered after their creation\n",
    "list_1[2] = \"lemon\"\n",
    "print(list_1)"
   ]
  },
  {
   "cell_type": "code",
   "execution_count": 6,
   "id": "9ab6a224-d144-4d51-89f9-98d781eb8f09",
   "metadata": {},
   "outputs": [
    {
     "name": "stdout",
     "output_type": "stream",
     "text": [
      "Length: 3\n",
      "['banana', 'blueberry', 'cherry', 'apple', 'orange']\n",
      "Popped item:  orange\n",
      "['banana', 'blueberry', 'apple']\n",
      "[]\n",
      "Reversed:  ['apple', 'cherry', 'banana']\n",
      "Sorted:  ['apple', 'banana', 'cherry']\n",
      "[0, 0, 0, 0, 0]\n",
      "[0, 0, 0, 0, 0, 'banana', 'cherry', 'apple']\n",
      "['H', 'e', 'l', 'l', 'o']\n"
     ]
    }
   ],
   "source": [
    "my_list = [\"banana\", \"cherry\", \"apple\"]\n",
    "\n",
    "# len() : get the number of elements in a list\n",
    "print(\"Length:\", len(my_list))\n",
    "\n",
    "# append() : adds an element to the end of the list\n",
    "my_list.append(\"orange\")\n",
    "\n",
    "# insert() : adds an element at the specified position\n",
    "my_list.insert(1, \"blueberry\")\n",
    "print(my_list)\n",
    "\n",
    "# pop() : removes and returns the item at the given position, default is the last item\n",
    "item = my_list.pop()\n",
    "print(\"Popped item: \", item)\n",
    "\n",
    "# remove() : removes an item from the list\n",
    "my_list.remove(\"cherry\") # Value error if not in the list\n",
    "print(my_list)\n",
    "\n",
    "# clear() : removes all items from the list\n",
    "my_list.clear()\n",
    "print(my_list)\n",
    "\n",
    "# reverse() : reverse the items\n",
    "my_list = [\"banana\", \"cherry\", \"apple\"]\n",
    "my_list.reverse()\n",
    "print('Reversed: ', my_list)\n",
    "\n",
    "# sort() : sort items in ascending order\n",
    "my_list.sort()\n",
    "print('Sorted: ', my_list)\n",
    "\n",
    "# use sorted() to get a new list, and leave the original unaffected.\n",
    "# sorted() works on any iterable type, not just lists\n",
    "my_list = [\"banana\", \"cherry\", \"apple\"]\n",
    "new_list = sorted(my_list)\n",
    "\n",
    "# create list with repeated elements\n",
    "list_with_zeros = [0] * 5\n",
    "print(list_with_zeros)\n",
    "\n",
    "# concatenation\n",
    "list_concat = list_with_zeros + my_list\n",
    "print(list_concat)\n",
    "\n",
    "# convert string to list\n",
    "string_to_list = list('Hello')\n",
    "print(string_to_list)"
   ]
  },
  {
   "cell_type": "markdown",
   "id": "2ec8fcf0-3337-481c-80d1-c6b80174a5f8",
   "metadata": {},
   "source": [
    "#### Copy a list\n",
    "Be careful when copying references."
   ]
  },
  {
   "cell_type": "code",
   "execution_count": 7,
   "id": "5843a7c6-4188-45f8-bc69-7f84f94e1f98",
   "metadata": {},
   "outputs": [
    {
     "name": "stdout",
     "output_type": "stream",
     "text": [
      "['banana', 'cherry', 'apple', True]\n",
      "['banana', 'cherry', 'apple', True]\n",
      "['banana', 'cherry', 'apple', True]\n",
      "['banana', 'cherry', 'apple']\n"
     ]
    }
   ],
   "source": [
    "list_org = [\"banana\", \"cherry\", \"apple\"]\n",
    "\n",
    "# this just copies the reference to the list, so be careful\n",
    "list_copy = list_org\n",
    "\n",
    "# now modifying the copy also affects the original\n",
    "list_copy.append(True)\n",
    "print(list_copy)\n",
    "print(list_org)\n",
    "\n",
    "# use copy(), or list(x) to actually copy the list\n",
    "# slicing also works: list_copy = list_org[:]\n",
    "list_org = [\"banana\", \"cherry\", \"apple\"]\n",
    "\n",
    "list_copy = list_org.copy()\n",
    "# list_copy = list(list_org)\n",
    "# list_copy = list_org[:]\n",
    "\n",
    "# now modifying the copy does not affect the original\n",
    "list_copy.append(True)\n",
    "print(list_copy)\n",
    "print(list_org)"
   ]
  },
  {
   "cell_type": "markdown",
   "id": "9a54bc94-b26c-43e1-8b94-0e8aebbfc21a",
   "metadata": {},
   "source": [
    "#### Iterating"
   ]
  },
  {
   "cell_type": "code",
   "execution_count": 8,
   "id": "a71db70a-668d-4d26-b708-a53133564457",
   "metadata": {},
   "outputs": [
    {
     "name": "stdout",
     "output_type": "stream",
     "text": [
      "Banana\n",
      "cheery\n",
      "lemon\n"
     ]
    }
   ],
   "source": [
    "# Iterating over a list by using for in loop \n",
    "\n",
    "for items in list_1:\n",
    "    print(items)"
   ]
  },
  {
   "cell_type": "markdown",
   "id": "166e1744-3b1f-4175-bc71-6df63e66b9f9",
   "metadata": {},
   "source": [
    "#### Check if an item exists"
   ]
  },
  {
   "cell_type": "code",
   "execution_count": 13,
   "id": "fed3087b-410f-4a04-bfb9-8770911c1cfd",
   "metadata": {},
   "outputs": [
    {
     "name": "stdout",
     "output_type": "stream",
     "text": [
      "['Banana', 'cheery', 'lemon']\n",
      "\n",
      "\n",
      "banana is present in the list\n"
     ]
    }
   ],
   "source": [
    "print(list_1)\n",
    "print(\"\\n\")\n",
    "if \"Banana\" in list_1:\n",
    "    print(\"banana is present in the list\")\n",
    "else:\n",
    "    print(\"banana is absent in the list\")"
   ]
  },
  {
   "cell_type": "markdown",
   "id": "f1813f19-3f51-4f98-952b-b997f9097ee6",
   "metadata": {},
   "source": [
    "#### Slicing\n",
    "Access sub parts of the list with the use of colon (:), just as with strings."
   ]
  },
  {
   "cell_type": "code",
   "execution_count": 14,
   "id": "7c85502e-c52a-4ae7-9b94-621cc0923c7b",
   "metadata": {},
   "outputs": [
    {
     "name": "stdout",
     "output_type": "stream",
     "text": [
      "[2, 3]\n",
      "[3, 4, 5, 6, 7, 8, 9, 10]\n",
      "[1, 2, 3]\n",
      "[0, 4, 5, 6, 7, 8, 9, 10]\n",
      "[0, 5, 7, 9]\n",
      "[10, 9, 8, 7, 6, 5, 4, 0]\n",
      "[10, 9, 8, 7, 6, 5, 4, 0]\n"
     ]
    }
   ],
   "source": [
    "# a[start:stop:step], default step is 1\n",
    "a = [1, 2, 3, 4, 5, 6, 7, 8, 9, 10]\n",
    "b = a[1:3] # Note that the last index is not included\n",
    "print(b)\n",
    "b = a[2:] # until the end\n",
    "print(b)\n",
    "b = a[:3] # from beginning\n",
    "print(b)\n",
    "a[0:3] = [0] # replace sub-parts, you need an iterable here\n",
    "print(a)\n",
    "b = a[::2] # start to end with every second item\n",
    "print(b)\n",
    "a = a[::-1] # reverse the list with a negative step:\n",
    "print(a)\n",
    "b = a[:] # copy a list with slicing\n",
    "print(b)"
   ]
  },
  {
   "cell_type": "markdown",
   "id": "1107914e-fcc3-41d5-bfd9-1aca30fc22af",
   "metadata": {},
   "source": [
    "#### List comprehension\n",
    "A elegant and fast way to create a new list from an existing list.\n",
    "\n",
    "List comprehension consists of an expression followed by a for statement inside square brackets."
   ]
  },
  {
   "cell_type": "code",
   "execution_count": 15,
   "id": "a9a96ddb-f989-4400-bb26-fa3bc8cf62ce",
   "metadata": {},
   "outputs": [
    {
     "name": "stdout",
     "output_type": "stream",
     "text": [
      "[1, 4, 9, 16, 25, 36, 49, 64]\n"
     ]
    }
   ],
   "source": [
    "a = [1, 2, 3, 4, 5, 6, 7, 8]\n",
    "b = [i * i for i in a] # squares each element\n",
    "print(b)"
   ]
  },
  {
   "cell_type": "markdown",
   "id": "3cf4a5a9-a528-4794-a86a-c9ac5b89b20c",
   "metadata": {},
   "source": [
    "### Some exercises using list comprehension"
   ]
  },
  {
   "cell_type": "code",
   "execution_count": 21,
   "id": "19353ef6-a551-4759-9ebf-a57c0ed5afc7",
   "metadata": {},
   "outputs": [
    {
     "name": "stdout",
     "output_type": "stream",
     "text": [
      "['odd', 'even', 'odd', 'even', 'odd', 'even', 'odd', 'even']\n"
     ]
    }
   ],
   "source": [
    "a = [1, 2, 3, 4, 5, 6, 7, 8]\n",
    "\n",
    "b = [\"even\" if i % 2 == 0 else \"odd\" for i in a] # checks if a no is even or odd\n",
    "\n",
    "print(b)"
   ]
  },
  {
   "cell_type": "code",
   "execution_count": 22,
   "id": "55db9e4c-8ec6-4362-bebf-b8ceb9ad689b",
   "metadata": {},
   "outputs": [
    {
     "name": "stdout",
     "output_type": "stream",
     "text": [
      "[1, 8, 27, 64, 125]\n"
     ]
    }
   ],
   "source": [
    "a = [1, 2, 3, 4, 5]\n",
    "\n",
    "b = [i ** 3 for i in a]  # cube of each element\n",
    "\n",
    "print(b)"
   ]
  },
  {
   "cell_type": "code",
   "execution_count": 23,
   "id": "e7e82ebc-8f54-4205-890a-50a5e2ab22c0",
   "metadata": {},
   "outputs": [
    {
     "name": "stdout",
     "output_type": "stream",
     "text": [
      "['positive', 'negative', 'zero', 'positive', 'negative']\n"
     ]
    }
   ],
   "source": [
    "# replace numbers with \"positiver\", \"negative\" or \"zero\"\n",
    "a = [4, -3, 0, 7, -1]\n",
    "\n",
    "b = [\"positive\" if i > 0 else \"negative\" if i < 0 else \"zero\" for i in a]\n",
    "\n",
    "print(b)"
   ]
  },
  {
   "cell_type": "code",
   "execution_count": 24,
   "id": "474319e4-b879-4dd8-9f8e-ee3e9dc8260f",
   "metadata": {},
   "outputs": [
    {
     "name": "stdout",
     "output_type": "stream",
     "text": [
      "[2, 4, 6]\n"
     ]
    }
   ],
   "source": [
    "# Get only even numbers (filtering)\n",
    "a = [1, 2, 3, 4, 5, 6]\n",
    "\n",
    "b = [i for i in a if i % 2 == 0]  # keep only evens\n",
    "\n",
    "print(b)"
   ]
  },
  {
   "cell_type": "code",
   "execution_count": 25,
   "id": "7a83e59f-bde4-46c0-bc1d-e8868de5e970",
   "metadata": {},
   "outputs": [
    {
     "name": "stdout",
     "output_type": "stream",
     "text": [
      "[1, 9, 25]\n"
     ]
    }
   ],
   "source": [
    "# Convert numbers to their squares only if they’re odd\n",
    "a = [1, 2, 3, 4, 5, 6]\n",
    "\n",
    "b = [i ** 2 for i in a if i % 2 != 0]\n",
    "\n",
    "print(b)"
   ]
  },
  {
   "cell_type": "code",
   "execution_count": 26,
   "id": "f6b5fd3d-ac16-4566-bea2-30a9c1ce18dd",
   "metadata": {},
   "outputs": [
    {
     "name": "stdout",
     "output_type": "stream",
     "text": [
      "['APPLE', 'BANANA', 'CHERRY']\n"
     ]
    }
   ],
   "source": [
    "# convert words to uppercase\n",
    "words = [\"apple\", \"banana\", \"cherry\"]\n",
    "\n",
    "b = [w.upper() for w in words]\n",
    "\n",
    "print(b)\n"
   ]
  },
  {
   "cell_type": "markdown",
   "id": "9268c07d-ed88-490f-9ebc-655042d1d0ed",
   "metadata": {},
   "source": [
    "#### Nested lists\n",
    "Lists can contain other lists (or other container types)"
   ]
  },
  {
   "cell_type": "code",
   "execution_count": 27,
   "id": "e2d85b46-e4ae-429a-9205-b48618160517",
   "metadata": {},
   "outputs": [
    {
     "name": "stdout",
     "output_type": "stream",
     "text": [
      "[[1, 2], [3, 4]]\n",
      "[1, 2]\n"
     ]
    }
   ],
   "source": [
    "a = [[1, 2], [3, 4]]\n",
    "print(a)\n",
    "print(a[0])"
   ]
  }
 ],
 "metadata": {
  "kernelspec": {
   "display_name": "Python 3 (ipykernel)",
   "language": "python",
   "name": "python3"
  },
  "language_info": {
   "codemirror_mode": {
    "name": "ipython",
    "version": 3
   },
   "file_extension": ".py",
   "mimetype": "text/x-python",
   "name": "python",
   "nbconvert_exporter": "python",
   "pygments_lexer": "ipython3",
   "version": "3.13.5"
  }
 },
 "nbformat": 4,
 "nbformat_minor": 5
}
