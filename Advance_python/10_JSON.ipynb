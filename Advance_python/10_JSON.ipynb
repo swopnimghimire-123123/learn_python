{
 "cells": [
  {
   "cell_type": "markdown",
   "id": "14c4600a-bec4-4658-9156-59cccb7412f8",
   "metadata": {},
   "source": [
    "# JSON Overview\n",
    "\n",
    "- JSON = JavaScript Object Notation.\n",
    "\n",
    "- A lightweight format to store and exchange structured data.\n",
    "\n",
    "- Easy to read/write for humans and machines."
   ]
  },
  {
   "cell_type": "markdown",
   "id": "724272e2-1d08-43d3-9753-8352c4f4b888",
   "metadata": {},
   "source": [
    "1. APIs → JSON is the most common format for data exchange.\n",
    "                                        \n",
    "2. Configuration files → e.g., storing parameters for ML models.\n",
    "\n",
    "3. Datasets → some datasets come in JSON format (nested or flat).\n",
    "\n",
    "4. Logging & Pipelines → JSON makes logs easy to parse and analyze.\n",
    "\n",
    "5. ML pipelines → exchanging model input/output in JSON is common."
   ]
  },
  {
   "cell_type": "code",
   "execution_count": null,
   "id": "93d9db1d-aa6d-4559-a406-62c1d4cd6bf9",
   "metadata": {},
   "outputs": [],
   "source": [
    "# use case of json in data scinece \n",
    "import requests\n",
    "response = requests.get(\"https://api.example.com/data\")\n",
    "data = response.json()"
   ]
  },
  {
   "cell_type": "markdown",
   "id": "e190e9ef-17d5-446e-9ae0-6a3581cd515a",
   "metadata": {},
   "source": [
    "### 1️⃣ json.load()\n",
    "\n",
    "- Purpose: Load JSON data from a file and convert it into a Python object (usually a dict or list).\n",
    "  \n",
    "### 2️⃣ json.loads()\n",
    "\n",
    "- Purpose: Load JSON data from a string and convert it into a Python object.\n",
    "\n",
    "### 3️⃣ json.dump()\n",
    "\n",
    "- Purpose: Write a Python object to a file as JSON.\n",
    "\n",
    "### 4️⃣ json.dumps()\n",
    "\n",
    "- Purpose: Convert a Python object to a JSON string (does not write to file)."
   ]
  },
  {
   "cell_type": "code",
   "execution_count": 2,
   "id": "a1fb333a-6303-43c4-a1cf-89e17302e73b",
   "metadata": {},
   "outputs": [
    {
     "name": "stdout",
     "output_type": "stream",
     "text": [
      "{\"name\": \"ram\", \"age\": 23, \"skills\": [\"python\", \"ds\"]}\n",
      "['python', 'ds']\n"
     ]
    }
   ],
   "source": [
    "# Quick pyhton example\n",
    "import json \n",
    "\n",
    "# python dict\n",
    "student = {\"name\":\"ram\",\"age\":23,\"skills\":[\"python\",\"ds\"]}\n",
    "\n",
    "# convert to json string\n",
    "json_str = json.dumps(student)\n",
    "print(json_str) # {\"name\": \"Alice\", \"age\": 23, \"skills\": [\"Python\", \"DS\"]}\n",
    "\n",
    "# Convert back to Python dict\n",
    "student_dict = json.loads(json_str)\n",
    "print(student_dict[\"skills\"])  # ['Python', 'DS']"
   ]
  },
  {
   "cell_type": "code",
   "execution_count": 7,
   "id": "e9b812e1-65fb-4342-88f6-bc4ab1ca4c7c",
   "metadata": {},
   "outputs": [],
   "source": [
    "import json\n",
    "\n",
    "data = {\"name\": \"Alice\", \"age\": 23, \"skills\": [\"Python\", \"DS\"]}\n",
    "\n",
    "with open(\"output.json\", \"w\") as f:\n",
    "    json.dump(data, f, indent=4)  # indent=4 makes it readable\n",
    "\n",
    "# output.json now has the JSON representation of `data`"
   ]
  },
  {
   "cell_type": "code",
   "execution_count": null,
   "id": "d90c50ff-6b51-4686-95c4-d080cf4052bc",
   "metadata": {},
   "outputs": [],
   "source": [
    "### First, create a JSON file called data.json with this content:\n",
    "{\n",
    "    \"name\": \"Bob\",\n",
    "    \"age\": 30,\n",
    "    \"hobbies\": [\"gaming\", \"cycling\"]\n",
    "}"
   ]
  },
  {
   "cell_type": "code",
   "execution_count": null,
   "id": "4ccaa254-2f82-4b3f-9e22-ce7ac4d2f16f",
   "metadata": {},
   "outputs": [],
   "source": [
    "import json\n",
    "\n",
    "# Load JSON data from file\n",
    "with open(\"data.json\", \"r\") as f:\n",
    "    data = json.load(f)\n",
    "print(\"output:\")\n",
    "print(\"Loaded data from file:\", data)\n",
    "print(\"Name:\", data[\"name\"])\n",
    "print(\"Hobbies:\", data[\"hobbies\"])"
   ]
  },
  {
   "cell_type": "code",
   "execution_count": null,
   "id": "c93acae3-c368-46c5-acb4-87d53d908631",
   "metadata": {},
   "outputs": [],
   "source": [
    "output:\n",
    "Loaded data from file: {'name': 'Bob', 'age': 30, 'hobbies': ['gaming', 'cycling']}\n",
    "Name: Bob\n",
    "Hobbies: ['gaming', 'cycling']"
   ]
  },
  {
   "cell_type": "markdown",
   "id": "2edf3397-e969-4529-b29d-da3b526bcc85",
   "metadata": {},
   "source": [
    "### Reading and writing json files\n",
    "\n",
    "- Read/write JSON files for datasets, configurations, or model metadata."
   ]
  },
  {
   "cell_type": "code",
   "execution_count": null,
   "id": "45df7c23-b9ba-4b4e-90e0-4ee3bb2eacd3",
   "metadata": {},
   "outputs": [],
   "source": [
    "# writing to a file \n",
    "with open(\"data.json\",\"w\") as f:\n",
    "    json.dump(data,f)\n",
    "\n",
    "# Reading from a file\n",
    "with open(\"data.json\") as f:\n",
    "    data_loaded = json.load(f)"
   ]
  },
  {
   "cell_type": "markdown",
   "id": "72d13dd9-a92e-49fa-9a9f-b5dedb286fb6",
   "metadata": {},
   "source": [
    "### Handling Nested JSON\n",
    "\n",
    "- Real-world JSON is often nested (lists inside dicts, dicts inside dicts)."
   ]
  },
  {
   "cell_type": "code",
   "execution_count": 13,
   "id": "98ac6973-f3f8-4fad-9a4e-34855137e85b",
   "metadata": {},
   "outputs": [
    {
     "name": "stdout",
     "output_type": "stream",
     "text": [
      "24\n"
     ]
    }
   ],
   "source": [
    "json_data = {\"user\": {\"name\":\"alice\", \"details\":{\"age\":24, \"city\":\"kathmandu\"}}}\n",
    "age = json_data[\"user\"][\"details\"][\"age\"]\n",
    "print(age)"
   ]
  },
  {
   "cell_type": "markdown",
   "id": "6b37e982-471f-45db-b2b7-5daf010c48a2",
   "metadata": {},
   "source": [
    "### Custom Objects Serialization\n",
    "\n",
    "- Python objects like datetime, complex, or custom classes are not JSON-serializable by default."
   ]
  },
  {
   "cell_type": "code",
   "execution_count": 16,
   "id": "8a08221b-3183-4939-9935-90042f3a92f4",
   "metadata": {},
   "outputs": [
    {
     "name": "stdout",
     "output_type": "stream",
     "text": [
      "{\"complex\": true, \"real\": 5.0, \"imag\": 9.0}\n"
     ]
    }
   ],
   "source": [
    "from json import JSONEncoder\n",
    "\n",
    "class ComplexEncoder(JSONEncoder):\n",
    "    def default(self,o):\n",
    "        if isinstance(o, complex):\n",
    "            return{\"complex\":True, \"real\":o.real, \"imag\":o.imag}\n",
    "        return super().default(o)\n",
    "import json \n",
    "z = 5 + 9j\n",
    "json_str = json.dumps(z, cls=ComplexEncoder)\n",
    "print(json_str)"
   ]
  },
  {
   "cell_type": "markdown",
   "id": "26f1246c-9791-455e-8186-3661126d99c8",
   "metadata": {},
   "source": [
    "### Working with Lists of JSON Objects\n",
    "\n",
    "- APIs often return lists of JSON objects. Learn to iterate, filter, and extract data:"
   ]
  },
  {
   "cell_type": "code",
   "execution_count": 17,
   "id": "e9951e31-edb5-4082-a2ef-98271e802bc3",
   "metadata": {},
   "outputs": [
    {
     "name": "stdout",
     "output_type": "stream",
     "text": [
      "[25, 30]\n"
     ]
    }
   ],
   "source": [
    "data = [\n",
    "    {\"name\": \"Alice\", \"age\": 25},\n",
    "    {\"name\": \"Bob\", \"age\": 30}\n",
    "]\n",
    "\n",
    "ages = [item[\"age\"] for item in data]\n",
    "print(ages)"
   ]
  },
  {
   "cell_type": "code",
   "execution_count": null,
   "id": "bedfba47-d699-4af9-8871-214a55cc1793",
   "metadata": {},
   "outputs": [],
   "source": [
    "# These are just some basics of json and honestly i think i should explore it in more depth so, i might upload another part called json-2 anyways keep learning."
   ]
  }
 ],
 "metadata": {
  "kernelspec": {
   "display_name": "Python 3 (ipykernel)",
   "language": "python",
   "name": "python3"
  },
  "language_info": {
   "codemirror_mode": {
    "name": "ipython",
    "version": 3
   },
   "file_extension": ".py",
   "mimetype": "text/x-python",
   "name": "python",
   "nbconvert_exporter": "python",
   "pygments_lexer": "ipython3",
   "version": "3.13.5"
  }
 },
 "nbformat": 4,
 "nbformat_minor": 5
}
