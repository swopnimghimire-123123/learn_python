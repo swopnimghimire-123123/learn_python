{
 "cells": [
  {
   "cell_type": "markdown",
   "id": "2f3eddb9-b711-47df-8287-df8ccbb9eefe",
   "metadata": {},
   "source": [
    "# Dictionaries\n",
    "A dictionary is a collection which is unordered, changeable and indexed. A dictionary consists of a collection of key-value pairs. Each key-value pair maps the key to its associated value. A dictionary is written in braces. Each key is separated from its value by a colon (:), and the items are separated by commas.\n",
    "\n",
    "my_dict = {\"name\":\"ram\", \"age\":15, \"city\":\"kathmandu\"}\n",
    "\n",
    "### Create a dictionary\n",
    "Create a dictionary with braces, or with the built-in dict funtion."
   ]
  },
  {
   "cell_type": "code",
   "execution_count": 1,
   "id": "882d6339-3871-4c45-8a5d-ec017057984b",
   "metadata": {},
   "outputs": [
    {
     "name": "stdout",
     "output_type": "stream",
     "text": [
      "{'name': 'ram', 'age': 15, 'city': 'kathmandu'}\n",
      "{'name': 'hari', 'age': 17, 'city': 'lalitpur'}\n"
     ]
    }
   ],
   "source": [
    "my_dict = {\"name\":\"ram\", \"age\":15, \"city\":\"kathmandu\"}\n",
    "print(my_dict)\n",
    "\n",
    "# or use the dict constructor, note: no quotes necessary for keys\n",
    "my_dict_2 = dict(name=\"hari\", age=17, city=\"lalitpur\")\n",
    "print(my_dict_2)"
   ]
  },
  {
   "cell_type": "code",
   "execution_count": null,
   "id": "f34d38dc-f8d4-4051-beee-563608af85d6",
   "metadata": {},
   "outputs": [],
   "source": [
    "### Access items"
   ]
  },
  {
   "cell_type": "code",
   "execution_count": 3,
   "id": "e865b14d-8d4b-4e85-ba4d-496365e752dc",
   "metadata": {},
   "outputs": [
    {
     "name": "stdout",
     "output_type": "stream",
     "text": [
      "ram\n"
     ]
    }
   ],
   "source": [
    "name_in_dict = my_dict[\"name\"]\n",
    "print(name_in_dict)\n",
    "\n",
    "# KeyError if no key is found"
   ]
  },
  {
   "cell_type": "code",
   "execution_count": null,
   "id": "bcf833a6-ae50-4cda-a650-07c7f4669c9d",
   "metadata": {},
   "outputs": [],
   "source": [
    "### Add and change items\n",
    "Simply add or access a key and asign the value."
   ]
  },
  {
   "cell_type": "code",
   "execution_count": 11,
   "id": "78b70b4c-e0c4-40b7-bdfc-57e23aa0ddb7",
   "metadata": {},
   "outputs": [
    {
     "name": "stdout",
     "output_type": "stream",
     "text": [
      "{'name': 'Mahesh', 'age': 15, 'city': 'kathmandu', 'email': 'ram@123gmail.com', ('age', 'city'): [34, 'pokhara']}\n",
      "{'name': 'Mahesh', 'age': 15, 'city': 'kathmandu', 'email': 'ram@123gmail.com', ('age', 'city'): [34, 'pokhara']}\n"
     ]
    }
   ],
   "source": [
    "# add a new key\n",
    "my_dict[\"email\"] = \"ram@123gmail.com\"\n",
    "print(my_dict)\n",
    "\n",
    "# or overwrite the current existing key\n",
    "my_dict[\"name\"] = \"Mahesh\"\n",
    "print(my_dict)"
   ]
  },
  {
   "cell_type": "code",
   "execution_count": null,
   "id": "641377ad-a793-4a18-953c-40b652e09ff6",
   "metadata": {},
   "outputs": [],
   "source": [
    "### Deleting items"
   ]
  },
  {
   "cell_type": "code",
   "execution_count": 12,
   "id": "3fe39e5d-0e97-4756-8dd2-7e3d3841e649",
   "metadata": {},
   "outputs": [
    {
     "name": "stdout",
     "output_type": "stream",
     "text": [
      "popped value: 15\n",
      "popped item: (('age', 'city'), [34, 'pokhara'])\n",
      "{'name': 'Mahesh', 'city': 'kathmandu'}\n"
     ]
    }
   ],
   "source": [
    "# delete a key-value pair\n",
    "del my_dict[\"email\"]\n",
    "\n",
    "# this returns the value and removes the key-value pair\n",
    "print(\"popped value:\", my_dict.pop(\"age\"))\n",
    "\n",
    "# return and removes the last inserted key-value pair \n",
    "# (in versions before Python 3.7 it removes an arbitrary pair)\n",
    "print(\"popped item:\", my_dict.popitem())\n",
    "\n",
    "print(my_dict)\n",
    "\n",
    "# clear() : remove all pairs\n",
    "# my_dict.clear()"
   ]
  },
  {
   "cell_type": "code",
   "execution_count": null,
   "id": "1e86f273-a28a-4c61-bab4-802321a07c29",
   "metadata": {},
   "outputs": [],
   "source": [
    "### Check for keys"
   ]
  },
  {
   "cell_type": "code",
   "execution_count": 13,
   "id": "26662d43-08f6-40b7-be96-97e4a5b0b89a",
   "metadata": {},
   "outputs": [
    {
     "name": "stdout",
     "output_type": "stream",
     "text": [
      "Max\n",
      "No key found\n"
     ]
    }
   ],
   "source": [
    "\n",
    "my_dict = {\"name\":\"Max\", \"age\":28, \"city\":\"New York\"}\n",
    "# use if .. in ..\n",
    "if \"name\" in my_dict:\n",
    "    print(my_dict[\"name\"])\n",
    "\n",
    "# use try except\n",
    "try:\n",
    "    print(my_dict[\"firstname\"])\n",
    "except KeyError:\n",
    "    print(\"No key found\")"
   ]
  },
  {
   "cell_type": "code",
   "execution_count": null,
   "id": "29faf250-6017-4ac2-bb6a-3c552831e48e",
   "metadata": {},
   "outputs": [],
   "source": [
    "### Looping throught dictionary"
   ]
  },
  {
   "cell_type": "code",
   "execution_count": 25,
   "id": "8dca0925-842d-4de8-9595-996249d2d2dd",
   "metadata": {},
   "outputs": [
    {
     "name": "stdout",
     "output_type": "stream",
     "text": [
      "name Max\n",
      "age 28\n",
      "city New York\n",
      "\n",
      "\n",
      "name\n",
      "age\n",
      "city\n",
      "\n",
      "\n",
      "name\n",
      "age\n",
      "city\n",
      "\n",
      "\n",
      "Max\n",
      "28\n",
      "New York\n",
      "\n",
      "\n",
      "name Max\n",
      "age 28\n",
      "city New York\n"
     ]
    }
   ],
   "source": [
    "# loop over keys\n",
    "for key in my_dict:\n",
    "    print(key,my_dict[key])\n",
    "    \n",
    "print(\"\\n\")\n",
    "\n",
    "# loop over keys\n",
    "for key in my_dict.keys():\n",
    "    print(key)\n",
    "    \n",
    "print(\"\\n\")\n",
    "\n",
    "# Or you can just simply do \n",
    "for key in my_dict:\n",
    "    print(key)\n",
    "    \n",
    "print(\"\\n\")\n",
    "\n",
    "# loop over values\n",
    "for value in my_dict.values():\n",
    "    print(value)\n",
    "\n",
    "print(\"\\n\")\n",
    "\n",
    "# loop over keys and values\n",
    "for key, value in my_dict.items():\n",
    "    print(key, value)"
   ]
  },
  {
   "cell_type": "code",
   "execution_count": null,
   "id": "22bd65a2-44f3-4108-b30a-3ff4f373903d",
   "metadata": {},
   "outputs": [],
   "source": [
    "#### Copy a dictionary\n",
    "Be careful when copying references."
   ]
  },
  {
   "cell_type": "code",
   "execution_count": 27,
   "id": "4dd63f62-00b1-429f-9040-3f734cb82879",
   "metadata": {},
   "outputs": [
    {
     "name": "stdout",
     "output_type": "stream",
     "text": [
      "{'name': 'Lisa', 'age': 15, 'city': 'Kathmandu'}\n",
      "{'name': 'Lisa', 'age': 15, 'city': 'Kathmandu'}\n",
      "{'name': 'Mahendraxyz', 'age': 15, 'city': 'kathmandu'}\n",
      "{'name': 'ram', 'age': 15, 'city': 'kathmandu'}\n"
     ]
    }
   ],
   "source": [
    "dict_org = {\"name\":\"ram\", \"age\":15, \"city\":\"Kathmandu\"}\n",
    "\n",
    "# this just copies the reference to the dict, so be careful\n",
    "dict_copy = dict_org\n",
    "\n",
    "# now modifying the copy also affects the original\n",
    "dict_copy[\"name\"] = \"Lisa\"\n",
    "print(dict_copy)\n",
    "print(dict_org)\n",
    "\n",
    "# use copy(), or dict(x) to actually copy the dict\n",
    "dict_org = {\"name\":\"ram\", \"age\":15, \"city\":\"kathmandu\"}\n",
    "\n",
    "dict_copy = dict_org.copy()\n",
    "# dict_copy = dict(dict_org)\n",
    "\n",
    "# now modifying the copy does not affect the original\n",
    "dict_copy[\"name\"] = \"Mahendraxyz\"\n",
    "print(dict_copy)\n",
    "print(dict_org)"
   ]
  },
  {
   "cell_type": "code",
   "execution_count": 28,
   "id": "3712104f-abe2-46a3-aa76-1f432f327809",
   "metadata": {},
   "outputs": [],
   "source": [
    "### Merge two dictionaries"
   ]
  },
  {
   "cell_type": "code",
   "execution_count": 38,
   "id": "d4be24a0-0cd6-4ab3-b6df-937a382553d2",
   "metadata": {},
   "outputs": [
    {
     "name": "stdout",
     "output_type": "stream",
     "text": [
      "{'name': 'Lisa', 'age': 27, 'email': 'max@xyz.com', 'city': 'Boston'}\n"
     ]
    }
   ],
   "source": [
    "# Use the update() method to merge 2 dicts\n",
    "# existing keys are overwritten, new keys are added\n",
    "my_dict = {\"name\":\"Max\", \"age\":28, \"email\":\"max@xyz.com\"}\n",
    "my_dict_2 = dict(name=\"Lisa\", age=27, city=\"Boston\")\n",
    "\n",
    "my_dict.update(my_dict_2)\n",
    "print(my_dict)"
   ]
  },
  {
   "cell_type": "markdown",
   "id": "592b1fe5-3d7c-499e-a3ea-ed92c62fe41b",
   "metadata": {},
   "source": [
    "#### Possible key types\n",
    "Any immutable type, like strings or numbers can be used as a key. Also, a tuple can be used if it contains only immutable elements."
   ]
  },
  {
   "cell_type": "code",
   "execution_count": 39,
   "id": "e7c1ba20-6841-4be3-b009-09a618e79902",
   "metadata": {},
   "outputs": [
    {
     "name": "stdout",
     "output_type": "stream",
     "text": [
      "9 39 81\n",
      "15\n"
     ]
    }
   ],
   "source": [
    "# use numbers as key, but be careful\n",
    "my_dict = {3:9, 6:39, 9:81}\n",
    "# do not mistake the key as indices of a list , e.g my_dict[0] is not possible here\n",
    "print(my_dict[3], my_dict[6], my_dict[9])\n",
    "\n",
    "# use a tuple with immutable element (e.g number , string)\n",
    "my_tuple = (8, 7)\n",
    "my_dict = {my_tuple: 15}\n",
    "\n",
    "print(my_dict[my_tuple])\n",
    "# print(my_dict[8, 7])\n",
    "\n",
    "# a list is not possible because it is not immutable\n",
    "# this will raise an Error:\n",
    "# my_list = [8, 7]\n",
    "# my_dict = {my_list: 15}"
   ]
  },
  {
   "cell_type": "code",
   "execution_count": null,
   "id": "a4af073d-4dbc-4a4a-bac2-a49a3ea391f6",
   "metadata": {},
   "outputs": [],
   "source": [
    "### Nested dictionaries\n",
    "The values can also be container types (e.g. lists, tuples, dictionaries)."
   ]
  },
  {
   "cell_type": "code",
   "execution_count": 40,
   "id": "e258521b-bce0-4a22-ae03-ee3f19973289",
   "metadata": {},
   "outputs": [
    {
     "name": "stdout",
     "output_type": "stream",
     "text": [
      "{'dictA': {'name': 'Max', 'age': 28}, 'dictB': {'name': 'Alex', 'age': 25}}\n"
     ]
    }
   ],
   "source": [
    "my_dict_1 = {\"name\": \"Max\", \"age\": 28}\n",
    "my_dict_2 = {\"name\": \"Alex\", \"age\": 25}\n",
    "nested_dict = {\"dictA\": my_dict_1,\n",
    "               \"dictB\": my_dict_2}\n",
    "print(nested_dict)"
   ]
  }
 ],
 "metadata": {
  "kernelspec": {
   "display_name": "Python 3 (ipykernel)",
   "language": "python",
   "name": "python3"
  },
  "language_info": {
   "codemirror_mode": {
    "name": "ipython",
    "version": 3
   },
   "file_extension": ".py",
   "mimetype": "text/x-python",
   "name": "python",
   "nbconvert_exporter": "python",
   "pygments_lexer": "ipython3",
   "version": "3.13.5"
  }
 },
 "nbformat": 4,
 "nbformat_minor": 5
}
