{
 "cells": [
  {
   "cell_type": "markdown",
   "id": "f5f87c14-665d-4013-98df-15e9d734e78b",
   "metadata": {},
   "source": [
    "### In this segment we'll leran about functions in python"
   ]
  },
  {
   "cell_type": "code",
   "execution_count": 1,
   "id": "6408b797-4322-4803-ae42-ed4e8506aaed",
   "metadata": {},
   "outputs": [],
   "source": [
    "#functions are reusable pieces of program\n",
    "def hey():\n",
    "    print(\"knock knock knock\")"
   ]
  },
  {
   "cell_type": "code",
   "execution_count": 59,
   "id": "ec937507-6f15-4e06-ae68-a9cac375c583",
   "metadata": {},
   "outputs": [
    {
     "name": "stdout",
     "output_type": "stream",
     "text": [
      "knock knock knock\n"
     ]
    }
   ],
   "source": [
    "hey()"
   ]
  },
  {
   "cell_type": "code",
   "execution_count": 61,
   "id": "57254dea-5f1b-4baa-8572-b095d773b83d",
   "metadata": {},
   "outputs": [
    {
     "name": "stdout",
     "output_type": "stream",
     "text": [
      "knock knock knock harry\n",
      "knock knock knock harry\n",
      "knock knock knock harry\n",
      "knock knock knock harry\n",
      "knock knock knock harry\n"
     ]
    }
   ],
   "source": [
    "def knock(name,count):\n",
    "    for i in range(count):\n",
    "        print(\"knock knock knock {}\".format(name))\n",
    "knock(\"harry\",5)"
   ]
  },
  {
   "cell_type": "code",
   "execution_count": 2,
   "id": "ef98db53-068e-4a7d-bbf8-763770ce86a2",
   "metadata": {},
   "outputs": [
    {
     "name": "stdout",
     "output_type": "stream",
     "text": [
      "knock knock knock ram\n",
      "knock knock knock ram\n",
      "knock knock knock ram\n"
     ]
    }
   ],
   "source": [
    "\"\"\" If the user doesn’t specify how many times they want the code to repeat,\n",
    "    it should run 3 times by default. But if they do specify, then it should\n",
    "    run n times (based on their input). Here’s how we can implement this:\"\"\"\n",
    "def knock(name,count=3):\n",
    "    for i in range(count):\n",
    "        print(\"knock knock knock {}\".format(name)) # imp: it's format not formate\n",
    "knock(\"ram\")"
   ]
  },
  {
   "cell_type": "code",
   "execution_count": 69,
   "id": "07f55637-de30-4804-855b-12508db6125c",
   "metadata": {},
   "outputs": [
    {
     "name": "stdout",
     "output_type": "stream",
     "text": [
      "knock knock knock ram\n",
      "knock knock knock ram\n",
      "knock knock knock ram\n",
      "knock knock knock ram\n",
      "knock knock knock ram\n"
     ]
    }
   ],
   "source": [
    "def knock(name,count=3):\n",
    "    for i in range(count):\n",
    "        print(\"knock knock knock {}\".format(name)) # imp: it's format not formate\n",
    "knock(\"ram\",5)"
   ]
  },
  {
   "cell_type": "code",
   "execution_count": 70,
   "id": "0c274fb6-5e19-4c61-8cc6-0533f360a7b0",
   "metadata": {},
   "outputs": [
    {
     "name": "stdout",
     "output_type": "stream",
     "text": [
      "8\n"
     ]
    }
   ],
   "source": [
    "def add(a,b):\n",
    "    return a+b\n",
    "x=add(3,5)\n",
    "print(x)"
   ]
  },
  {
   "cell_type": "code",
   "execution_count": 4,
   "id": "51576c9a-359b-432b-8237-b628065f7ded",
   "metadata": {},
   "outputs": [
    {
     "name": "stdout",
     "output_type": "stream",
     "text": [
      "wrapping up\n",
      "3.0\n"
     ]
    }
   ],
   "source": [
    "# Inside a function, the finally block will always execute — even if a return statement is encountered earlier.\n",
    "\n",
    "def div(a, b):\n",
    "    try:\n",
    "        return a / b\n",
    "    except:\n",
    "        print(\"error\")\n",
    "    finally:\n",
    "        print(\"wrapping up\")\n",
    "\n",
    "print(div(6, 2))\n",
    "\n",
    "# wrapping up is printed first because the return value isn’t actually sent back until the entire try-except-finally block finishes executing."
   ]
  },
  {
   "cell_type": "code",
   "execution_count": 73,
   "id": "c2359d71-b2c4-49f2-a520-35d7be393393",
   "metadata": {},
   "outputs": [
    {
     "name": "stdout",
     "output_type": "stream",
     "text": [
      "error\n",
      "wrapping up\n"
     ]
    }
   ],
   "source": [
    "def div(a,b):\n",
    "    try:\n",
    "        return a/b\n",
    "    except:\n",
    "        print(\"error\")\n",
    "    finally:\n",
    "        print(\"wrapping up\")\n",
    "div(6,0)"
   ]
  },
  {
   "cell_type": "code",
   "execution_count": 5,
   "id": "52eeb447-611e-46c2-9913-2870d7630154",
   "metadata": {},
   "outputs": [
    {
     "name": "stdout",
     "output_type": "stream",
     "text": [
      "3.0\n",
      "wrapping up\n"
     ]
    }
   ],
   "source": [
    "def div(a, b):\n",
    "    try:\n",
    "        # Printing and returning are different\n",
    "        print(a / b)\n",
    "        \"\"\"\n",
    "        If you return the value, it will be shown after the 'finally' block executes.\n",
    "        But if you print the value, it appears immediately before 'finally' runs.\n",
    "        Keep this distinction in mind!\n",
    "        \"\"\"\n",
    "    except:\n",
    "        print(\"error\")\n",
    "    finally:\n",
    "        print(\"wrapping up\")\n",
    "\n",
    "div(6, 2)\n"
   ]
  },
  {
   "cell_type": "markdown",
   "id": "15a0302b-808d-4d2c-aadc-c98266aec84f",
   "metadata": {},
   "source": [
    "Local and global variables"
   ]
  },
  {
   "cell_type": "code",
   "execution_count": 6,
   "id": "34943aa5-b038-4a3c-85db-1c2b9d253287",
   "metadata": {},
   "outputs": [
    {
     "name": "stdout",
     "output_type": "stream",
     "text": [
      "3\n",
      "20\n"
     ]
    }
   ],
   "source": [
    "\"\"\"\n",
    "Inside the function, the value of x is 3.\n",
    "Outside the function, the value of x is 20.\n",
    "This happens because the local variable (inside the function) \n",
    "does not affect the global variable (outside the function).\n",
    "\"\"\"\n",
    "\n",
    "x = 20\n",
    "\n",
    "def show():\n",
    "    x = 3   # Local variable\n",
    "    print(x)  # Prints 3 (local scope)\n",
    "\n",
    "show()\n",
    "print(x)  # Prints 20 (global scope)\n"
   ]
  },
  {
   "cell_type": "code",
   "execution_count": 102,
   "id": "d9f5d354-8aa8-47d7-8dd1-8a557be90056",
   "metadata": {},
   "outputs": [
    {
     "ename": "UnboundLocalError",
     "evalue": "cannot access local variable 'x' where it is not associated with a value",
     "output_type": "error",
     "traceback": [
      "\u001b[31m---------------------------------------------------------------------------\u001b[39m",
      "\u001b[31mUnboundLocalError\u001b[39m                         Traceback (most recent call last)",
      "\u001b[36mCell\u001b[39m\u001b[36m \u001b[39m\u001b[32mIn[102]\u001b[39m\u001b[32m, line 8\u001b[39m\n\u001b[32m      6\u001b[39m     x+=\u001b[32m5\u001b[39m\n\u001b[32m      7\u001b[39m     \u001b[38;5;28mprint\u001b[39m(x)\n\u001b[32m----> \u001b[39m\u001b[32m8\u001b[39m \u001b[43mshow\u001b[49m\u001b[43m(\u001b[49m\u001b[43m)\u001b[49m\n",
      "\u001b[36mCell\u001b[39m\u001b[36m \u001b[39m\u001b[32mIn[102]\u001b[39m\u001b[32m, line 6\u001b[39m, in \u001b[36mshow\u001b[39m\u001b[34m()\u001b[39m\n\u001b[32m      5\u001b[39m \u001b[38;5;28;01mdef\u001b[39;00m\u001b[38;5;250m \u001b[39m\u001b[34mshow\u001b[39m():\n\u001b[32m----> \u001b[39m\u001b[32m6\u001b[39m     \u001b[43mx\u001b[49m+=\u001b[32m5\u001b[39m\n\u001b[32m      7\u001b[39m     \u001b[38;5;28mprint\u001b[39m(x)\n",
      "\u001b[31mUnboundLocalError\u001b[39m: cannot access local variable 'x' where it is not associated with a value"
     ]
    }
   ],
   "source": [
    "\"\"\"this is meant to give error the reason being that we can't use the global variable \n",
    "locally inside a funtion without declaring that we'll be using that fucntion inside the \n",
    "local function now in the next row we'll fix it .\"\"\"\n",
    "x=20\n",
    "def show():\n",
    "    x+=5\n",
    "    print(x)\n",
    "show()"
   ]
  },
  {
   "cell_type": "code",
   "execution_count": 105,
   "id": "73c6ef53-aa35-4a00-a504-5fb50faad265",
   "metadata": {},
   "outputs": [
    {
     "name": "stdout",
     "output_type": "stream",
     "text": [
      "25\n",
      "25\n"
     ]
    }
   ],
   "source": [
    "x=20\n",
    "def show():\n",
    "    global x #this is the statement that makes the global varibale local \n",
    "    x+=5\n",
    "    print(x)\n",
    "show()\n",
    "print(x) # now the value of x is changed overally"
   ]
  },
  {
   "cell_type": "code",
   "execution_count": 109,
   "id": "df9f94e4-33a4-496c-9f24-1b3e3eec5be2",
   "metadata": {},
   "outputs": [
    {
     "name": "stdout",
     "output_type": "stream",
     "text": [
      "20\n",
      "local var\n"
     ]
    },
    {
     "ename": "NameError",
     "evalue": "name 'y' is not defined",
     "output_type": "error",
     "traceback": [
      "\u001b[31m---------------------------------------------------------------------------\u001b[39m",
      "\u001b[31mNameError\u001b[39m                                 Traceback (most recent call last)",
      "\u001b[36mCell\u001b[39m\u001b[36m \u001b[39m\u001b[32mIn[109]\u001b[39m\u001b[32m, line 7\u001b[39m\n\u001b[32m      5\u001b[39m     \u001b[38;5;28mprint\u001b[39m(y)\n\u001b[32m      6\u001b[39m show()\n\u001b[32m----> \u001b[39m\u001b[32m7\u001b[39m \u001b[38;5;28mprint\u001b[39m(\u001b[43my\u001b[49m)\n",
      "\u001b[31mNameError\u001b[39m: name 'y' is not defined"
     ]
    }
   ],
   "source": [
    "x=20\n",
    "def show():\n",
    "    y=\"local var\"\n",
    "    print(x)\n",
    "    print(y)\n",
    "show()\n",
    "print(y) # this is meant to give error as the local variable cna't be called outside of the function"
   ]
  },
  {
   "cell_type": "markdown",
   "id": "34808444-305d-40c8-bd18-c398d4f1e1d6",
   "metadata": {},
   "source": [
    "Function inside of a function "
   ]
  },
  {
   "cell_type": "code",
   "execution_count": 143,
   "id": "517b29d4-5cd2-4f82-b6c3-a533c082c874",
   "metadata": {},
   "outputs": [],
   "source": [
    "# enclosures\n",
    "def outer():\n",
    "    b=\"local\"\n",
    "    def inner():\n",
    "        print(b)\n",
    "    inner()"
   ]
  },
  {
   "cell_type": "code",
   "execution_count": 120,
   "id": "9576bbdb-a088-459b-afc6-a29514a2544b",
   "metadata": {},
   "outputs": [
    {
     "ename": "NameError",
     "evalue": "name 'inner' is not defined",
     "output_type": "error",
     "traceback": [
      "\u001b[31m---------------------------------------------------------------------------\u001b[39m",
      "\u001b[31mNameError\u001b[39m                                 Traceback (most recent call last)",
      "\u001b[36mCell\u001b[39m\u001b[36m \u001b[39m\u001b[32mIn[120]\u001b[39m\u001b[32m, line 1\u001b[39m\n\u001b[32m----> \u001b[39m\u001b[32m1\u001b[39m \u001b[43minner\u001b[49m() \u001b[38;5;66;03m# this is meant to give error as x is a global varibale \u001b[39;00m\n",
      "\u001b[31mNameError\u001b[39m: name 'inner' is not defined"
     ]
    }
   ],
   "source": [
    "inner() # this is meant to give error as b is a non-local varibale "
   ]
  },
  {
   "cell_type": "code",
   "execution_count": 121,
   "id": "00aeba6a-12cf-442c-8915-fdf7d308599d",
   "metadata": {},
   "outputs": [],
   "source": [
    "del x"
   ]
  },
  {
   "cell_type": "code",
   "execution_count": 126,
   "id": "4af53eff-5dc8-4595-b6ed-7eba7abbaa1f",
   "metadata": {},
   "outputs": [],
   "source": [
    "def outer():\n",
    "    x=10\n",
    "    def inner():\n",
    "        nonlocal x\n",
    "        x+=4\n",
    "        print(x)\n",
    "    inner()"
   ]
  },
  {
   "cell_type": "code",
   "execution_count": 139,
   "id": "dd4c8577-2dad-4aac-90b5-00838787393f",
   "metadata": {},
   "outputs": [
    {
     "name": "stdout",
     "output_type": "stream",
     "text": [
      "14\n"
     ]
    }
   ],
   "source": [
    "outer()"
   ]
  },
  {
   "cell_type": "markdown",
   "id": "ce0201aa-c819-43d6-a812-23ae2722cd46",
   "metadata": {},
   "source": [
    "### Lambda function is used to execute a function within a single line of code"
   ]
  },
  {
   "cell_type": "code",
   "execution_count": 144,
   "id": "32efe494-3fae-44f9-a3dd-7ee849d58fa3",
   "metadata": {},
   "outputs": [],
   "source": [
    "def add():\n",
    "    return 10+10"
   ]
  },
  {
   "cell_type": "code",
   "execution_count": 146,
   "id": "6c07d153-5e15-424c-a423-e4c15847c108",
   "metadata": {},
   "outputs": [
    {
     "name": "stdout",
     "output_type": "stream",
     "text": [
      "<function add at 0x000001ED168554E0>\n"
     ]
    }
   ],
   "source": [
    "print(add)\n",
    "#everything in python is an object\n",
    "#add here is function object"
   ]
  },
  {
   "cell_type": "code",
   "execution_count": 159,
   "id": "c140ed01-df00-47de-abac-f5b52693028b",
   "metadata": {},
   "outputs": [
    {
     "data": {
      "text/plain": [
       "11"
      ]
     },
     "execution_count": 159,
     "metadata": {},
     "output_type": "execute_result"
    }
   ],
   "source": [
    "# use of lambda function \n",
    "add=lambda a,b:a+b\n",
    "add(5,6)"
   ]
  },
  {
   "cell_type": "code",
   "execution_count": 158,
   "id": "f27477d6-d22b-4a63-91d6-b91fc9370662",
   "metadata": {},
   "outputs": [
    {
     "name": "stdout",
     "output_type": "stream",
     "text": [
      "[5, 3, 6, 5, 42, 32, 11, 11, 2, 4, 6]\n"
     ]
    }
   ],
   "source": [
    "\"\"\" it doesn't affect the real variable you'll be shown the sorted list upon the execution \n",
    "of the sorted(a) but in realtity the variable remains same and it's solution is in the \n",
    "next row\"\"\"\n",
    "a=[5,3,6,5,42,32,11,11,2,4,6]\n",
    "sorted(a)\n",
    "print(a)"
   ]
  },
  {
   "cell_type": "code",
   "execution_count": 157,
   "id": "3a7521a8-415c-4894-9cf6-0ff99470670f",
   "metadata": {},
   "outputs": [
    {
     "name": "stdout",
     "output_type": "stream",
     "text": [
      "[2, 3, 4, 5, 5, 6, 6, 11, 11, 32, 42]\n"
     ]
    }
   ],
   "source": [
    "\"\"\" if you use a.sort() then the real value of the varibale is sorted and upon printing \n",
    "varibale a you'll be shown the shorted list\"\"\"\n",
    "a=[5,3,6,5,42,32,11,11,2,4,6]\n",
    "a.sort()\n",
    "print(a)"
   ]
  },
  {
   "cell_type": "code",
   "execution_count": 164,
   "id": "5afa4c84-ee5f-4f28-b9cc-679949e7fb1f",
   "metadata": {},
   "outputs": [
    {
     "data": {
      "text/plain": [
       "[('ram', 5), ('roshan', 2), ('sagar', 9), ('tiwari', 8)]"
      ]
     },
     "execution_count": 164,
     "metadata": {},
     "output_type": "execute_result"
    }
   ],
   "source": [
    "n=[(\"sagar\",9),(\"tiwari\",8),(\"ram\",5),(\"roshan\",2)]\n",
    "sorted(n)"
   ]
  },
  {
   "cell_type": "code",
   "execution_count": 167,
   "id": "c0e38d57-9aef-4c5b-8118-9b2559e666aa",
   "metadata": {},
   "outputs": [
    {
     "data": {
      "text/plain": [
       "[('roshan', 2), ('ram', 5), ('tiwari', 8), ('sagar', 9)]"
      ]
     },
     "execution_count": 167,
     "metadata": {},
     "output_type": "execute_result"
    }
   ],
   "source": [
    "sorted(n,key=lambda x:x[1]) # sorting dictionary using the key value"
   ]
  },
  {
   "cell_type": "code",
   "execution_count": null,
   "id": "a85ef1ab-7508-415c-8bb8-b832976a0653",
   "metadata": {},
   "outputs": [],
   "source": []
  },
  {
   "cell_type": "code",
   "execution_count": 2,
   "id": "de185f3f-0aef-4f1e-8db5-3c0fa3cfdc01",
   "metadata": {},
   "outputs": [
    {
     "name": "stdout",
     "output_type": "stream",
     "text": [
      "hi\n"
     ]
    }
   ],
   "source": [
    "# we can pass to skip the execution of the function\n",
    "def hey(a,b,c,d=10):\n",
    "    pass\n",
    "print(\"hi\")"
   ]
  },
  {
   "cell_type": "code",
   "execution_count": 7,
   "id": "968e8086-c24e-472c-9328-1f8b6646d239",
   "metadata": {},
   "outputs": [
    {
     "name": "stdout",
     "output_type": "stream",
     "text": [
      "1\n",
      "2\n",
      "hey\n",
      "###\n",
      "hello\n",
      "world\n",
      "python\n"
     ]
    }
   ],
   "source": [
    "\n",
    "def show(a,b,c):\n",
    "    print(a)\n",
    "    print(b)\n",
    "    print(c)\n",
    "show(1,2,\"hey\")\n",
    "print(\"###\")\n",
    "show(\"hello\",\"world\",\"python\")"
   ]
  },
  {
   "cell_type": "markdown",
   "id": "fb1e8475-2a30-40b9-bac9-043bf998906a",
   "metadata": {},
   "source": [
    "keyword arguments"
   ]
  },
  {
   "cell_type": "code",
   "execution_count": 8,
   "id": "f2a12f84-7a53-4352-9dcf-dc8c60960a53",
   "metadata": {},
   "outputs": [
    {
     "name": "stdout",
     "output_type": "stream",
     "text": [
      "python\n",
      "hello\n",
      "world\n"
     ]
    }
   ],
   "source": [
    "show(b=\"hello\",c=\"world\",a=\"python\")"
   ]
  },
  {
   "cell_type": "code",
   "execution_count": 13,
   "id": "eca690ca-7756-48bf-815d-0978847ca347",
   "metadata": {},
   "outputs": [
    {
     "name": "stdout",
     "output_type": "stream",
     "text": [
      "hello\n",
      "world\n",
      "python\n",
      "something\n",
      "swopnim\n"
     ]
    }
   ],
   "source": [
    "def show(a,b,c,d=\"something\",e=\"jdsvbhdsbhb\"):\n",
    "    print(a)\n",
    "    print(b)\n",
    "    print(c)\n",
    "    print(d)\n",
    "    print(e)\n",
    "show(\"hello\",\"world\",\"python\",e=\"swopnim\")"
   ]
  },
  {
   "cell_type": "code",
   "execution_count": 12,
   "id": "e2b4da40-53e9-481b-ad10-3ea78660c4ed",
   "metadata": {},
   "outputs": [
    {
     "name": "stdout",
     "output_type": "stream",
     "text": [
      "swopnim ghimire is a good person\n"
     ]
    }
   ],
   "source": [
    "print(\"swopnim\",\"ghimire\",\"is\",\"a\",\"good\",\"person\")"
   ]
  },
  {
   "cell_type": "code",
   "execution_count": 16,
   "id": "49913795-e43b-4832-83f8-d54eff69cb44",
   "metadata": {},
   "outputs": [
    {
     "name": "stdout",
     "output_type": "stream",
     "text": [
      "(1, 2, 34, 5, 6)\n",
      "(1, 2, 3, 'swopnim')\n"
     ]
    }
   ],
   "source": [
    "\n",
    "#packs all agrguments into tuple and pass it to the function as args\n",
    "def show(*args):\n",
    "    print(args)\n",
    "show(1,2,34,5,6)\n",
    "show(1,2,3,\"swopnim\")"
   ]
  },
  {
   "cell_type": "code",
   "execution_count": 18,
   "id": "6f695e48-0c3e-465c-b1f2-27ceea57a1a2",
   "metadata": {},
   "outputs": [
    {
     "name": "stdout",
     "output_type": "stream",
     "text": [
      "1 2 3\n",
      "('swopnim', 'ghimire')\n",
      "3689\n",
      "20\n"
     ]
    }
   ],
   "source": [
    "def show(a,b,c,*args,d=10,e=20):\n",
    "    print(a,b,c)\n",
    "    print(args)\n",
    "    print(d)\n",
    "    print(e)\n",
    "\n",
    "show(1,2,3,\"swopnim\",\"ghimire\",d=3689)"
   ]
  },
  {
   "cell_type": "code",
   "execution_count": 22,
   "id": "8fbe2b44-2eda-4d40-85a5-5b5435b7a4be",
   "metadata": {},
   "outputs": [
    {
     "name": "stdout",
     "output_type": "stream",
     "text": [
      "1\n",
      "('swopnim', 'ghimire')\n",
      "100\n",
      "20\n",
      "{'name': 'swopnim'}\n"
     ]
    }
   ],
   "source": [
    "#**kwargs packs keyworded arguments into dictionay\n",
    "#format should remaain same\n",
    "#required positional arguments,packed positional arguments,default or keyworded arguments,packed keyworded args\n",
    "def show(a,b,c,*args,d=10,e=20,**kwargs):\n",
    "    print(a)\n",
    "    print(args)\n",
    "    print(d)\n",
    "    print(e)\n",
    "    print(kwargs)\n",
    "\n",
    "show(1,2,3,\"swopnim\",\"ghimire\",d=100,name=\"swopnim\")"
   ]
  },
  {
   "cell_type": "markdown",
   "id": "eb0d13d0-302e-40e8-bbbb-709324db9d60",
   "metadata": {},
   "source": [
    "''' *args collects all extra positional arguments and packages them into a tuple.\n",
    "\n",
    "**kwargs collects all extra keyword arguments and packages them into a dictionary.'''"
   ]
  },
  {
   "cell_type": "code",
   "execution_count": null,
   "id": "949fbd3f-5b19-4836-bc23-d46e87e78ebe",
   "metadata": {},
   "outputs": [],
   "source": [
    "Decorators"
   ]
  },
  {
   "cell_type": "code",
   "execution_count": 42,
   "id": "ee3e997b-6ad3-4742-8c27-df024f79fdbd",
   "metadata": {},
   "outputs": [
    {
     "name": "stdout",
     "output_type": "stream",
     "text": [
      "hello world\n",
      "hello world\n",
      "Not Authenticated\n"
     ]
    }
   ],
   "source": [
    "'''The code is a simple user authentication system that verifies a username\n",
    "and password against a hardcoded dictionary.'''\n",
    "\n",
    "users={ \"sagar\":\"password\", \"ram\":\"beautiful\"}\n",
    "def show(username,password):\n",
    "    if username in users and users[username]==password:\n",
    "        print(\"hello world\")\n",
    "    else:\n",
    "        print(\"Not Authenticated\")\n",
    "        \n",
    "show(\"sagar\",\"password\")\n",
    "show(\"ram\",\"beautiful\")\n",
    "show(\"ram\",\"handsome\")"
   ]
  },
  {
   "cell_type": "code",
   "execution_count": 45,
   "id": "f7761c77-e90f-4260-b2c6-72f09a56f56f",
   "metadata": {},
   "outputs": [
    {
     "name": "stdout",
     "output_type": "stream",
     "text": [
      "3\n",
      "Not Athenticated\n",
      "9\n"
     ]
    }
   ],
   "source": [
    "def add(username,password,a,b):\n",
    "    if username in users and users[username]== password:\n",
    "        print(a+b)\n",
    "    else:\n",
    "        print(\"Not Athenticated\")\n",
    "add(\"sagar\",\"password\",1,2)\n",
    "add(\"ram\",\"sita\",1,3)\n",
    "add(\"ram\",\"beautiful\",4,5)"
   ]
  },
  {
   "cell_type": "code",
   "execution_count": 168,
   "id": "9f4ec6b2-8633-4f83-963c-8b990d87a8bc",
   "metadata": {},
   "outputs": [
    {
     "name": "stdout",
     "output_type": "stream",
     "text": [
      "7\n",
      "25\n"
     ]
    }
   ],
   "source": [
    "#this function takes another function and wraps it in a way that it requires authentication\n",
    "def login_required(func):\n",
    "    def wrapper(username,password,*args,**kwargs):\n",
    "        if username in users and users[username]== password:\n",
    "            func(*args,**kwargs)\n",
    "        else:\n",
    "            print(\"Not Athenticated\")\n",
    "            \n",
    "    return wrapper\n",
    "\n",
    "    '''In the real world, this pattern is used to protect sensitive or critical operations. \n",
    "    You regularly use this with an ID and password to access functions that handle private\n",
    "    data or perform important actions.'''\n",
    "    \n",
    "def add(a,b):\n",
    "    print(a+b)\n",
    "add(2,5)\n",
    "\n",
    "\n",
    "\n",
    "protected_add=login_required(add)\n",
    "protected_add(\"sagar\",\"password\",1,24)"
   ]
  }
 ],
 "metadata": {
  "kernelspec": {
   "display_name": "Python 3 (ipykernel)",
   "language": "python",
   "name": "python3"
  },
  "language_info": {
   "codemirror_mode": {
    "name": "ipython",
    "version": 3
   },
   "file_extension": ".py",
   "mimetype": "text/x-python",
   "name": "python",
   "nbconvert_exporter": "python",
   "pygments_lexer": "ipython3",
   "version": "3.13.5"
  }
 },
 "nbformat": 4,
 "nbformat_minor": 5
}
